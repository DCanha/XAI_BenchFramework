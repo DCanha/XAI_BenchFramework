{
 "cells": [
  {
   "cell_type": "markdown",
   "metadata": {},
   "source": [
    "# Machine Learning Models"
   ]
  },
  {
   "cell_type": "markdown",
   "metadata": {},
   "source": [
    "## Import libraries and data"
   ]
  },
  {
   "cell_type": "code",
   "execution_count": 1,
   "metadata": {},
   "outputs": [],
   "source": [
    "set.seed(1313)\n",
    "#to have reproducible results"
   ]
  },
  {
   "cell_type": "code",
   "execution_count": 2,
   "metadata": {},
   "outputs": [],
   "source": [
    "#Import data \n",
    "testing <-  read.csv(file.path('Data/testing.csv'))\n",
    "training <-  read.csv(file.path('Data/training.csv'))\n",
    "\n",
    "testing$HeartDisease <- as.factor(testing$HeartDisease)\n",
    "testing$Sex <- as.factor(testing$Sex)\n",
    "testing$ChestPainType <- as.factor(testing$ChestPainType)\n",
    "testing$FastingBS <- as.factor(testing$FastingBS)\n",
    "testing$RestingECG <- as.factor(testing$RestingECG)\n",
    "testing$ExerciseAngina <- as.factor(testing$ExerciseAngina)\n",
    "testing$ST_Slope <- as.factor(testing$ST_Slope)\n",
    "\n",
    "row.names(testing) <- NULL\n",
    "\n",
    "training$HeartDisease <- as.factor(training$HeartDisease)\n",
    "training$Sex <- as.factor(training$Sex)\n",
    "training$ChestPainType <- as.factor(training$ChestPainType)\n",
    "training$FastingBS <- as.factor(training$FastingBS)\n",
    "training$RestingECG <- as.factor(training$RestingECG)\n",
    "training$ExerciseAngina <- as.factor(training$ExerciseAngina)\n",
    "training$ST_Slope <- as.factor(training$ST_Slope)\n",
    "  \n",
    "row.names(training) <- NULL"
   ]
  },
  {
   "cell_type": "code",
   "execution_count": 3,
   "metadata": {},
   "outputs": [
    {
     "data": {
      "text/html": [
       "<table class=\"dataframe\">\n",
       "<caption>A data.frame: 6 × 12</caption>\n",
       "<thead>\n",
       "\t<tr><th></th><th scope=col>Age</th><th scope=col>Sex</th><th scope=col>ChestPainType</th><th scope=col>RestingBP</th><th scope=col>Cholesterol</th><th scope=col>FastingBS</th><th scope=col>RestingECG</th><th scope=col>MaxHR</th><th scope=col>ExerciseAngina</th><th scope=col>Oldpeak</th><th scope=col>ST_Slope</th><th scope=col>HeartDisease</th></tr>\n",
       "\t<tr><th></th><th scope=col>&lt;int&gt;</th><th scope=col>&lt;fct&gt;</th><th scope=col>&lt;fct&gt;</th><th scope=col>&lt;int&gt;</th><th scope=col>&lt;int&gt;</th><th scope=col>&lt;fct&gt;</th><th scope=col>&lt;fct&gt;</th><th scope=col>&lt;int&gt;</th><th scope=col>&lt;fct&gt;</th><th scope=col>&lt;dbl&gt;</th><th scope=col>&lt;fct&gt;</th><th scope=col>&lt;fct&gt;</th></tr>\n",
       "</thead>\n",
       "<tbody>\n",
       "\t<tr><th scope=row>1</th><td>40</td><td>M</td><td>ATA</td><td>140</td><td>289</td><td>0</td><td>Normal</td><td>172</td><td>N</td><td>0.0</td><td>Up  </td><td>0</td></tr>\n",
       "\t<tr><th scope=row>2</th><td>49</td><td>F</td><td>NAP</td><td>160</td><td>180</td><td>0</td><td>Normal</td><td>156</td><td>N</td><td>1.0</td><td>Flat</td><td>1</td></tr>\n",
       "\t<tr><th scope=row>3</th><td>37</td><td>M</td><td>ATA</td><td>130</td><td>283</td><td>0</td><td>ST    </td><td> 98</td><td>N</td><td>0.0</td><td>Up  </td><td>0</td></tr>\n",
       "\t<tr><th scope=row>4</th><td>48</td><td>F</td><td>ASY</td><td>138</td><td>214</td><td>0</td><td>Normal</td><td>108</td><td>Y</td><td>1.5</td><td>Flat</td><td>1</td></tr>\n",
       "\t<tr><th scope=row>5</th><td>54</td><td>M</td><td>NAP</td><td>150</td><td>195</td><td>0</td><td>Normal</td><td>122</td><td>N</td><td>0.0</td><td>Up  </td><td>0</td></tr>\n",
       "\t<tr><th scope=row>6</th><td>39</td><td>M</td><td>NAP</td><td>120</td><td>339</td><td>0</td><td>Normal</td><td>170</td><td>N</td><td>0.0</td><td>Up  </td><td>0</td></tr>\n",
       "</tbody>\n",
       "</table>\n"
      ],
      "text/latex": [
       "A data.frame: 6 × 12\n",
       "\\begin{tabular}{r|llllllllllll}\n",
       "  & Age & Sex & ChestPainType & RestingBP & Cholesterol & FastingBS & RestingECG & MaxHR & ExerciseAngina & Oldpeak & ST\\_Slope & HeartDisease\\\\\n",
       "  & <int> & <fct> & <fct> & <int> & <int> & <fct> & <fct> & <int> & <fct> & <dbl> & <fct> & <fct>\\\\\n",
       "\\hline\n",
       "\t1 & 40 & M & ATA & 140 & 289 & 0 & Normal & 172 & N & 0.0 & Up   & 0\\\\\n",
       "\t2 & 49 & F & NAP & 160 & 180 & 0 & Normal & 156 & N & 1.0 & Flat & 1\\\\\n",
       "\t3 & 37 & M & ATA & 130 & 283 & 0 & ST     &  98 & N & 0.0 & Up   & 0\\\\\n",
       "\t4 & 48 & F & ASY & 138 & 214 & 0 & Normal & 108 & Y & 1.5 & Flat & 1\\\\\n",
       "\t5 & 54 & M & NAP & 150 & 195 & 0 & Normal & 122 & N & 0.0 & Up   & 0\\\\\n",
       "\t6 & 39 & M & NAP & 120 & 339 & 0 & Normal & 170 & N & 0.0 & Up   & 0\\\\\n",
       "\\end{tabular}\n"
      ],
      "text/markdown": [
       "\n",
       "A data.frame: 6 × 12\n",
       "\n",
       "| <!--/--> | Age &lt;int&gt; | Sex &lt;fct&gt; | ChestPainType &lt;fct&gt; | RestingBP &lt;int&gt; | Cholesterol &lt;int&gt; | FastingBS &lt;fct&gt; | RestingECG &lt;fct&gt; | MaxHR &lt;int&gt; | ExerciseAngina &lt;fct&gt; | Oldpeak &lt;dbl&gt; | ST_Slope &lt;fct&gt; | HeartDisease &lt;fct&gt; |\n",
       "|---|---|---|---|---|---|---|---|---|---|---|---|---|\n",
       "| 1 | 40 | M | ATA | 140 | 289 | 0 | Normal | 172 | N | 0.0 | Up   | 0 |\n",
       "| 2 | 49 | F | NAP | 160 | 180 | 0 | Normal | 156 | N | 1.0 | Flat | 1 |\n",
       "| 3 | 37 | M | ATA | 130 | 283 | 0 | ST     |  98 | N | 0.0 | Up   | 0 |\n",
       "| 4 | 48 | F | ASY | 138 | 214 | 0 | Normal | 108 | Y | 1.5 | Flat | 1 |\n",
       "| 5 | 54 | M | NAP | 150 | 195 | 0 | Normal | 122 | N | 0.0 | Up   | 0 |\n",
       "| 6 | 39 | M | NAP | 120 | 339 | 0 | Normal | 170 | N | 0.0 | Up   | 0 |\n",
       "\n"
      ],
      "text/plain": [
       "  Age Sex ChestPainType RestingBP Cholesterol FastingBS RestingECG MaxHR\n",
       "1 40  M   ATA           140       289         0         Normal     172  \n",
       "2 49  F   NAP           160       180         0         Normal     156  \n",
       "3 37  M   ATA           130       283         0         ST          98  \n",
       "4 48  F   ASY           138       214         0         Normal     108  \n",
       "5 54  M   NAP           150       195         0         Normal     122  \n",
       "6 39  M   NAP           120       339         0         Normal     170  \n",
       "  ExerciseAngina Oldpeak ST_Slope HeartDisease\n",
       "1 N              0.0     Up       0           \n",
       "2 N              1.0     Flat     1           \n",
       "3 N              0.0     Up       0           \n",
       "4 Y              1.5     Flat     1           \n",
       "5 N              0.0     Up       0           \n",
       "6 N              0.0     Up       0           "
      ]
     },
     "metadata": {},
     "output_type": "display_data"
    }
   ],
   "source": [
    "head(training)"
   ]
  },
  {
   "cell_type": "markdown",
   "metadata": {},
   "source": [
    "## Logistic Regression"
   ]
  },
  {
   "cell_type": "code",
   "execution_count": 4,
   "metadata": {},
   "outputs": [
    {
     "data": {
      "text/plain": [
       "\n",
       "Call:  glm(formula = HeartDisease ~ ., family = \"binomial\", data = training)\n",
       "\n",
       "Coefficients:\n",
       "     (Intercept)               Age              SexM  ChestPainTypeATA  \n",
       "      -5.2198222         0.0386164         2.0703913        -1.4032914  \n",
       "ChestPainTypeNAP   ChestPainTypeTA         RestingBP       Cholesterol  \n",
       "      -1.7038252        -2.6096155        -0.0001980         0.0042979  \n",
       "      FastingBS1  RestingECGNormal      RestingECGST             MaxHR  \n",
       "       0.5517711        -0.2558801         0.0139842        -0.0004554  \n",
       " ExerciseAnginaY           Oldpeak      ST_SlopeFlat        ST_SlopeUp  \n",
       "       1.2766455         0.5486903         1.6326244        -0.8596617  \n",
       "\n",
       "Degrees of Freedom: 526 Total (i.e. Null);  511 Residual\n",
       "Null Deviance:\t    727.7 \n",
       "Residual Deviance: 312.1 \tAIC: 344.1"
      ]
     },
     "metadata": {},
     "output_type": "display_data"
    }
   ],
   "source": [
    "lr.heartdisease <- glm(HeartDisease~., data = training, family = \"binomial\")\n",
    "lr.heartdisease"
   ]
  },
  {
   "cell_type": "code",
   "execution_count": 5,
   "metadata": {},
   "outputs": [
    {
     "data": {
      "text/html": [
       "<style>\n",
       ".dl-inline {width: auto; margin:0; padding: 0}\n",
       ".dl-inline>dt, .dl-inline>dd {float: none; width: auto; display: inline-block}\n",
       ".dl-inline>dt::after {content: \":\\0020\"; padding-right: .5ex}\n",
       ".dl-inline>dt:not(:first-of-type) {padding-left: .5ex}\n",
       "</style><dl class=dl-inline><dt>(Intercept)</dt><dd>-5.21982217304841</dd><dt>Age</dt><dd>0.0386164444569908</dd><dt>SexM</dt><dd>2.07039126670407</dd><dt>ChestPainTypeATA</dt><dd>-1.40329139258058</dd><dt>ChestPainTypeNAP</dt><dd>-1.70382524547197</dd><dt>ChestPainTypeTA</dt><dd>-2.6096154515069</dd><dt>RestingBP</dt><dd>-0.000198009252705956</dd><dt>Cholesterol</dt><dd>0.00429786028870435</dd><dt>FastingBS1</dt><dd>0.551771113186298</dd><dt>RestingECGNormal</dt><dd>-0.255880082649185</dd><dt>RestingECGST</dt><dd>0.0139841678431922</dd><dt>MaxHR</dt><dd>-0.000455383652286712</dd><dt>ExerciseAnginaY</dt><dd>1.2766454534769</dd><dt>Oldpeak</dt><dd>0.548690333980831</dd><dt>ST_SlopeFlat</dt><dd>1.63262438405434</dd><dt>ST_SlopeUp</dt><dd>-0.859661703488592</dd></dl>\n"
      ],
      "text/latex": [
       "\\begin{description*}\n",
       "\\item[(Intercept)] -5.21982217304841\n",
       "\\item[Age] 0.0386164444569908\n",
       "\\item[SexM] 2.07039126670407\n",
       "\\item[ChestPainTypeATA] -1.40329139258058\n",
       "\\item[ChestPainTypeNAP] -1.70382524547197\n",
       "\\item[ChestPainTypeTA] -2.6096154515069\n",
       "\\item[RestingBP] -0.000198009252705956\n",
       "\\item[Cholesterol] 0.00429786028870435\n",
       "\\item[FastingBS1] 0.551771113186298\n",
       "\\item[RestingECGNormal] -0.255880082649185\n",
       "\\item[RestingECGST] 0.0139841678431922\n",
       "\\item[MaxHR] -0.000455383652286712\n",
       "\\item[ExerciseAnginaY] 1.2766454534769\n",
       "\\item[Oldpeak] 0.548690333980831\n",
       "\\item[ST\\textbackslash{}\\_SlopeFlat] 1.63262438405434\n",
       "\\item[ST\\textbackslash{}\\_SlopeUp] -0.859661703488592\n",
       "\\end{description*}\n"
      ],
      "text/markdown": [
       "(Intercept)\n",
       ":   -5.21982217304841Age\n",
       ":   0.0386164444569908SexM\n",
       ":   2.07039126670407ChestPainTypeATA\n",
       ":   -1.40329139258058ChestPainTypeNAP\n",
       ":   -1.70382524547197ChestPainTypeTA\n",
       ":   -2.6096154515069RestingBP\n",
       ":   -0.000198009252705956Cholesterol\n",
       ":   0.00429786028870435FastingBS1\n",
       ":   0.551771113186298RestingECGNormal\n",
       ":   -0.255880082649185RestingECGST\n",
       ":   0.0139841678431922MaxHR\n",
       ":   -0.000455383652286712ExerciseAnginaY\n",
       ":   1.2766454534769Oldpeak\n",
       ":   0.548690333980831ST_SlopeFlat\n",
       ":   1.63262438405434ST_SlopeUp\n",
       ":   -0.859661703488592\n",
       "\n"
      ],
      "text/plain": [
       "     (Intercept)              Age             SexM ChestPainTypeATA \n",
       "   -5.2198221730     0.0386164445     2.0703912667    -1.4032913926 \n",
       "ChestPainTypeNAP  ChestPainTypeTA        RestingBP      Cholesterol \n",
       "   -1.7038252455    -2.6096154515    -0.0001980093     0.0042978603 \n",
       "      FastingBS1 RestingECGNormal     RestingECGST            MaxHR \n",
       "    0.5517711132    -0.2558800826     0.0139841678    -0.0004553837 \n",
       " ExerciseAnginaY          Oldpeak     ST_SlopeFlat       ST_SlopeUp \n",
       "    1.2766454535     0.5486903340     1.6326243841    -0.8596617035 "
      ]
     },
     "metadata": {},
     "output_type": "display_data"
    }
   ],
   "source": [
    "lr.heartdisease$coefficients"
   ]
  },
  {
   "cell_type": "code",
   "execution_count": 6,
   "metadata": {},
   "outputs": [
    {
     "data": {
      "text/html": [
       "0.5711582522107"
      ],
      "text/latex": [
       "0.5711582522107"
      ],
      "text/markdown": [
       "0.5711582522107"
      ],
      "text/plain": [
       "[1] 0.5711583"
      ]
     },
     "metadata": {},
     "output_type": "display_data"
    }
   ],
   "source": [
    "#McFadden's pseudo r-squared - good enough\n",
    "with(summary(lr.heartdisease), 1 - deviance/null.deviance)"
   ]
  },
  {
   "cell_type": "markdown",
   "metadata": {},
   "source": [
    "Based on the LR model, it appears that that Sex, ChestPainType, FastingBS, ExerciseAngina, Oldpeak, and ST_Slope are the most significant in predicting whether a person has heart disease. Let's check the model performance metrics."
   ]
  },
  {
   "cell_type": "code",
   "execution_count": 7,
   "metadata": {},
   "outputs": [
    {
     "data": {
      "text/plain": [
       "   \n",
       "    FALSE TRUE\n",
       "  0   251   32\n",
       "  1    29  215"
      ]
     },
     "metadata": {},
     "output_type": "display_data"
    },
    {
     "data": {
      "text/plain": [
       "   \n",
       "    FALSE TRUE\n",
       "  0    76   18\n",
       "  1    14   67"
      ]
     },
     "metadata": {},
     "output_type": "display_data"
    }
   ],
   "source": [
    "#Predictions on the train set - for lm\n",
    "predictTrain =  predict(lr.heartdisease, data=training, type = \"response\")\n",
    "\n",
    "# Confusion matrix on test set\n",
    "table_train = table(training$HeartDisease, predictTrain >= 0.5)\n",
    "table_train\n",
    "\n",
    "#Predictions on the test set\n",
    "predictTest =  predict(lr.heartdisease, newdata = testing, type = \"response\")\n",
    "\n",
    "# Confusion matrix on test set\n",
    "table_test = table(testing$HeartDisease, predictTest >= 0.5)\n",
    "table_test"
   ]
  },
  {
   "cell_type": "code",
   "execution_count": 22,
   "metadata": {},
   "outputs": [],
   "source": [
    "#TRAIN\n",
    "#Accuracy: out of all the predictions, what percentage is correctly made.\n",
    "Acc_train = (251+215)/nrow(training)\n",
    "#Precision: out of all the positive predicted, what percentage is truly positive.\n",
    "Prec_train = 215/(215+29) \n",
    "#Recall: Out of the total positive, what percentage are predicted positive. = TPR\n",
    "Recall_train = 215/(215+32)\n",
    "#F1: harmonic mean of precision and recall\n",
    "F1_train = 2 * (Prec_train * Recall_train) / (Prec_train + Recall_train)\n",
    "\n",
    "#TEST\n",
    "#Accuracy: out of all the predictions, what percentage is correctly made.\n",
    "Acc_test = (76+67)/nrow(testing) \n",
    "#Precision: out of all the positive predicted, what percentage is truly positive.\n",
    "Prec_test = 76/(76+14) \n",
    "#Recall: Out of the total positive, what percentage are predicted positive. = TPR\n",
    "Recall_test = 76/(76+18)\n",
    "#F1: harmonic mean of precision and recall\n",
    "F1_test = 2 * (Prec_test * Recall_test) / (Prec_test + Recall_test)"
   ]
  },
  {
   "cell_type": "code",
   "execution_count": 23,
   "metadata": {},
   "outputs": [
    {
     "name": "stdout",
     "output_type": "stream",
     "text": [
      "[1] \"Acc LR Train/Test 0.88 0.82\"\n",
      "[1] \"Precison LR Train/Test 0.88 0.84\"\n",
      "[1] \"Recall LR Train/Test 0.87 0.81\"\n",
      "[1] \"F1 LR Train/Test 0.88 0.83\"\n"
     ]
    }
   ],
   "source": [
    "print(paste0('Acc LR Train/Test ', round(Acc_train,2),' ', round(Acc_test,2)))\n",
    "print(paste0('Precison LR Train/Test ', round(Prec_train,2),' ', round(Prec_test,2)))\n",
    "print(paste0('Recall LR Train/Test ', round(Recall_train,2),' ', round(Recall_test,2)))\n",
    "print(paste0('F1 LR Train/Test ', round(F1_train,2),' ', round(F1_test,2)))"
   ]
  },
  {
   "cell_type": "markdown",
   "metadata": {},
   "source": [
    "## Random Forest"
   ]
  },
  {
   "cell_type": "code",
   "execution_count": 8,
   "metadata": {},
   "outputs": [
    {
     "name": "stderr",
     "output_type": "stream",
     "text": [
      "randomForest 4.7-1.1\n",
      "\n",
      "Type rfNews() to see new features/changes/bug fixes.\n",
      "\n"
     ]
    },
    {
     "data": {
      "text/plain": [
       "\n",
       "Call:\n",
       " randomForest(formula = HeartDisease ~ ., data = training, importance = TRUE) \n",
       "               Type of random forest: classification\n",
       "                     Number of trees: 500\n",
       "No. of variables tried at each split: 3\n",
       "\n",
       "        OOB estimate of  error rate: 13.47%\n",
       "Confusion matrix:\n",
       "    0   1 class.error\n",
       "0 249  34   0.1201413\n",
       "1  37 207   0.1516393"
      ]
     },
     "metadata": {},
     "output_type": "display_data"
    }
   ],
   "source": [
    "library(\"randomForest\")\n",
    "set.seed(1313)\n",
    "rf.heartdisease <-randomForest(HeartDisease~.,data=training, importance=TRUE)\n",
    "rf.heartdisease"
   ]
  },
  {
   "cell_type": "markdown",
   "metadata": {},
   "source": [
    "**Check performance**"
   ]
  },
  {
   "cell_type": "code",
   "execution_count": 11,
   "metadata": {},
   "outputs": [
    {
     "data": {
      "text/plain": [
       "   \n",
       "    FALSE TRUE\n",
       "  0   249   34\n",
       "  1    37  207"
      ]
     },
     "metadata": {},
     "output_type": "display_data"
    },
    {
     "data": {
      "text/plain": [
       "   \n",
       "    FALSE TRUE\n",
       "  0    77   17\n",
       "  1    13   68"
      ]
     },
     "metadata": {},
     "output_type": "display_data"
    }
   ],
   "source": [
    "#Predictions on the train set\n",
    "predictTrain =  predict(rf.heartdisease, data=training, type = \"prob\")\n",
    "\n",
    "# Confusion matrix on test set\n",
    "table(training$HeartDisease, predictTrain[,2] >= 0.5)\n",
    "\n",
    "#Predictions on the test set\n",
    "predictTest =  predict(rf.heartdisease, newdata = testing, type = \"prob\")\n",
    "\n",
    "# Confusion matrix on test set\n",
    "table(testing$HeartDisease, predictTest[,2] >= 0.5)"
   ]
  },
  {
   "cell_type": "code",
   "execution_count": 12,
   "metadata": {},
   "outputs": [],
   "source": [
    "#TRAIN\n",
    "#Accuracy: out of all the predictions, what percentage is correctly made.\n",
    "Acc_train = (249+207)/nrow(training)\n",
    "#Precision: out of all the positive predicted, what percentage is truly positive.\n",
    "Prec_train = 207/(207+37) \n",
    "#Recall: Out of the total positive, what percentage are predicted positive. = TPR\n",
    "Recall_train = 207/(207+34)\n",
    "#F1: harmonic mean of precision and recall\n",
    "F1_train = 2 * (Prec_train * Recall_train) / (Prec_train + Recall_train)\n",
    "\n",
    "#TEST\n",
    "#Accuracy: out of all the predictions, what percentage is correctly made.\n",
    "Acc_test = (77+68)/nrow(testing) \n",
    "#Precision: out of all the positive predicted, what percentage is truly positive.\n",
    "Prec_test = 68/(68+13) \n",
    "#Recall: Out of the total positive, what percentage are predicted positive. = TPR\n",
    "Recall_test = 68/(68+17)\n",
    "#F1: harmonic mean of precision and recall\n",
    "F1_test = 2 * (Prec_test * Recall_test) / (Prec_test + Recall_test)"
   ]
  },
  {
   "cell_type": "code",
   "execution_count": 13,
   "metadata": {},
   "outputs": [
    {
     "name": "stdout",
     "output_type": "stream",
     "text": [
      "[1] \"Acc RF Train/Test 0.87 ,0.83\"\n",
      "[1] \"Precison RF Train/Test 0.85 ,0.84\"\n",
      "[1] \"Recall RF Train/Test 0.86, 0.8\"\n",
      "[1] \"F1 RF Train/Test 0.85 0.82\"\n"
     ]
    }
   ],
   "source": [
    "print(paste0('Acc RF Train/Test ', round(Acc_train,2),' ,', round(Acc_test,2)))\n",
    "print(paste0('Precison RF Train/Test ', round(Prec_train,2),' ,', round(Prec_test,2)))\n",
    "print(paste0('Recall RF Train/Test ', round(Recall_train,2),', ', round(Recall_test,2)))\n",
    "print(paste0('F1 RF Train/Test ', round(F1_train,2),' ', round(F1_test,2)))"
   ]
  },
  {
   "cell_type": "markdown",
   "metadata": {},
   "source": [
    "## Support Vector Machine"
   ]
  },
  {
   "cell_type": "code",
   "execution_count": 14,
   "metadata": {},
   "outputs": [
    {
     "data": {
      "text/plain": [
       "\n",
       "Call:\n",
       "svm(formula = HeartDisease ~ ., data = training, type = \"C-classification\", \n",
       "    probability = TRUE)\n",
       "\n",
       "\n",
       "Parameters:\n",
       "   SVM-Type:  C-classification \n",
       " SVM-Kernel:  radial \n",
       "       cost:  1 \n",
       "\n",
       "Number of Support Vectors:  218\n"
      ]
     },
     "metadata": {},
     "output_type": "display_data"
    }
   ],
   "source": [
    "library(e1071)\n",
    "svm.heartdisease <- svm(HeartDisease ~. , data = training, type = \"C-classification\", probability = TRUE)\n",
    "svm.heartdisease"
   ]
  },
  {
   "cell_type": "code",
   "execution_count": 15,
   "metadata": {
    "collapsed": true,
    "jupyter": {
     "outputs_hidden": true
    },
    "tags": []
   },
   "outputs": [
    {
     "data": {
      "text/html": [
       "<table class=\"dataframe\">\n",
       "<caption>A matrix: 527 × 2 of type dbl</caption>\n",
       "<thead>\n",
       "\t<tr><th></th><th scope=col>0</th><th scope=col>1</th></tr>\n",
       "</thead>\n",
       "<tbody>\n",
       "\t<tr><th scope=row>1</th><td>0.96166038</td><td>0.038339619</td></tr>\n",
       "\t<tr><th scope=row>2</th><td>0.72630300</td><td>0.273697000</td></tr>\n",
       "\t<tr><th scope=row>3</th><td>0.89460820</td><td>0.105391803</td></tr>\n",
       "\t<tr><th scope=row>4</th><td>0.15354627</td><td>0.846453733</td></tr>\n",
       "\t<tr><th scope=row>5</th><td>0.91075039</td><td>0.089249608</td></tr>\n",
       "\t<tr><th scope=row>6</th><td>0.93052082</td><td>0.069479183</td></tr>\n",
       "\t<tr><th scope=row>7</th><td>0.98904352</td><td>0.010956485</td></tr>\n",
       "\t<tr><th scope=row>8</th><td>0.94037430</td><td>0.059625703</td></tr>\n",
       "\t<tr><th scope=row>9</th><td>0.97751803</td><td>0.022481966</td></tr>\n",
       "\t<tr><th scope=row>10</th><td>0.98913056</td><td>0.010869436</td></tr>\n",
       "\t<tr><th scope=row>11</th><td>0.06647894</td><td>0.933521064</td></tr>\n",
       "\t<tr><th scope=row>12</th><td>0.95971640</td><td>0.040283600</td></tr>\n",
       "\t<tr><th scope=row>13</th><td>0.98992852</td><td>0.010071477</td></tr>\n",
       "\t<tr><th scope=row>14</th><td>0.29429850</td><td>0.705701498</td></tr>\n",
       "\t<tr><th scope=row>15</th><td>0.98946199</td><td>0.010538008</td></tr>\n",
       "\t<tr><th scope=row>16</th><td>0.25823530</td><td>0.741764700</td></tr>\n",
       "\t<tr><th scope=row>17</th><td>0.97059023</td><td>0.029409773</td></tr>\n",
       "\t<tr><th scope=row>18</th><td>0.41650990</td><td>0.583490101</td></tr>\n",
       "\t<tr><th scope=row>19</th><td>0.99117221</td><td>0.008827789</td></tr>\n",
       "\t<tr><th scope=row>20</th><td>0.09229455</td><td>0.907705451</td></tr>\n",
       "\t<tr><th scope=row>21</th><td>0.96287961</td><td>0.037120395</td></tr>\n",
       "\t<tr><th scope=row>22</th><td>0.91196070</td><td>0.088039297</td></tr>\n",
       "\t<tr><th scope=row>23</th><td>0.96667269</td><td>0.033327310</td></tr>\n",
       "\t<tr><th scope=row>24</th><td>0.92659537</td><td>0.073404634</td></tr>\n",
       "\t<tr><th scope=row>25</th><td>0.05861148</td><td>0.941388515</td></tr>\n",
       "\t<tr><th scope=row>26</th><td>0.98984150</td><td>0.010158499</td></tr>\n",
       "\t<tr><th scope=row>27</th><td>0.94641155</td><td>0.053588454</td></tr>\n",
       "\t<tr><th scope=row>28</th><td>0.98123773</td><td>0.018762266</td></tr>\n",
       "\t<tr><th scope=row>29</th><td>0.98820681</td><td>0.011793194</td></tr>\n",
       "\t<tr><th scope=row>30</th><td>0.20993585</td><td>0.790064148</td></tr>\n",
       "\t<tr><th scope=row>⋮</th><td>⋮</td><td>⋮</td></tr>\n",
       "\t<tr><th scope=row>498</th><td>0.01908458</td><td>0.98091542</td></tr>\n",
       "\t<tr><th scope=row>499</th><td>0.20677723</td><td>0.79322277</td></tr>\n",
       "\t<tr><th scope=row>500</th><td>0.94352248</td><td>0.05647752</td></tr>\n",
       "\t<tr><th scope=row>501</th><td>0.73477339</td><td>0.26522661</td></tr>\n",
       "\t<tr><th scope=row>502</th><td>0.63084936</td><td>0.36915064</td></tr>\n",
       "\t<tr><th scope=row>503</th><td>0.22762213</td><td>0.77237787</td></tr>\n",
       "\t<tr><th scope=row>504</th><td>0.02917075</td><td>0.97082925</td></tr>\n",
       "\t<tr><th scope=row>505</th><td>0.08639110</td><td>0.91360890</td></tr>\n",
       "\t<tr><th scope=row>506</th><td>0.07065611</td><td>0.92934389</td></tr>\n",
       "\t<tr><th scope=row>507</th><td>0.48601863</td><td>0.51398137</td></tr>\n",
       "\t<tr><th scope=row>508</th><td>0.73448897</td><td>0.26551103</td></tr>\n",
       "\t<tr><th scope=row>509</th><td>0.86238215</td><td>0.13761785</td></tr>\n",
       "\t<tr><th scope=row>510</th><td>0.95196431</td><td>0.04803569</td></tr>\n",
       "\t<tr><th scope=row>511</th><td>0.65243889</td><td>0.34756111</td></tr>\n",
       "\t<tr><th scope=row>512</th><td>0.04093711</td><td>0.95906289</td></tr>\n",
       "\t<tr><th scope=row>513</th><td>0.96179736</td><td>0.03820264</td></tr>\n",
       "\t<tr><th scope=row>514</th><td>0.19619015</td><td>0.80380985</td></tr>\n",
       "\t<tr><th scope=row>515</th><td>0.95435125</td><td>0.04564875</td></tr>\n",
       "\t<tr><th scope=row>516</th><td>0.09077743</td><td>0.90922257</td></tr>\n",
       "\t<tr><th scope=row>517</th><td>0.95324340</td><td>0.04675660</td></tr>\n",
       "\t<tr><th scope=row>518</th><td>0.79752319</td><td>0.20247681</td></tr>\n",
       "\t<tr><th scope=row>519</th><td>0.31003326</td><td>0.68996674</td></tr>\n",
       "\t<tr><th scope=row>520</th><td>0.90847431</td><td>0.09152569</td></tr>\n",
       "\t<tr><th scope=row>521</th><td>0.12848044</td><td>0.87151956</td></tr>\n",
       "\t<tr><th scope=row>522</th><td>0.06326936</td><td>0.93673064</td></tr>\n",
       "\t<tr><th scope=row>523</th><td>0.24272452</td><td>0.75727548</td></tr>\n",
       "\t<tr><th scope=row>524</th><td>0.03603186</td><td>0.96396814</td></tr>\n",
       "\t<tr><th scope=row>525</th><td>0.06948356</td><td>0.93051644</td></tr>\n",
       "\t<tr><th scope=row>526</th><td>0.85215752</td><td>0.14784248</td></tr>\n",
       "\t<tr><th scope=row>527</th><td>0.96550714</td><td>0.03449286</td></tr>\n",
       "</tbody>\n",
       "</table>\n"
      ],
      "text/latex": [
       "A matrix: 527 × 2 of type dbl\n",
       "\\begin{tabular}{r|ll}\n",
       "  & 0 & 1\\\\\n",
       "\\hline\n",
       "\t1 & 0.96166038 & 0.038339619\\\\\n",
       "\t2 & 0.72630300 & 0.273697000\\\\\n",
       "\t3 & 0.89460820 & 0.105391803\\\\\n",
       "\t4 & 0.15354627 & 0.846453733\\\\\n",
       "\t5 & 0.91075039 & 0.089249608\\\\\n",
       "\t6 & 0.93052082 & 0.069479183\\\\\n",
       "\t7 & 0.98904352 & 0.010956485\\\\\n",
       "\t8 & 0.94037430 & 0.059625703\\\\\n",
       "\t9 & 0.97751803 & 0.022481966\\\\\n",
       "\t10 & 0.98913056 & 0.010869436\\\\\n",
       "\t11 & 0.06647894 & 0.933521064\\\\\n",
       "\t12 & 0.95971640 & 0.040283600\\\\\n",
       "\t13 & 0.98992852 & 0.010071477\\\\\n",
       "\t14 & 0.29429850 & 0.705701498\\\\\n",
       "\t15 & 0.98946199 & 0.010538008\\\\\n",
       "\t16 & 0.25823530 & 0.741764700\\\\\n",
       "\t17 & 0.97059023 & 0.029409773\\\\\n",
       "\t18 & 0.41650990 & 0.583490101\\\\\n",
       "\t19 & 0.99117221 & 0.008827789\\\\\n",
       "\t20 & 0.09229455 & 0.907705451\\\\\n",
       "\t21 & 0.96287961 & 0.037120395\\\\\n",
       "\t22 & 0.91196070 & 0.088039297\\\\\n",
       "\t23 & 0.96667269 & 0.033327310\\\\\n",
       "\t24 & 0.92659537 & 0.073404634\\\\\n",
       "\t25 & 0.05861148 & 0.941388515\\\\\n",
       "\t26 & 0.98984150 & 0.010158499\\\\\n",
       "\t27 & 0.94641155 & 0.053588454\\\\\n",
       "\t28 & 0.98123773 & 0.018762266\\\\\n",
       "\t29 & 0.98820681 & 0.011793194\\\\\n",
       "\t30 & 0.20993585 & 0.790064148\\\\\n",
       "\t⋮ & ⋮ & ⋮\\\\\n",
       "\t498 & 0.01908458 & 0.98091542\\\\\n",
       "\t499 & 0.20677723 & 0.79322277\\\\\n",
       "\t500 & 0.94352248 & 0.05647752\\\\\n",
       "\t501 & 0.73477339 & 0.26522661\\\\\n",
       "\t502 & 0.63084936 & 0.36915064\\\\\n",
       "\t503 & 0.22762213 & 0.77237787\\\\\n",
       "\t504 & 0.02917075 & 0.97082925\\\\\n",
       "\t505 & 0.08639110 & 0.91360890\\\\\n",
       "\t506 & 0.07065611 & 0.92934389\\\\\n",
       "\t507 & 0.48601863 & 0.51398137\\\\\n",
       "\t508 & 0.73448897 & 0.26551103\\\\\n",
       "\t509 & 0.86238215 & 0.13761785\\\\\n",
       "\t510 & 0.95196431 & 0.04803569\\\\\n",
       "\t511 & 0.65243889 & 0.34756111\\\\\n",
       "\t512 & 0.04093711 & 0.95906289\\\\\n",
       "\t513 & 0.96179736 & 0.03820264\\\\\n",
       "\t514 & 0.19619015 & 0.80380985\\\\\n",
       "\t515 & 0.95435125 & 0.04564875\\\\\n",
       "\t516 & 0.09077743 & 0.90922257\\\\\n",
       "\t517 & 0.95324340 & 0.04675660\\\\\n",
       "\t518 & 0.79752319 & 0.20247681\\\\\n",
       "\t519 & 0.31003326 & 0.68996674\\\\\n",
       "\t520 & 0.90847431 & 0.09152569\\\\\n",
       "\t521 & 0.12848044 & 0.87151956\\\\\n",
       "\t522 & 0.06326936 & 0.93673064\\\\\n",
       "\t523 & 0.24272452 & 0.75727548\\\\\n",
       "\t524 & 0.03603186 & 0.96396814\\\\\n",
       "\t525 & 0.06948356 & 0.93051644\\\\\n",
       "\t526 & 0.85215752 & 0.14784248\\\\\n",
       "\t527 & 0.96550714 & 0.03449286\\\\\n",
       "\\end{tabular}\n"
      ],
      "text/markdown": [
       "\n",
       "A matrix: 527 × 2 of type dbl\n",
       "\n",
       "| <!--/--> | 0 | 1 |\n",
       "|---|---|---|\n",
       "| 1 | 0.96166038 | 0.038339619 |\n",
       "| 2 | 0.72630300 | 0.273697000 |\n",
       "| 3 | 0.89460820 | 0.105391803 |\n",
       "| 4 | 0.15354627 | 0.846453733 |\n",
       "| 5 | 0.91075039 | 0.089249608 |\n",
       "| 6 | 0.93052082 | 0.069479183 |\n",
       "| 7 | 0.98904352 | 0.010956485 |\n",
       "| 8 | 0.94037430 | 0.059625703 |\n",
       "| 9 | 0.97751803 | 0.022481966 |\n",
       "| 10 | 0.98913056 | 0.010869436 |\n",
       "| 11 | 0.06647894 | 0.933521064 |\n",
       "| 12 | 0.95971640 | 0.040283600 |\n",
       "| 13 | 0.98992852 | 0.010071477 |\n",
       "| 14 | 0.29429850 | 0.705701498 |\n",
       "| 15 | 0.98946199 | 0.010538008 |\n",
       "| 16 | 0.25823530 | 0.741764700 |\n",
       "| 17 | 0.97059023 | 0.029409773 |\n",
       "| 18 | 0.41650990 | 0.583490101 |\n",
       "| 19 | 0.99117221 | 0.008827789 |\n",
       "| 20 | 0.09229455 | 0.907705451 |\n",
       "| 21 | 0.96287961 | 0.037120395 |\n",
       "| 22 | 0.91196070 | 0.088039297 |\n",
       "| 23 | 0.96667269 | 0.033327310 |\n",
       "| 24 | 0.92659537 | 0.073404634 |\n",
       "| 25 | 0.05861148 | 0.941388515 |\n",
       "| 26 | 0.98984150 | 0.010158499 |\n",
       "| 27 | 0.94641155 | 0.053588454 |\n",
       "| 28 | 0.98123773 | 0.018762266 |\n",
       "| 29 | 0.98820681 | 0.011793194 |\n",
       "| 30 | 0.20993585 | 0.790064148 |\n",
       "| ⋮ | ⋮ | ⋮ |\n",
       "| 498 | 0.01908458 | 0.98091542 |\n",
       "| 499 | 0.20677723 | 0.79322277 |\n",
       "| 500 | 0.94352248 | 0.05647752 |\n",
       "| 501 | 0.73477339 | 0.26522661 |\n",
       "| 502 | 0.63084936 | 0.36915064 |\n",
       "| 503 | 0.22762213 | 0.77237787 |\n",
       "| 504 | 0.02917075 | 0.97082925 |\n",
       "| 505 | 0.08639110 | 0.91360890 |\n",
       "| 506 | 0.07065611 | 0.92934389 |\n",
       "| 507 | 0.48601863 | 0.51398137 |\n",
       "| 508 | 0.73448897 | 0.26551103 |\n",
       "| 509 | 0.86238215 | 0.13761785 |\n",
       "| 510 | 0.95196431 | 0.04803569 |\n",
       "| 511 | 0.65243889 | 0.34756111 |\n",
       "| 512 | 0.04093711 | 0.95906289 |\n",
       "| 513 | 0.96179736 | 0.03820264 |\n",
       "| 514 | 0.19619015 | 0.80380985 |\n",
       "| 515 | 0.95435125 | 0.04564875 |\n",
       "| 516 | 0.09077743 | 0.90922257 |\n",
       "| 517 | 0.95324340 | 0.04675660 |\n",
       "| 518 | 0.79752319 | 0.20247681 |\n",
       "| 519 | 0.31003326 | 0.68996674 |\n",
       "| 520 | 0.90847431 | 0.09152569 |\n",
       "| 521 | 0.12848044 | 0.87151956 |\n",
       "| 522 | 0.06326936 | 0.93673064 |\n",
       "| 523 | 0.24272452 | 0.75727548 |\n",
       "| 524 | 0.03603186 | 0.96396814 |\n",
       "| 525 | 0.06948356 | 0.93051644 |\n",
       "| 526 | 0.85215752 | 0.14784248 |\n",
       "| 527 | 0.96550714 | 0.03449286 |\n",
       "\n"
      ],
      "text/plain": [
       "    0          1          \n",
       "1   0.96166038 0.038339619\n",
       "2   0.72630300 0.273697000\n",
       "3   0.89460820 0.105391803\n",
       "4   0.15354627 0.846453733\n",
       "5   0.91075039 0.089249608\n",
       "6   0.93052082 0.069479183\n",
       "7   0.98904352 0.010956485\n",
       "8   0.94037430 0.059625703\n",
       "9   0.97751803 0.022481966\n",
       "10  0.98913056 0.010869436\n",
       "11  0.06647894 0.933521064\n",
       "12  0.95971640 0.040283600\n",
       "13  0.98992852 0.010071477\n",
       "14  0.29429850 0.705701498\n",
       "15  0.98946199 0.010538008\n",
       "16  0.25823530 0.741764700\n",
       "17  0.97059023 0.029409773\n",
       "18  0.41650990 0.583490101\n",
       "19  0.99117221 0.008827789\n",
       "20  0.09229455 0.907705451\n",
       "21  0.96287961 0.037120395\n",
       "22  0.91196070 0.088039297\n",
       "23  0.96667269 0.033327310\n",
       "24  0.92659537 0.073404634\n",
       "25  0.05861148 0.941388515\n",
       "26  0.98984150 0.010158499\n",
       "27  0.94641155 0.053588454\n",
       "28  0.98123773 0.018762266\n",
       "29  0.98820681 0.011793194\n",
       "30  0.20993585 0.790064148\n",
       "⋮   ⋮          ⋮          \n",
       "498 0.01908458 0.98091542 \n",
       "499 0.20677723 0.79322277 \n",
       "500 0.94352248 0.05647752 \n",
       "501 0.73477339 0.26522661 \n",
       "502 0.63084936 0.36915064 \n",
       "503 0.22762213 0.77237787 \n",
       "504 0.02917075 0.97082925 \n",
       "505 0.08639110 0.91360890 \n",
       "506 0.07065611 0.92934389 \n",
       "507 0.48601863 0.51398137 \n",
       "508 0.73448897 0.26551103 \n",
       "509 0.86238215 0.13761785 \n",
       "510 0.95196431 0.04803569 \n",
       "511 0.65243889 0.34756111 \n",
       "512 0.04093711 0.95906289 \n",
       "513 0.96179736 0.03820264 \n",
       "514 0.19619015 0.80380985 \n",
       "515 0.95435125 0.04564875 \n",
       "516 0.09077743 0.90922257 \n",
       "517 0.95324340 0.04675660 \n",
       "518 0.79752319 0.20247681 \n",
       "519 0.31003326 0.68996674 \n",
       "520 0.90847431 0.09152569 \n",
       "521 0.12848044 0.87151956 \n",
       "522 0.06326936 0.93673064 \n",
       "523 0.24272452 0.75727548 \n",
       "524 0.03603186 0.96396814 \n",
       "525 0.06948356 0.93051644 \n",
       "526 0.85215752 0.14784248 \n",
       "527 0.96550714 0.03449286 "
      ]
     },
     "metadata": {},
     "output_type": "display_data"
    }
   ],
   "source": [
    "attr(predict(svm.heartdisease, training, probability=TRUE),\"probabilities\")"
   ]
  },
  {
   "cell_type": "code",
   "execution_count": 16,
   "metadata": {},
   "outputs": [
    {
     "data": {
      "text/plain": [
       "   \n",
       "    FALSE TRUE\n",
       "  0   253   30\n",
       "  1    28  216"
      ]
     },
     "metadata": {},
     "output_type": "display_data"
    },
    {
     "data": {
      "text/plain": [
       "   \n",
       "    FALSE TRUE\n",
       "  0    78   16\n",
       "  1    11   70"
      ]
     },
     "metadata": {},
     "output_type": "display_data"
    }
   ],
   "source": [
    "#Predictions on the train set - for svm\n",
    "predictTrain =  attr(predict(svm.heartdisease, training, probability=TRUE),\"probabilities\")\n",
    "\n",
    "# Confusion matrix on test set\n",
    "table_train = table(training$HeartDisease, predictTrain[,2] >= 0.5)\n",
    "table_train\n",
    "\n",
    "#Predictions on the test set\n",
    "predictTest =  attr(predict(svm.heartdisease, testing, probability=TRUE),\"probabilities\")\n",
    "\n",
    "# Confusion matrix on test set\n",
    "table_test = table(testing$HeartDisease, predictTest[,2] >= 0.5)\n",
    "table_test"
   ]
  },
  {
   "cell_type": "code",
   "execution_count": 17,
   "metadata": {},
   "outputs": [],
   "source": [
    "#TRAIN\n",
    "#Accuracy: out of all the predictions, what percentage is correctly made.\n",
    "Acc_train = (253+216)/nrow(training)\n",
    "#Precision: out of all the positive predicted, what percentage is truly positive.\n",
    "Prec_train = 216/(216+28) \n",
    "#Recall: Out of the total positive, what percentage are predicted positive. = TPR\n",
    "Recall_train = 216/(216+30)\n",
    "#F1: harmonic mean of precision and recall\n",
    "F1_train = 2 * (Prec_train * Recall_train) / (Prec_train + Recall_train)\n",
    "\n",
    "#TEST\n",
    "#Accuracy: out of all the predictions, what percentage is correctly made.\n",
    "Acc_test = (78+70)/nrow(testing) \n",
    "#Precision: out of all the positive predicted, what percentage is truly positive.\n",
    "Prec_test = 70/(70+11) \n",
    "#Recall: Out of the total positive, what percentage are predicted positive. = TPR\n",
    "Recall_test = 70/(70+16)\n",
    "#F1: harmonic mean of precision and recall\n",
    "F1_test = 2 * (Prec_test * Recall_test) / (Prec_test + Recall_test)"
   ]
  },
  {
   "cell_type": "code",
   "execution_count": 18,
   "metadata": {},
   "outputs": [
    {
     "name": "stdout",
     "output_type": "stream",
     "text": [
      "[1] \"Acc SVM Train/Test 0.89, 0.85\"\n",
      "[1] \"Precison SVM Train/Test 0.89 ,0.86\"\n",
      "[1] \"Recall SVM Train/Test 0.88 ,0.81\"\n",
      "[1] \"F1 SVM Train/Test 0.88 ,0.84\"\n"
     ]
    }
   ],
   "source": [
    "print(paste0('Acc SVM Train/Test ', round(Acc_train,2),', ', round(Acc_test,2)))\n",
    "print(paste0('Precison SVM Train/Test ', round(Prec_train,2),' ,', round(Prec_test,2)))\n",
    "print(paste0('Recall SVM Train/Test ', round(Recall_train,2),' ,', round(Recall_test,2)))\n",
    "print(paste0('F1 SVM Train/Test ', round(F1_train,2),' ,', round(F1_test,2)))"
   ]
  },
  {
   "cell_type": "markdown",
   "metadata": {},
   "source": [
    "## Predictions"
   ]
  },
  {
   "cell_type": "code",
   "execution_count": 4,
   "metadata": {},
   "outputs": [
    {
     "data": {
      "text/html": [
       "<table class=\"dataframe\">\n",
       "<caption>A data.frame: 1 × 12</caption>\n",
       "<thead>\n",
       "\t<tr><th></th><th scope=col>Age</th><th scope=col>Sex</th><th scope=col>ChestPainType</th><th scope=col>RestingBP</th><th scope=col>Cholesterol</th><th scope=col>FastingBS</th><th scope=col>RestingECG</th><th scope=col>MaxHR</th><th scope=col>ExerciseAngina</th><th scope=col>Oldpeak</th><th scope=col>ST_Slope</th><th scope=col>HeartDisease</th></tr>\n",
       "\t<tr><th></th><th scope=col>&lt;int&gt;</th><th scope=col>&lt;fct&gt;</th><th scope=col>&lt;fct&gt;</th><th scope=col>&lt;int&gt;</th><th scope=col>&lt;int&gt;</th><th scope=col>&lt;fct&gt;</th><th scope=col>&lt;fct&gt;</th><th scope=col>&lt;int&gt;</th><th scope=col>&lt;fct&gt;</th><th scope=col>&lt;dbl&gt;</th><th scope=col>&lt;fct&gt;</th><th scope=col>&lt;fct&gt;</th></tr>\n",
       "</thead>\n",
       "<tbody>\n",
       "\t<tr><th scope=row>1</th><td>37</td><td>M</td><td>ASY</td><td>140</td><td>207</td><td>0</td><td>Normal</td><td>130</td><td>Y</td><td>1.5</td><td>Flat</td><td>1</td></tr>\n",
       "</tbody>\n",
       "</table>\n"
      ],
      "text/latex": [
       "A data.frame: 1 × 12\n",
       "\\begin{tabular}{r|llllllllllll}\n",
       "  & Age & Sex & ChestPainType & RestingBP & Cholesterol & FastingBS & RestingECG & MaxHR & ExerciseAngina & Oldpeak & ST\\_Slope & HeartDisease\\\\\n",
       "  & <int> & <fct> & <fct> & <int> & <int> & <fct> & <fct> & <int> & <fct> & <dbl> & <fct> & <fct>\\\\\n",
       "\\hline\n",
       "\t1 & 37 & M & ASY & 140 & 207 & 0 & Normal & 130 & Y & 1.5 & Flat & 1\\\\\n",
       "\\end{tabular}\n"
      ],
      "text/markdown": [
       "\n",
       "A data.frame: 1 × 12\n",
       "\n",
       "| <!--/--> | Age &lt;int&gt; | Sex &lt;fct&gt; | ChestPainType &lt;fct&gt; | RestingBP &lt;int&gt; | Cholesterol &lt;int&gt; | FastingBS &lt;fct&gt; | RestingECG &lt;fct&gt; | MaxHR &lt;int&gt; | ExerciseAngina &lt;fct&gt; | Oldpeak &lt;dbl&gt; | ST_Slope &lt;fct&gt; | HeartDisease &lt;fct&gt; |\n",
       "|---|---|---|---|---|---|---|---|---|---|---|---|---|\n",
       "| 1 | 37 | M | ASY | 140 | 207 | 0 | Normal | 130 | Y | 1.5 | Flat | 1 |\n",
       "\n"
      ],
      "text/plain": [
       "  Age Sex ChestPainType RestingBP Cholesterol FastingBS RestingECG MaxHR\n",
       "1 37  M   ASY           140       207         0         Normal     130  \n",
       "  ExerciseAngina Oldpeak ST_Slope HeartDisease\n",
       "1 Y              1.5     Flat     1           "
      ]
     },
     "metadata": {},
     "output_type": "display_data"
    }
   ],
   "source": [
    "testing[1,]"
   ]
  },
  {
   "cell_type": "code",
   "execution_count": 5,
   "metadata": {},
   "outputs": [
    {
     "data": {
      "text/html": [
       "<strong>1:</strong> 0.928145062220084"
      ],
      "text/latex": [
       "\\textbf{1:} 0.928145062220084"
      ],
      "text/markdown": [
       "**1:** 0.928145062220084"
      ],
      "text/plain": [
       "        1 \n",
       "0.9281451 "
      ]
     },
     "metadata": {},
     "output_type": "display_data"
    },
    {
     "data": {
      "text/html": [
       "<table class=\"dataframe\">\n",
       "<caption>A matrix: 1 × 2 of type dbl</caption>\n",
       "<thead>\n",
       "\t<tr><th></th><th scope=col>0</th><th scope=col>1</th></tr>\n",
       "</thead>\n",
       "<tbody>\n",
       "\t<tr><th scope=row>1</th><td>0.04</td><td>0.96</td></tr>\n",
       "</tbody>\n",
       "</table>\n"
      ],
      "text/latex": [
       "A matrix: 1 × 2 of type dbl\n",
       "\\begin{tabular}{r|ll}\n",
       "  & 0 & 1\\\\\n",
       "\\hline\n",
       "\t1 & 0.04 & 0.96\\\\\n",
       "\\end{tabular}\n"
      ],
      "text/markdown": [
       "\n",
       "A matrix: 1 × 2 of type dbl\n",
       "\n",
       "| <!--/--> | 0 | 1 |\n",
       "|---|---|---|\n",
       "| 1 | 0.04 | 0.96 |\n",
       "\n"
      ],
      "text/plain": [
       "  0    1   \n",
       "1 0.04 0.96"
      ]
     },
     "metadata": {},
     "output_type": "display_data"
    },
    {
     "data": {
      "text/html": [
       "<table class=\"dataframe\">\n",
       "<caption>A matrix: 1 × 2 of type dbl</caption>\n",
       "<thead>\n",
       "\t<tr><th></th><th scope=col>0</th><th scope=col>1</th></tr>\n",
       "</thead>\n",
       "<tbody>\n",
       "\t<tr><th scope=row>1</th><td>0.07389532</td><td>0.9261047</td></tr>\n",
       "</tbody>\n",
       "</table>\n"
      ],
      "text/latex": [
       "A matrix: 1 × 2 of type dbl\n",
       "\\begin{tabular}{r|ll}\n",
       "  & 0 & 1\\\\\n",
       "\\hline\n",
       "\t1 & 0.07389532 & 0.9261047\\\\\n",
       "\\end{tabular}\n"
      ],
      "text/markdown": [
       "\n",
       "A matrix: 1 × 2 of type dbl\n",
       "\n",
       "| <!--/--> | 0 | 1 |\n",
       "|---|---|---|\n",
       "| 1 | 0.07389532 | 0.9261047 |\n",
       "\n"
      ],
      "text/plain": [
       "  0          1        \n",
       "1 0.07389532 0.9261047"
      ]
     },
     "metadata": {},
     "output_type": "display_data"
    }
   ],
   "source": [
    "predict(lr.heartdisease,testing[1,], type =\"response\") # for class 1\n",
    "predict(rf.heartdisease, testing[1,], type=\"prob\")\n",
    "attr(predict(svm.heartdisease, testing[1,], probability = TRUE), \"probabilities\")"
   ]
  },
  {
   "cell_type": "code",
   "execution_count": 21,
   "metadata": {},
   "outputs": [
    {
     "data": {
      "text/html": [
       "<table class=\"dataframe\">\n",
       "<caption>A data.frame: 1 × 12</caption>\n",
       "<thead>\n",
       "\t<tr><th></th><th scope=col>Age</th><th scope=col>Sex</th><th scope=col>ChestPainType</th><th scope=col>RestingBP</th><th scope=col>Cholesterol</th><th scope=col>FastingBS</th><th scope=col>RestingECG</th><th scope=col>MaxHR</th><th scope=col>ExerciseAngina</th><th scope=col>Oldpeak</th><th scope=col>ST_Slope</th><th scope=col>HeartDisease</th></tr>\n",
       "\t<tr><th></th><th scope=col>&lt;int&gt;</th><th scope=col>&lt;fct&gt;</th><th scope=col>&lt;fct&gt;</th><th scope=col>&lt;int&gt;</th><th scope=col>&lt;int&gt;</th><th scope=col>&lt;fct&gt;</th><th scope=col>&lt;fct&gt;</th><th scope=col>&lt;int&gt;</th><th scope=col>&lt;fct&gt;</th><th scope=col>&lt;dbl&gt;</th><th scope=col>&lt;fct&gt;</th><th scope=col>&lt;fct&gt;</th></tr>\n",
       "</thead>\n",
       "<tbody>\n",
       "\t<tr><th scope=row>15</th><td>43</td><td>F</td><td>NAP</td><td>150</td><td>254</td><td>0</td><td>Normal</td><td>175</td><td>N</td><td>0</td><td>Up</td><td>0</td></tr>\n",
       "</tbody>\n",
       "</table>\n"
      ],
      "text/latex": [
       "A data.frame: 1 × 12\n",
       "\\begin{tabular}{r|llllllllllll}\n",
       "  & Age & Sex & ChestPainType & RestingBP & Cholesterol & FastingBS & RestingECG & MaxHR & ExerciseAngina & Oldpeak & ST\\_Slope & HeartDisease\\\\\n",
       "  & <int> & <fct> & <fct> & <int> & <int> & <fct> & <fct> & <int> & <fct> & <dbl> & <fct> & <fct>\\\\\n",
       "\\hline\n",
       "\t15 & 43 & F & NAP & 150 & 254 & 0 & Normal & 175 & N & 0 & Up & 0\\\\\n",
       "\\end{tabular}\n"
      ],
      "text/markdown": [
       "\n",
       "A data.frame: 1 × 12\n",
       "\n",
       "| <!--/--> | Age &lt;int&gt; | Sex &lt;fct&gt; | ChestPainType &lt;fct&gt; | RestingBP &lt;int&gt; | Cholesterol &lt;int&gt; | FastingBS &lt;fct&gt; | RestingECG &lt;fct&gt; | MaxHR &lt;int&gt; | ExerciseAngina &lt;fct&gt; | Oldpeak &lt;dbl&gt; | ST_Slope &lt;fct&gt; | HeartDisease &lt;fct&gt; |\n",
       "|---|---|---|---|---|---|---|---|---|---|---|---|---|\n",
       "| 15 | 43 | F | NAP | 150 | 254 | 0 | Normal | 175 | N | 0 | Up | 0 |\n",
       "\n"
      ],
      "text/plain": [
       "   Age Sex ChestPainType RestingBP Cholesterol FastingBS RestingECG MaxHR\n",
       "15 43  F   NAP           150       254         0         Normal     175  \n",
       "   ExerciseAngina Oldpeak ST_Slope HeartDisease\n",
       "15 N              0       Up       0           "
      ]
     },
     "metadata": {},
     "output_type": "display_data"
    }
   ],
   "source": [
    "testing[15,]"
   ]
  },
  {
   "cell_type": "code",
   "execution_count": 6,
   "metadata": {},
   "outputs": [
    {
     "data": {
      "text/html": [
       "<strong>15:</strong> 0.00451232991528083"
      ],
      "text/latex": [
       "\\textbf{15:} 0.00451232991528083"
      ],
      "text/markdown": [
       "**15:** 0.00451232991528083"
      ],
      "text/plain": [
       "        15 \n",
       "0.00451233 "
      ]
     },
     "metadata": {},
     "output_type": "display_data"
    },
    {
     "data": {
      "text/html": [
       "<table class=\"dataframe\">\n",
       "<caption>A matrix: 1 × 2 of type dbl</caption>\n",
       "<thead>\n",
       "\t<tr><th></th><th scope=col>0</th><th scope=col>1</th></tr>\n",
       "</thead>\n",
       "<tbody>\n",
       "\t<tr><th scope=row>15</th><td>0.994</td><td>0.006</td></tr>\n",
       "</tbody>\n",
       "</table>\n"
      ],
      "text/latex": [
       "A matrix: 1 × 2 of type dbl\n",
       "\\begin{tabular}{r|ll}\n",
       "  & 0 & 1\\\\\n",
       "\\hline\n",
       "\t15 & 0.994 & 0.006\\\\\n",
       "\\end{tabular}\n"
      ],
      "text/markdown": [
       "\n",
       "A matrix: 1 × 2 of type dbl\n",
       "\n",
       "| <!--/--> | 0 | 1 |\n",
       "|---|---|---|\n",
       "| 15 | 0.994 | 0.006 |\n",
       "\n"
      ],
      "text/plain": [
       "   0     1    \n",
       "15 0.994 0.006"
      ]
     },
     "metadata": {},
     "output_type": "display_data"
    },
    {
     "data": {
      "text/html": [
       "<table class=\"dataframe\">\n",
       "<caption>A matrix: 1 × 2 of type dbl</caption>\n",
       "<thead>\n",
       "\t<tr><th></th><th scope=col>0</th><th scope=col>1</th></tr>\n",
       "</thead>\n",
       "<tbody>\n",
       "\t<tr><th scope=row>15</th><td>0.9854863</td><td>0.01451368</td></tr>\n",
       "</tbody>\n",
       "</table>\n"
      ],
      "text/latex": [
       "A matrix: 1 × 2 of type dbl\n",
       "\\begin{tabular}{r|ll}\n",
       "  & 0 & 1\\\\\n",
       "\\hline\n",
       "\t15 & 0.9854863 & 0.01451368\\\\\n",
       "\\end{tabular}\n"
      ],
      "text/markdown": [
       "\n",
       "A matrix: 1 × 2 of type dbl\n",
       "\n",
       "| <!--/--> | 0 | 1 |\n",
       "|---|---|---|\n",
       "| 15 | 0.9854863 | 0.01451368 |\n",
       "\n"
      ],
      "text/plain": [
       "   0         1         \n",
       "15 0.9854863 0.01451368"
      ]
     },
     "metadata": {},
     "output_type": "display_data"
    }
   ],
   "source": [
    "predict(lr.heartdisease,testing[15,], type =\"response\") # for class 1\n",
    "predict(rf.heartdisease, testing[15,], type=\"prob\")\n",
    "attr(predict(svm.heartdisease, testing[15,], probability = TRUE), \"probabilities\")"
   ]
  },
  {
   "cell_type": "markdown",
   "metadata": {},
   "source": [
    "**Save the models**"
   ]
  },
  {
   "cell_type": "code",
   "execution_count": 23,
   "metadata": {},
   "outputs": [],
   "source": [
    "saveRDS(lr.heartdisease, \"Models/lr.rds\")\n",
    "saveRDS(rf.heartdisease, \"Models/rf.rds\")\n",
    "saveRDS(svm.heartdisease, \"Models/svm.rds\")"
   ]
  }
 ],
 "metadata": {
  "kernelspec": {
   "display_name": "R",
   "language": "R",
   "name": "ir"
  },
  "language_info": {
   "codemirror_mode": "r",
   "file_extension": ".r",
   "mimetype": "text/x-r-source",
   "name": "R",
   "pygments_lexer": "r",
   "version": "4.2.1"
  }
 },
 "nbformat": 4,
 "nbformat_minor": 4
}
