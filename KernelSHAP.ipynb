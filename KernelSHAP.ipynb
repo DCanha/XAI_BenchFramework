{
 "cells": [
  {
   "cell_type": "markdown",
   "metadata": {},
   "source": [
    "# Adding explainability to the models - KernelSHAP"
   ]
  },
  {
   "cell_type": "markdown",
   "metadata": {
    "tags": []
   },
   "source": [
    "## Import libraries, data, and models"
   ]
  },
  {
   "cell_type": "code",
   "execution_count": 1,
   "metadata": {},
   "outputs": [],
   "source": [
    "set.seed(1313)\n",
    "#to have reproducible results"
   ]
  },
  {
   "cell_type": "code",
   "execution_count": 2,
   "metadata": {},
   "outputs": [],
   "source": [
    "#Import data \n",
    "testing <-  read.csv(file.path('testing.csv'))\n",
    "training <-  read.csv(file.path('training.csv'))\n",
    "\n",
    "testing$HeartDisease <- as.factor(testing$HeartDisease)\n",
    "testing$Sex <- as.factor(testing$Sex)\n",
    "testing$ChestPainType <- as.factor(testing$ChestPainType)\n",
    "testing$FastingBS <- as.factor(testing$FastingBS)\n",
    "testing$RestingECG <- as.factor(testing$RestingECG)\n",
    "testing$ExerciseAngina <- as.factor(testing$ExerciseAngina)\n",
    "testing$ST_Slope <- as.factor(testing$ST_Slope)\n",
    "\n",
    "row.names(testing) <- NULL\n",
    "\n",
    "training$HeartDisease <- as.factor(training$HeartDisease)\n",
    "training$Sex <- as.factor(training$Sex)\n",
    "training$ChestPainType <- as.factor(training$ChestPainType)\n",
    "training$FastingBS <- as.factor(training$FastingBS)\n",
    "training$RestingECG <- as.factor(training$RestingECG)\n",
    "training$ExerciseAngina <- as.factor(training$ExerciseAngina)\n",
    "training$ST_Slope <- as.factor(training$ST_Slope)\n",
    "  \n",
    "row.names(training) <- NULL"
   ]
  },
  {
   "cell_type": "code",
   "execution_count": 3,
   "metadata": {
    "collapsed": true,
    "jupyter": {
     "outputs_hidden": true
    },
    "tags": []
   },
   "outputs": [
    {
     "name": "stderr",
     "output_type": "stream",
     "text": [
      "randomForest 4.6-14\n",
      "Type rfNews() to see new features/changes/bug fixes.\n",
      "Warning message:\n",
      "\"package 'e1071' was built under R version 3.6.3\""
     ]
    }
   ],
   "source": [
    "#Import models\n",
    "\n",
    "library(stats)\n",
    "lr.heartdisease <- readRDS(\"lr.rds\")\n",
    "\n",
    "library(randomForest)\n",
    "rf.heartdisease <- readRDS(\"rf.rds\")\n",
    "\n",
    "#install.packages('e1071')\n",
    "library(e1071)\n",
    "svm.heartdisease <- readRDS(\"svm.rds\")"
   ]
  },
  {
   "cell_type": "markdown",
   "metadata": {},
   "source": [
    "**Import XAI packages** - with installation time analysis. After, run if necessary"
   ]
  },
  {
   "cell_type": "code",
   "execution_count": 4,
   "metadata": {
    "scrolled": true,
    "tags": []
   },
   "outputs": [],
   "source": [
    "# shapper - for kernelSHAP\n",
    "# instal shapper \n",
    "#system.time(install.packages(\"shapper\")) - already installed"
   ]
  },
  {
   "cell_type": "markdown",
   "metadata": {},
   "source": [
    "## Explanations"
   ]
  },
  {
   "cell_type": "markdown",
   "metadata": {
    "tags": []
   },
   "source": [
    "### Prepare predictors and explanators "
   ]
  },
  {
   "cell_type": "code",
   "execution_count": 4,
   "metadata": {},
   "outputs": [
    {
     "data": {
      "text/html": [
       "<table>\n",
       "<thead><tr><th scope=col>Age</th><th scope=col>Sex</th><th scope=col>ChestPainType</th><th scope=col>RestingBP</th><th scope=col>Cholesterol</th><th scope=col>FastingBS</th><th scope=col>RestingECG</th><th scope=col>MaxHR</th><th scope=col>ExerciseAngina</th><th scope=col>Oldpeak</th><th scope=col>ST_Slope</th><th scope=col>HeartDisease</th></tr></thead>\n",
       "<tbody>\n",
       "\t<tr><td>40    </td><td>M     </td><td>ATA   </td><td>140   </td><td>289   </td><td>0     </td><td>Normal</td><td>172   </td><td>N     </td><td>0.0   </td><td>Up    </td><td>0     </td></tr>\n",
       "\t<tr><td>49    </td><td>F     </td><td>NAP   </td><td>160   </td><td>180   </td><td>0     </td><td>Normal</td><td>156   </td><td>N     </td><td>1.0   </td><td>Flat  </td><td>1     </td></tr>\n",
       "\t<tr><td>37    </td><td>M     </td><td>ATA   </td><td>130   </td><td>283   </td><td>0     </td><td>ST    </td><td> 98   </td><td>N     </td><td>0.0   </td><td>Up    </td><td>0     </td></tr>\n",
       "\t<tr><td>48    </td><td>F     </td><td>ASY   </td><td>138   </td><td>214   </td><td>0     </td><td>Normal</td><td>108   </td><td>Y     </td><td>1.5   </td><td>Flat  </td><td>1     </td></tr>\n",
       "\t<tr><td>54    </td><td>M     </td><td>NAP   </td><td>150   </td><td>195   </td><td>0     </td><td>Normal</td><td>122   </td><td>N     </td><td>0.0   </td><td>Up    </td><td>0     </td></tr>\n",
       "\t<tr><td>39    </td><td>M     </td><td>NAP   </td><td>120   </td><td>339   </td><td>0     </td><td>Normal</td><td>170   </td><td>N     </td><td>0.0   </td><td>Up    </td><td>0     </td></tr>\n",
       "</tbody>\n",
       "</table>\n"
      ],
      "text/latex": [
       "\\begin{tabular}{r|llllllllllll}\n",
       " Age & Sex & ChestPainType & RestingBP & Cholesterol & FastingBS & RestingECG & MaxHR & ExerciseAngina & Oldpeak & ST\\_Slope & HeartDisease\\\\\n",
       "\\hline\n",
       "\t 40     & M      & ATA    & 140    & 289    & 0      & Normal & 172    & N      & 0.0    & Up     & 0     \\\\\n",
       "\t 49     & F      & NAP    & 160    & 180    & 0      & Normal & 156    & N      & 1.0    & Flat   & 1     \\\\\n",
       "\t 37     & M      & ATA    & 130    & 283    & 0      & ST     &  98    & N      & 0.0    & Up     & 0     \\\\\n",
       "\t 48     & F      & ASY    & 138    & 214    & 0      & Normal & 108    & Y      & 1.5    & Flat   & 1     \\\\\n",
       "\t 54     & M      & NAP    & 150    & 195    & 0      & Normal & 122    & N      & 0.0    & Up     & 0     \\\\\n",
       "\t 39     & M      & NAP    & 120    & 339    & 0      & Normal & 170    & N      & 0.0    & Up     & 0     \\\\\n",
       "\\end{tabular}\n"
      ],
      "text/markdown": [
       "\n",
       "| Age | Sex | ChestPainType | RestingBP | Cholesterol | FastingBS | RestingECG | MaxHR | ExerciseAngina | Oldpeak | ST_Slope | HeartDisease |\n",
       "|---|---|---|---|---|---|---|---|---|---|---|---|\n",
       "| 40     | M      | ATA    | 140    | 289    | 0      | Normal | 172    | N      | 0.0    | Up     | 0      |\n",
       "| 49     | F      | NAP    | 160    | 180    | 0      | Normal | 156    | N      | 1.0    | Flat   | 1      |\n",
       "| 37     | M      | ATA    | 130    | 283    | 0      | ST     |  98    | N      | 0.0    | Up     | 0      |\n",
       "| 48     | F      | ASY    | 138    | 214    | 0      | Normal | 108    | Y      | 1.5    | Flat   | 1      |\n",
       "| 54     | M      | NAP    | 150    | 195    | 0      | Normal | 122    | N      | 0.0    | Up     | 0      |\n",
       "| 39     | M      | NAP    | 120    | 339    | 0      | Normal | 170    | N      | 0.0    | Up     | 0      |\n",
       "\n"
      ],
      "text/plain": [
       "  Age Sex ChestPainType RestingBP Cholesterol FastingBS RestingECG MaxHR\n",
       "1 40  M   ATA           140       289         0         Normal     172  \n",
       "2 49  F   NAP           160       180         0         Normal     156  \n",
       "3 37  M   ATA           130       283         0         ST          98  \n",
       "4 48  F   ASY           138       214         0         Normal     108  \n",
       "5 54  M   NAP           150       195         0         Normal     122  \n",
       "6 39  M   NAP           120       339         0         Normal     170  \n",
       "  ExerciseAngina Oldpeak ST_Slope HeartDisease\n",
       "1 N              0.0     Up       0           \n",
       "2 N              1.0     Flat     1           \n",
       "3 N              0.0     Up       0           \n",
       "4 Y              1.5     Flat     1           \n",
       "5 N              0.0     Up       0           \n",
       "6 N              0.0     Up       0           "
      ]
     },
     "metadata": {},
     "output_type": "display_data"
    }
   ],
   "source": [
    "head(training)\n",
    "label.idx = 12"
   ]
  },
  {
   "cell_type": "code",
   "execution_count": 5,
   "metadata": {},
   "outputs": [],
   "source": [
    "data_train = training[,-label.idx]\n",
    "labels_train = training[,label.idx]"
   ]
  },
  {
   "cell_type": "markdown",
   "metadata": {},
   "source": [
    "**For local explanations**"
   ]
  },
  {
   "cell_type": "code",
   "execution_count": 6,
   "metadata": {},
   "outputs": [
    {
     "data": {
      "text/html": [
       "<table>\n",
       "<thead><tr><th></th><th scope=col>Age</th><th scope=col>Sex</th><th scope=col>ChestPainType</th><th scope=col>RestingBP</th><th scope=col>Cholesterol</th><th scope=col>FastingBS</th><th scope=col>RestingECG</th><th scope=col>MaxHR</th><th scope=col>ExerciseAngina</th><th scope=col>Oldpeak</th><th scope=col>ST_Slope</th></tr></thead>\n",
       "<tbody>\n",
       "\t<tr><th scope=row>16</th><td>57  </td><td>M   </td><td>ATA </td><td>140 </td><td>265 </td><td>0   </td><td>ST  </td><td>145 </td><td>Y   </td><td>1   </td><td>Flat</td></tr>\n",
       "</tbody>\n",
       "</table>\n"
      ],
      "text/latex": [
       "\\begin{tabular}{r|lllllllllll}\n",
       "  & Age & Sex & ChestPainType & RestingBP & Cholesterol & FastingBS & RestingECG & MaxHR & ExerciseAngina & Oldpeak & ST\\_Slope\\\\\n",
       "\\hline\n",
       "\t16 & 57   & M    & ATA  & 140  & 265  & 0    & ST   & 145  & Y    & 1    & Flat\\\\\n",
       "\\end{tabular}\n"
      ],
      "text/markdown": [
       "\n",
       "| <!--/--> | Age | Sex | ChestPainType | RestingBP | Cholesterol | FastingBS | RestingECG | MaxHR | ExerciseAngina | Oldpeak | ST_Slope |\n",
       "|---|---|---|---|---|---|---|---|---|---|---|---|\n",
       "| 16 | 57   | M    | ATA  | 140  | 265  | 0    | ST   | 145  | Y    | 1    | Flat |\n",
       "\n"
      ],
      "text/plain": [
       "   Age Sex ChestPainType RestingBP Cholesterol FastingBS RestingECG MaxHR\n",
       "16 57  M   ATA           140       265         0         ST         145  \n",
       "   ExerciseAngina Oldpeak ST_Slope\n",
       "16 Y              1       Flat    "
      ]
     },
     "metadata": {},
     "output_type": "display_data"
    },
    {
     "data": {
      "text/html": [
       "'true label: 1 - with heart disease'"
      ],
      "text/latex": [
       "'true label: 1 - with heart disease'"
      ],
      "text/markdown": [
       "'true label: 1 - with heart disease'"
      ],
      "text/plain": [
       "[1] \"true label: 1 - with heart disease\""
      ]
     },
     "metadata": {},
     "output_type": "display_data"
    }
   ],
   "source": [
    "i=16 # Patient A\n",
    "instance = testing[i,-label.idx]\n",
    "instance\n",
    "paste0(\"true label: \", testing[i,label.idx], \" - with heart disease\")"
   ]
  },
  {
   "cell_type": "code",
   "execution_count": 7,
   "metadata": {},
   "outputs": [
    {
     "data": {
      "text/html": [
       "<table>\n",
       "<thead><tr><th></th><th scope=col>C0</th><th scope=col>C1</th></tr></thead>\n",
       "<tbody>\n",
       "\t<tr><th scope=row>16</th><td>0.1028879</td><td>0.8971121</td></tr>\n",
       "</tbody>\n",
       "</table>\n"
      ],
      "text/latex": [
       "\\begin{tabular}{r|ll}\n",
       "  & C0 & C1\\\\\n",
       "\\hline\n",
       "\t16 & 0.1028879 & 0.8971121\\\\\n",
       "\\end{tabular}\n"
      ],
      "text/markdown": [
       "\n",
       "| <!--/--> | C0 | C1 |\n",
       "|---|---|---|\n",
       "| 16 | 0.1028879 | 0.8971121 |\n",
       "\n"
      ],
      "text/plain": [
       "   C0        C1       \n",
       "16 0.1028879 0.8971121"
      ]
     },
     "metadata": {},
     "output_type": "display_data"
    },
    {
     "data": {
      "text/html": [
       "<table>\n",
       "<thead><tr><th></th><th scope=col>0</th><th scope=col>1</th></tr></thead>\n",
       "<tbody>\n",
       "\t<tr><th scope=row>16</th><td>0.15</td><td>0.85</td></tr>\n",
       "</tbody>\n",
       "</table>\n"
      ],
      "text/latex": [
       "\\begin{tabular}{r|ll}\n",
       "  & 0 & 1\\\\\n",
       "\\hline\n",
       "\t16 & 0.15 & 0.85\\\\\n",
       "\\end{tabular}\n"
      ],
      "text/markdown": [
       "\n",
       "| <!--/--> | 0 | 1 |\n",
       "|---|---|---|\n",
       "| 16 | 0.15 | 0.85 |\n",
       "\n"
      ],
      "text/plain": [
       "   0    1   \n",
       "16 0.15 0.85"
      ]
     },
     "metadata": {},
     "output_type": "display_data"
    },
    {
     "data": {
      "text/html": [
       "<table>\n",
       "<thead><tr><th></th><th scope=col>0</th><th scope=col>1</th></tr></thead>\n",
       "<tbody>\n",
       "\t<tr><th scope=row>16</th><td>0.1158874</td><td>0.8841126</td></tr>\n",
       "</tbody>\n",
       "</table>\n"
      ],
      "text/latex": [
       "\\begin{tabular}{r|ll}\n",
       "  & 0 & 1\\\\\n",
       "\\hline\n",
       "\t16 & 0.1158874 & 0.8841126\\\\\n",
       "\\end{tabular}\n"
      ],
      "text/markdown": [
       "\n",
       "| <!--/--> | 0 | 1 |\n",
       "|---|---|---|\n",
       "| 16 | 0.1158874 | 0.8841126 |\n",
       "\n"
      ],
      "text/plain": [
       "   0         1        \n",
       "16 0.1158874 0.8841126"
      ]
     },
     "metadata": {},
     "output_type": "display_data"
    }
   ],
   "source": [
    "data.frame(\"C0\" = 1- predict(lr.heartdisease,instance, type =\"response\"),\n",
    "           \"C1\" = predict(lr.heartdisease,instance, type =\"response\"))\n",
    "predict(rf.heartdisease, instance, type=\"prob\")\n",
    "attr(predict(svm.heartdisease, instance, probability = TRUE), \"probabilities\")"
   ]
  },
  {
   "cell_type": "code",
   "execution_count": 8,
   "metadata": {},
   "outputs": [
    {
     "data": {
      "text/html": [
       "<table>\n",
       "<thead><tr><th></th><th scope=col>Age</th><th scope=col>Sex</th><th scope=col>ChestPainType</th><th scope=col>RestingBP</th><th scope=col>Cholesterol</th><th scope=col>FastingBS</th><th scope=col>RestingECG</th><th scope=col>MaxHR</th><th scope=col>ExerciseAngina</th><th scope=col>Oldpeak</th><th scope=col>ST_Slope</th></tr></thead>\n",
       "<tbody>\n",
       "\t<tr><th scope=row>27</th><td>38    </td><td>M     </td><td>ATA   </td><td>140   </td><td>297   </td><td>0     </td><td>Normal</td><td>150   </td><td>N     </td><td>0     </td><td>Up    </td></tr>\n",
       "</tbody>\n",
       "</table>\n"
      ],
      "text/latex": [
       "\\begin{tabular}{r|lllllllllll}\n",
       "  & Age & Sex & ChestPainType & RestingBP & Cholesterol & FastingBS & RestingECG & MaxHR & ExerciseAngina & Oldpeak & ST\\_Slope\\\\\n",
       "\\hline\n",
       "\t27 & 38     & M      & ATA    & 140    & 297    & 0      & Normal & 150    & N      & 0      & Up    \\\\\n",
       "\\end{tabular}\n"
      ],
      "text/markdown": [
       "\n",
       "| <!--/--> | Age | Sex | ChestPainType | RestingBP | Cholesterol | FastingBS | RestingECG | MaxHR | ExerciseAngina | Oldpeak | ST_Slope |\n",
       "|---|---|---|---|---|---|---|---|---|---|---|---|\n",
       "| 27 | 38     | M      | ATA    | 140    | 297    | 0      | Normal | 150    | N      | 0      | Up     |\n",
       "\n"
      ],
      "text/plain": [
       "   Age Sex ChestPainType RestingBP Cholesterol FastingBS RestingECG MaxHR\n",
       "27 38  M   ATA           140       297         0         Normal     150  \n",
       "   ExerciseAngina Oldpeak ST_Slope\n",
       "27 N              0       Up      "
      ]
     },
     "metadata": {},
     "output_type": "display_data"
    },
    {
     "data": {
      "text/html": [
       "'true label: 0 - healthy'"
      ],
      "text/latex": [
       "'true label: 0 - healthy'"
      ],
      "text/markdown": [
       "'true label: 0 - healthy'"
      ],
      "text/plain": [
       "[1] \"true label: 0 - healthy\""
      ]
     },
     "metadata": {},
     "output_type": "display_data"
    }
   ],
   "source": [
    "i=27 # Patient B\n",
    "instance2 = testing[i,-label.idx]\n",
    "instance2\n",
    "paste0(\"true label: \", testing[i,label.idx], \" - healthy\")"
   ]
  },
  {
   "cell_type": "code",
   "execution_count": 9,
   "metadata": {},
   "outputs": [
    {
     "data": {
      "text/html": [
       "<table>\n",
       "<thead><tr><th></th><th scope=col>C0</th><th scope=col>C1</th></tr></thead>\n",
       "<tbody>\n",
       "\t<tr><th scope=row>27</th><td>0.9534874 </td><td>0.04651257</td></tr>\n",
       "</tbody>\n",
       "</table>\n"
      ],
      "text/latex": [
       "\\begin{tabular}{r|ll}\n",
       "  & C0 & C1\\\\\n",
       "\\hline\n",
       "\t27 & 0.9534874  & 0.04651257\\\\\n",
       "\\end{tabular}\n"
      ],
      "text/markdown": [
       "\n",
       "| <!--/--> | C0 | C1 |\n",
       "|---|---|---|\n",
       "| 27 | 0.9534874  | 0.04651257 |\n",
       "\n"
      ],
      "text/plain": [
       "   C0        C1        \n",
       "27 0.9534874 0.04651257"
      ]
     },
     "metadata": {},
     "output_type": "display_data"
    },
    {
     "data": {
      "text/html": [
       "<table>\n",
       "<thead><tr><th></th><th scope=col>0</th><th scope=col>1</th></tr></thead>\n",
       "<tbody>\n",
       "\t<tr><th scope=row>16</th><td>0.15</td><td>0.85</td></tr>\n",
       "</tbody>\n",
       "</table>\n"
      ],
      "text/latex": [
       "\\begin{tabular}{r|ll}\n",
       "  & 0 & 1\\\\\n",
       "\\hline\n",
       "\t16 & 0.15 & 0.85\\\\\n",
       "\\end{tabular}\n"
      ],
      "text/markdown": [
       "\n",
       "| <!--/--> | 0 | 1 |\n",
       "|---|---|---|\n",
       "| 16 | 0.15 | 0.85 |\n",
       "\n"
      ],
      "text/plain": [
       "   0    1   \n",
       "16 0.15 0.85"
      ]
     },
     "metadata": {},
     "output_type": "display_data"
    },
    {
     "data": {
      "text/html": [
       "<table>\n",
       "<thead><tr><th></th><th scope=col>0</th><th scope=col>1</th></tr></thead>\n",
       "<tbody>\n",
       "\t<tr><th scope=row>27</th><td>0.9544355 </td><td>0.04556445</td></tr>\n",
       "</tbody>\n",
       "</table>\n"
      ],
      "text/latex": [
       "\\begin{tabular}{r|ll}\n",
       "  & 0 & 1\\\\\n",
       "\\hline\n",
       "\t27 & 0.9544355  & 0.04556445\\\\\n",
       "\\end{tabular}\n"
      ],
      "text/markdown": [
       "\n",
       "| <!--/--> | 0 | 1 |\n",
       "|---|---|---|\n",
       "| 27 | 0.9544355  | 0.04556445 |\n",
       "\n"
      ],
      "text/plain": [
       "   0         1         \n",
       "27 0.9544355 0.04556445"
      ]
     },
     "metadata": {},
     "output_type": "display_data"
    }
   ],
   "source": [
    "data.frame(\"C0\" = 1- predict(lr.heartdisease,instance2, type =\"response\"),\n",
    "           \"C1\" = predict(lr.heartdisease,instance2, type =\"response\"))\n",
    "predict(rf.heartdisease, instance, type=\"prob\")\n",
    "attr(predict(svm.heartdisease, instance2, probability = TRUE), \"probabilities\")"
   ]
  },
  {
   "cell_type": "code",
   "execution_count": 10,
   "metadata": {},
   "outputs": [
    {
     "data": {
      "text/html": [
       "<table>\n",
       "<thead><tr><th></th><th scope=col>Age</th><th scope=col>Sex</th><th scope=col>ChestPainType</th><th scope=col>RestingBP</th><th scope=col>Cholesterol</th><th scope=col>FastingBS</th><th scope=col>RestingECG</th><th scope=col>MaxHR</th><th scope=col>ExerciseAngina</th><th scope=col>Oldpeak</th><th scope=col>ST_Slope</th></tr></thead>\n",
       "<tbody>\n",
       "\t<tr><th scope=row>35</th><td>49    </td><td>M     </td><td>NAP   </td><td>115   </td><td>265   </td><td>0     </td><td>Normal</td><td>175   </td><td>N     </td><td>0     </td><td>Flat  </td></tr>\n",
       "</tbody>\n",
       "</table>\n"
      ],
      "text/latex": [
       "\\begin{tabular}{r|lllllllllll}\n",
       "  & Age & Sex & ChestPainType & RestingBP & Cholesterol & FastingBS & RestingECG & MaxHR & ExerciseAngina & Oldpeak & ST\\_Slope\\\\\n",
       "\\hline\n",
       "\t35 & 49     & M      & NAP    & 115    & 265    & 0      & Normal & 175    & N      & 0      & Flat  \\\\\n",
       "\\end{tabular}\n"
      ],
      "text/markdown": [
       "\n",
       "| <!--/--> | Age | Sex | ChestPainType | RestingBP | Cholesterol | FastingBS | RestingECG | MaxHR | ExerciseAngina | Oldpeak | ST_Slope |\n",
       "|---|---|---|---|---|---|---|---|---|---|---|---|\n",
       "| 35 | 49     | M      | NAP    | 115    | 265    | 0      | Normal | 175    | N      | 0      | Flat   |\n",
       "\n"
      ],
      "text/plain": [
       "   Age Sex ChestPainType RestingBP Cholesterol FastingBS RestingECG MaxHR\n",
       "35 49  M   NAP           115       265         0         Normal     175  \n",
       "   ExerciseAngina Oldpeak ST_Slope\n",
       "35 N              0       Flat    "
      ]
     },
     "metadata": {},
     "output_type": "display_data"
    },
    {
     "data": {
      "text/html": [
       "'true label: 1 - with heart disease'"
      ],
      "text/latex": [
       "'true label: 1 - with heart disease'"
      ],
      "text/markdown": [
       "'true label: 1 - with heart disease'"
      ],
      "text/plain": [
       "[1] \"true label: 1 - with heart disease\""
      ]
     },
     "metadata": {},
     "output_type": "display_data"
    }
   ],
   "source": [
    "i=35 #Patient C - heart disease with uncertain probability - close to 0.5\n",
    "instance3 = testing[i,-label.idx]\n",
    "instance3\n",
    "paste0(\"true label: \", testing[i,label.idx], \" - with heart disease\")"
   ]
  },
  {
   "cell_type": "code",
   "execution_count": 11,
   "metadata": {},
   "outputs": [
    {
     "data": {
      "text/html": [
       "<table>\n",
       "<thead><tr><th></th><th scope=col>C0</th><th scope=col>C1</th></tr></thead>\n",
       "<tbody>\n",
       "\t<tr><th scope=row>35</th><td>0.63</td><td>0.37</td></tr>\n",
       "</tbody>\n",
       "</table>\n"
      ],
      "text/latex": [
       "\\begin{tabular}{r|ll}\n",
       "  & C0 & C1\\\\\n",
       "\\hline\n",
       "\t35 & 0.63 & 0.37\\\\\n",
       "\\end{tabular}\n"
      ],
      "text/markdown": [
       "\n",
       "| <!--/--> | C0 | C1 |\n",
       "|---|---|---|\n",
       "| 35 | 0.63 | 0.37 |\n",
       "\n"
      ],
      "text/plain": [
       "   C0   C1  \n",
       "35 0.63 0.37"
      ]
     },
     "metadata": {},
     "output_type": "display_data"
    },
    {
     "data": {
      "text/html": [
       "<table>\n",
       "<thead><tr><th></th><th scope=col>0</th><th scope=col>1</th></tr></thead>\n",
       "<tbody>\n",
       "\t<tr><th scope=row>35</th><td>0.578</td><td>0.422</td></tr>\n",
       "</tbody>\n",
       "</table>\n"
      ],
      "text/latex": [
       "\\begin{tabular}{r|ll}\n",
       "  & 0 & 1\\\\\n",
       "\\hline\n",
       "\t35 & 0.578 & 0.422\\\\\n",
       "\\end{tabular}\n"
      ],
      "text/markdown": [
       "\n",
       "| <!--/--> | 0 | 1 |\n",
       "|---|---|---|\n",
       "| 35 | 0.578 | 0.422 |\n",
       "\n"
      ],
      "text/plain": [
       "   0     1    \n",
       "35 0.578 0.422"
      ]
     },
     "metadata": {},
     "output_type": "display_data"
    },
    {
     "data": {
      "text/html": [
       "<table>\n",
       "<thead><tr><th></th><th scope=col>0</th><th scope=col>1</th></tr></thead>\n",
       "<tbody>\n",
       "\t<tr><th scope=row>35</th><td>0.54</td><td>0.46</td></tr>\n",
       "</tbody>\n",
       "</table>\n"
      ],
      "text/latex": [
       "\\begin{tabular}{r|ll}\n",
       "  & 0 & 1\\\\\n",
       "\\hline\n",
       "\t35 & 0.54 & 0.46\\\\\n",
       "\\end{tabular}\n"
      ],
      "text/markdown": [
       "\n",
       "| <!--/--> | 0 | 1 |\n",
       "|---|---|---|\n",
       "| 35 | 0.54 | 0.46 |\n",
       "\n"
      ],
      "text/plain": [
       "   0    1   \n",
       "35 0.54 0.46"
      ]
     },
     "metadata": {},
     "output_type": "display_data"
    }
   ],
   "source": [
    "round(data.frame(\"C0\" = 1- predict(lr.heartdisease,instance3, type =\"response\"),\n",
    "           \"C1\" = predict(lr.heartdisease,instance3, type =\"response\")),2)\n",
    "predict(rf.heartdisease, instance3, type=\"prob\")\n",
    "round(attr(predict(svm.heartdisease, instance3, probability = TRUE), \"probabilities\"),2)"
   ]
  },
  {
   "cell_type": "code",
   "execution_count": 12,
   "metadata": {},
   "outputs": [
    {
     "name": "stderr",
     "output_type": "stream",
     "text": [
      "Warning message:\n",
      "\"package 'shapper' was built under R version 3.6.3\"Registered S3 methods overwritten by 'ggplot2':\n",
      "  method         from \n",
      "  [.quosures     rlang\n",
      "  c.quosures     rlang\n",
      "  print.quosures rlang\n"
     ]
    }
   ],
   "source": [
    "#####For (kernel)shap\n",
    "#create predictor for creation of ive objects (shap) - also necessary for CIU\n",
    "pred_lr <- function(x, newdata, type,...) data.frame(\"C0\" = 1-as.numeric(predict(x,newdata,type =\"response\")),\n",
    "                                                    \"C1\" = as.numeric(predict(x,newdata, type =\"response\")))                             \n",
    "pred_rf <- function(x, newdata, type,...) predict(x, newdata, type=\"prob\")\n",
    "pred_svm <- function(x, newdata,...) as.data.frame(attr(predict(x, newdata, probability = TRUE), \"probabilities\"))\n",
    "library(shapper)"
   ]
  },
  {
   "cell_type": "markdown",
   "metadata": {},
   "source": [
    "### KernelSHAP"
   ]
  },
  {
   "cell_type": "markdown",
   "metadata": {},
   "source": [
    "#### Patient A"
   ]
  },
  {
   "cell_type": "code",
   "execution_count": 17,
   "metadata": {
    "tags": []
   },
   "outputs": [
    {
     "data": {
      "text/plain": [
       "   user  system elapsed \n",
       "  20.45    3.89   58.62 "
      ]
     },
     "metadata": {},
     "output_type": "display_data"
    },
    {
     "data": {
      "text/plain": [
       "   user  system elapsed \n",
       "  40.53    0.75   44.72 "
      ]
     },
     "metadata": {},
     "output_type": "display_data"
    },
    {
     "data": {
      "text/plain": [
       "   user  system elapsed \n",
       "  42.97    0.86   47.02 "
      ]
     },
     "metadata": {},
     "output_type": "display_data"
    }
   ],
   "source": [
    "library(shapper)\n",
    "#ive for individuable variable effect - patient A\n",
    "system.time(ive_lr_long <- individual_variable_effect(lr.heartdisease, data = data_train, \n",
    "                                                 predict_function = pred_lr,new_observation = instance))\n",
    "system.time(ive_rf_long <- individual_variable_effect(rf.heartdisease, data = data_train, \n",
    "                                                 predict_function = pred_rf, new_observation = instance))\n",
    "system.time(ive_svm_long <- individual_variable_effect(svm.heartdisease, data = data_train, \n",
    "                                                  predict_function = pred_svm, new_observation = instance))\n",
    "#default: nsamples = 2 * X.shape[1] + 2048 = 2070 - this takes a looooong time; \n",
    "#next the same but with nsamples=100, like in shapley and ciu; "
   ]
  },
  {
   "cell_type": "code",
   "execution_count": 18,
   "metadata": {},
   "outputs": [
    {
     "data": {
      "image/png": "[encoded data removed]",
      "text/plain": [
       "plot without title"
      ]
     },
     "metadata": {},
     "output_type": "display_data"
    },
    {
     "data": {
      "image/png": "[encoded data removed]",
      "text/plain": [
       "plot without title"
      ]
     },
     "metadata": {},
     "output_type": "display_data"
    },
    {
     "data": {
      "image/png": "[encoded data removed]",
      "text/plain": [
       "plot without title"
      ]
     },
     "metadata": {},
     "output_type": "display_data"
    }
   ],
   "source": [
    "plot(ive_lr_long)\n",
    "plot(ive_rf_long)\n",
    "plot(ive_svm_long)"
   ]
  },
  {
   "cell_type": "code",
   "execution_count": 19,
   "metadata": {},
   "outputs": [
    {
     "data": {
      "image/png": "[encoded data removed]",
      "text/plain": [
       "plot without title"
      ]
     },
     "metadata": {},
     "output_type": "display_data"
    },
    {
     "data": {
      "image/png": "[encoded data removed]",
      "text/plain": [
       "plot without title"
      ]
     },
     "metadata": {},
     "output_type": "display_data"
    },
    {
     "data": {
      "image/png": "[encoded data removed]",
      "text/plain": [
       "plot without title"
      ]
     },
     "metadata": {},
     "output_type": "display_data"
    }
   ],
   "source": [
    "# filtered lr- only class 1\n",
    "ive_lr_filtered <- dplyr::filter(ive_lr_long, `_ylevel_` == \"C1\")\n",
    "shapper:::plot.individual_variable_effect(ive_lr_filtered)\n",
    "# filtered rf- only class 1\n",
    "ive_rf_filtered <- dplyr::filter(ive_rf_long, `_ylevel_` == \"1\")\n",
    "shapper:::plot.individual_variable_effect(ive_rf_filtered)\n",
    "# filtered svm- only class 1\n",
    "ive_svm_filtered <- dplyr::filter(ive_svm_long, `_ylevel_` == \"1\")\n",
    "shapper:::plot.individual_variable_effect(ive_svm_filtered)"
   ]
  },
  {
   "cell_type": "code",
   "execution_count": 20,
   "metadata": {},
   "outputs": [
    {
     "data": {
      "text/html": [
       "TRUE"
      ],
      "text/latex": [
       "TRUE"
      ],
      "text/markdown": [
       "TRUE"
      ],
      "text/plain": [
       "[1] TRUE"
      ]
     },
     "metadata": {},
     "output_type": "display_data"
    }
   ],
   "source": [
    "# sum of the shapley values (class 1, SVM model)\n",
    "sum_shap <- sum(ive_svm_filtered[\"_attribution_\"])\n",
    "# f(x)-E[f(x)] = sum(shapley_values) ?\n",
    "ive_svm_filtered[\"_yhat_\"][1,] - ive_svm_filtered[\"_yhat_mean_\"][1,] == sum_shap"
   ]
  },
  {
   "cell_type": "code",
   "execution_count": 21,
   "metadata": {
    "collapsed": true,
    "jupyter": {
     "outputs_hidden": true
    }
   },
   "outputs": [
    {
     "data": {
      "text/html": [
       "<table>\n",
       "<thead><tr><th></th><th scope=col>Age</th><th scope=col>Sex</th><th scope=col>ChestPainType</th><th scope=col>RestingBP</th><th scope=col>Cholesterol</th><th scope=col>FastingBS</th><th scope=col>RestingECG</th><th scope=col>MaxHR</th><th scope=col>ExerciseAngina</th><th scope=col>Oldpeak</th><th scope=col>ST_Slope</th><th scope=col>_id_</th><th scope=col>_ylevel_</th><th scope=col>_yhat_</th><th scope=col>_yhat_mean_</th><th scope=col>_vname_</th><th scope=col>_attribution_</th><th scope=col>_sign_</th><th scope=col>_label_</th></tr></thead>\n",
       "<tbody>\n",
       "\t<tr><th scope=row>16</th><td>57            </td><td>M             </td><td>ATA           </td><td>140           </td><td>265           </td><td>0             </td><td>ST            </td><td>145           </td><td>Y             </td><td>1             </td><td>Flat          </td><td>1             </td><td>C0            </td><td>0.1028879     </td><td>0.5370019     </td><td>Age           </td><td>-0.0225241466 </td><td>-             </td><td>lm            </td></tr>\n",
       "\t<tr><th scope=row>16.2</th><td>57            </td><td>M             </td><td>ATA           </td><td>140           </td><td>265           </td><td>0             </td><td>ST            </td><td>145           </td><td>Y             </td><td>1             </td><td>Flat          </td><td>1             </td><td>C0            </td><td>0.1028879     </td><td>0.5370019     </td><td>Sex           </td><td>-0.0753676565 </td><td>-             </td><td>lm            </td></tr>\n",
       "\t<tr><th scope=row>16.3</th><td>57            </td><td>M             </td><td>ATA           </td><td>140           </td><td>265           </td><td>0             </td><td>ST            </td><td>145           </td><td>Y             </td><td>1             </td><td>Flat          </td><td>1             </td><td>C0            </td><td>0.1028879     </td><td>0.5370019     </td><td>ChestPainType </td><td> 0.0462407012 </td><td>+             </td><td>lm            </td></tr>\n",
       "\t<tr><th scope=row>16.4</th><td>57            </td><td>M             </td><td>ATA           </td><td>140           </td><td>265           </td><td>0             </td><td>ST            </td><td>145           </td><td>Y             </td><td>1             </td><td>Flat          </td><td>1             </td><td>C0            </td><td>0.1028879     </td><td>0.5370019     </td><td>RestingBP     </td><td> 0.0002143455 </td><td>+             </td><td>lm            </td></tr>\n",
       "\t<tr><th scope=row>16.5</th><td>57            </td><td>M             </td><td>ATA           </td><td>140           </td><td>265           </td><td>0             </td><td>ST            </td><td>145           </td><td>Y             </td><td>1             </td><td>Flat          </td><td>1             </td><td>C0            </td><td>0.1028879     </td><td>0.5370019     </td><td>Cholesterol   </td><td>-0.0138860067 </td><td>-             </td><td>lm            </td></tr>\n",
       "\t<tr><th scope=row>16.6</th><td>57            </td><td>M             </td><td>ATA           </td><td>140           </td><td>265           </td><td>0             </td><td>ST            </td><td>145           </td><td>Y             </td><td>1             </td><td>Flat          </td><td>1             </td><td>C0            </td><td>0.1028879     </td><td>0.5370019     </td><td>FastingBS     </td><td> 0.0086522568 </td><td>+             </td><td>lm            </td></tr>\n",
       "\t<tr><th scope=row>16.7</th><td>57            </td><td>M             </td><td>ATA           </td><td>140           </td><td>265           </td><td>0             </td><td>ST            </td><td>145           </td><td>Y             </td><td>1             </td><td>Flat          </td><td>1             </td><td>C0            </td><td>0.1028879     </td><td>0.5370019     </td><td>RestingECG    </td><td>-0.0202114934 </td><td>-             </td><td>lm            </td></tr>\n",
       "\t<tr><th scope=row>16.8</th><td>57            </td><td>M             </td><td>ATA           </td><td>140           </td><td>265           </td><td>0             </td><td>ST            </td><td>145           </td><td>Y             </td><td>1             </td><td>Flat          </td><td>1             </td><td>C0            </td><td>0.1028879     </td><td>0.5370019     </td><td>MaxHR         </td><td> 0.0000674028 </td><td>+             </td><td>lm            </td></tr>\n",
       "\t<tr><th scope=row>16.9</th><td>57            </td><td>M             </td><td>ATA           </td><td>140           </td><td>265           </td><td>0             </td><td>ST            </td><td>145           </td><td>Y             </td><td>1             </td><td>Flat          </td><td>1             </td><td>C0            </td><td>0.1028879     </td><td>0.5370019     </td><td>ExerciseAngina</td><td>-0.1194191499 </td><td>-             </td><td>lm            </td></tr>\n",
       "\t<tr><th scope=row>16.10</th><td>57            </td><td>M             </td><td>ATA           </td><td>140           </td><td>265           </td><td>0             </td><td>ST            </td><td>145           </td><td>Y             </td><td>1             </td><td>Flat          </td><td>1             </td><td>C0            </td><td>0.1028879     </td><td>0.5370019     </td><td>Oldpeak       </td><td>-0.0204363312 </td><td>-             </td><td>lm            </td></tr>\n",
       "\t<tr><th scope=row>16.11</th><td>57            </td><td>M             </td><td>ATA           </td><td>140           </td><td>265           </td><td>0             </td><td>ST            </td><td>145           </td><td>Y             </td><td>1             </td><td>Flat          </td><td>1             </td><td>C0            </td><td>0.1028879     </td><td>0.5370019     </td><td>ST_Slope      </td><td>-0.2174438869 </td><td>-             </td><td>lm            </td></tr>\n",
       "\t<tr><th scope=row>16.1</th><td>57            </td><td>M             </td><td>ATA           </td><td>140           </td><td>265           </td><td>0             </td><td>ST            </td><td>145           </td><td>Y             </td><td>1             </td><td>Flat          </td><td>1             </td><td>C1            </td><td>0.8971121     </td><td>0.4629981     </td><td>Age           </td><td> 0.0225241466 </td><td>+             </td><td>lm            </td></tr>\n",
       "\t<tr><th scope=row>16.1.1</th><td>57            </td><td>M             </td><td>ATA           </td><td>140           </td><td>265           </td><td>0             </td><td>ST            </td><td>145           </td><td>Y             </td><td>1             </td><td>Flat          </td><td>1             </td><td>C1            </td><td>0.8971121     </td><td>0.4629981     </td><td>Sex           </td><td> 0.0753676565 </td><td>+             </td><td>lm            </td></tr>\n",
       "\t<tr><th scope=row>16.1.2</th><td>57            </td><td>M             </td><td>ATA           </td><td>140           </td><td>265           </td><td>0             </td><td>ST            </td><td>145           </td><td>Y             </td><td>1             </td><td>Flat          </td><td>1             </td><td>C1            </td><td>0.8971121     </td><td>0.4629981     </td><td>ChestPainType </td><td>-0.0462407012 </td><td>-             </td><td>lm            </td></tr>\n",
       "\t<tr><th scope=row>16.1.3</th><td>57            </td><td>M             </td><td>ATA           </td><td>140           </td><td>265           </td><td>0             </td><td>ST            </td><td>145           </td><td>Y             </td><td>1             </td><td>Flat          </td><td>1             </td><td>C1            </td><td>0.8971121     </td><td>0.4629981     </td><td>RestingBP     </td><td>-0.0002143455 </td><td>-             </td><td>lm            </td></tr>\n",
       "\t<tr><th scope=row>16.1.4</th><td>57            </td><td>M             </td><td>ATA           </td><td>140           </td><td>265           </td><td>0             </td><td>ST            </td><td>145           </td><td>Y             </td><td>1             </td><td>Flat          </td><td>1             </td><td>C1            </td><td>0.8971121     </td><td>0.4629981     </td><td>Cholesterol   </td><td> 0.0138860067 </td><td>+             </td><td>lm            </td></tr>\n",
       "\t<tr><th scope=row>16.1.5</th><td>57            </td><td>M             </td><td>ATA           </td><td>140           </td><td>265           </td><td>0             </td><td>ST            </td><td>145           </td><td>Y             </td><td>1             </td><td>Flat          </td><td>1             </td><td>C1            </td><td>0.8971121     </td><td>0.4629981     </td><td>FastingBS     </td><td>-0.0086522568 </td><td>-             </td><td>lm            </td></tr>\n",
       "\t<tr><th scope=row>16.1.6</th><td>57            </td><td>M             </td><td>ATA           </td><td>140           </td><td>265           </td><td>0             </td><td>ST            </td><td>145           </td><td>Y             </td><td>1             </td><td>Flat          </td><td>1             </td><td>C1            </td><td>0.8971121     </td><td>0.4629981     </td><td>RestingECG    </td><td> 0.0202114934 </td><td>+             </td><td>lm            </td></tr>\n",
       "\t<tr><th scope=row>16.1.7</th><td>57            </td><td>M             </td><td>ATA           </td><td>140           </td><td>265           </td><td>0             </td><td>ST            </td><td>145           </td><td>Y             </td><td>1             </td><td>Flat          </td><td>1             </td><td>C1            </td><td>0.8971121     </td><td>0.4629981     </td><td>MaxHR         </td><td>-0.0000674028 </td><td>-             </td><td>lm            </td></tr>\n",
       "\t<tr><th scope=row>16.1.8</th><td>57            </td><td>M             </td><td>ATA           </td><td>140           </td><td>265           </td><td>0             </td><td>ST            </td><td>145           </td><td>Y             </td><td>1             </td><td>Flat          </td><td>1             </td><td>C1            </td><td>0.8971121     </td><td>0.4629981     </td><td>ExerciseAngina</td><td> 0.1194191499 </td><td>+             </td><td>lm            </td></tr>\n",
       "\t<tr><th scope=row>16.1.9</th><td>57            </td><td>M             </td><td>ATA           </td><td>140           </td><td>265           </td><td>0             </td><td>ST            </td><td>145           </td><td>Y             </td><td>1             </td><td>Flat          </td><td>1             </td><td>C1            </td><td>0.8971121     </td><td>0.4629981     </td><td>Oldpeak       </td><td> 0.0204363312 </td><td>+             </td><td>lm            </td></tr>\n",
       "\t<tr><th scope=row>16.1.10</th><td>57            </td><td>M             </td><td>ATA           </td><td>140           </td><td>265           </td><td>0             </td><td>ST            </td><td>145           </td><td>Y             </td><td>1             </td><td>Flat          </td><td>1             </td><td>C1            </td><td>0.8971121     </td><td>0.4629981     </td><td>ST_Slope      </td><td> 0.2174438869 </td><td>+             </td><td>lm            </td></tr>\n",
       "</tbody>\n",
       "</table>\n"
      ],
      "text/latex": [
       "\\begin{tabular}{r|lllllllllllllllllll}\n",
       "  & Age & Sex & ChestPainType & RestingBP & Cholesterol & FastingBS & RestingECG & MaxHR & ExerciseAngina & Oldpeak & ST\\_Slope & \\_id\\_ & \\_ylevel\\_ & \\_yhat\\_ & \\_yhat\\_mean\\_ & \\_vname\\_ & \\_attribution\\_ & \\_sign\\_ & \\_label\\_\\\\\n",
       "\\hline\n",
       "\t16 & 57             & M              & ATA            & 140            & 265            & 0              & ST             & 145            & Y              & 1              & Flat           & 1              & C0             & 0.1028879      & 0.5370019      & Age            & -0.0225241466  & -              & lm            \\\\\n",
       "\t16.2 & 57             & M              & ATA            & 140            & 265            & 0              & ST             & 145            & Y              & 1              & Flat           & 1              & C0             & 0.1028879      & 0.5370019      & Sex            & -0.0753676565  & -              & lm            \\\\\n",
       "\t16.3 & 57             & M              & ATA            & 140            & 265            & 0              & ST             & 145            & Y              & 1              & Flat           & 1              & C0             & 0.1028879      & 0.5370019      & ChestPainType  &  0.0462407012  & +              & lm            \\\\\n",
       "\t16.4 & 57             & M              & ATA            & 140            & 265            & 0              & ST             & 145            & Y              & 1              & Flat           & 1              & C0             & 0.1028879      & 0.5370019      & RestingBP      &  0.0002143455  & +              & lm            \\\\\n",
       "\t16.5 & 57             & M              & ATA            & 140            & 265            & 0              & ST             & 145            & Y              & 1              & Flat           & 1              & C0             & 0.1028879      & 0.5370019      & Cholesterol    & -0.0138860067  & -              & lm            \\\\\n",
       "\t16.6 & 57             & M              & ATA            & 140            & 265            & 0              & ST             & 145            & Y              & 1              & Flat           & 1              & C0             & 0.1028879      & 0.5370019      & FastingBS      &  0.0086522568  & +              & lm            \\\\\n",
       "\t16.7 & 57             & M              & ATA            & 140            & 265            & 0              & ST             & 145            & Y              & 1              & Flat           & 1              & C0             & 0.1028879      & 0.5370019      & RestingECG     & -0.0202114934  & -              & lm            \\\\\n",
       "\t16.8 & 57             & M              & ATA            & 140            & 265            & 0              & ST             & 145            & Y              & 1              & Flat           & 1              & C0             & 0.1028879      & 0.5370019      & MaxHR          &  0.0000674028  & +              & lm            \\\\\n",
       "\t16.9 & 57             & M              & ATA            & 140            & 265            & 0              & ST             & 145            & Y              & 1              & Flat           & 1              & C0             & 0.1028879      & 0.5370019      & ExerciseAngina & -0.1194191499  & -              & lm            \\\\\n",
       "\t16.10 & 57             & M              & ATA            & 140            & 265            & 0              & ST             & 145            & Y              & 1              & Flat           & 1              & C0             & 0.1028879      & 0.5370019      & Oldpeak        & -0.0204363312  & -              & lm            \\\\\n",
       "\t16.11 & 57               & M                & ATA              & 140              & 265              & 0                & ST               & 145              & Y                & 1                & Flat             & 1                & C0               & 0.1028879        & 0.5370019        & ST\\_Slope       & -0.2174438869    & -                & lm              \\\\\n",
       "\t16.1 & 57             & M              & ATA            & 140            & 265            & 0              & ST             & 145            & Y              & 1              & Flat           & 1              & C1             & 0.8971121      & 0.4629981      & Age            &  0.0225241466  & +              & lm            \\\\\n",
       "\t16.1.1 & 57             & M              & ATA            & 140            & 265            & 0              & ST             & 145            & Y              & 1              & Flat           & 1              & C1             & 0.8971121      & 0.4629981      & Sex            &  0.0753676565  & +              & lm            \\\\\n",
       "\t16.1.2 & 57             & M              & ATA            & 140            & 265            & 0              & ST             & 145            & Y              & 1              & Flat           & 1              & C1             & 0.8971121      & 0.4629981      & ChestPainType  & -0.0462407012  & -              & lm            \\\\\n",
       "\t16.1.3 & 57             & M              & ATA            & 140            & 265            & 0              & ST             & 145            & Y              & 1              & Flat           & 1              & C1             & 0.8971121      & 0.4629981      & RestingBP      & -0.0002143455  & -              & lm            \\\\\n",
       "\t16.1.4 & 57             & M              & ATA            & 140            & 265            & 0              & ST             & 145            & Y              & 1              & Flat           & 1              & C1             & 0.8971121      & 0.4629981      & Cholesterol    &  0.0138860067  & +              & lm            \\\\\n",
       "\t16.1.5 & 57             & M              & ATA            & 140            & 265            & 0              & ST             & 145            & Y              & 1              & Flat           & 1              & C1             & 0.8971121      & 0.4629981      & FastingBS      & -0.0086522568  & -              & lm            \\\\\n",
       "\t16.1.6 & 57             & M              & ATA            & 140            & 265            & 0              & ST             & 145            & Y              & 1              & Flat           & 1              & C1             & 0.8971121      & 0.4629981      & RestingECG     &  0.0202114934  & +              & lm            \\\\\n",
       "\t16.1.7 & 57             & M              & ATA            & 140            & 265            & 0              & ST             & 145            & Y              & 1              & Flat           & 1              & C1             & 0.8971121      & 0.4629981      & MaxHR          & -0.0000674028  & -              & lm            \\\\\n",
       "\t16.1.8 & 57             & M              & ATA            & 140            & 265            & 0              & ST             & 145            & Y              & 1              & Flat           & 1              & C1             & 0.8971121      & 0.4629981      & ExerciseAngina &  0.1194191499  & +              & lm            \\\\\n",
       "\t16.1.9 & 57             & M              & ATA            & 140            & 265            & 0              & ST             & 145            & Y              & 1              & Flat           & 1              & C1             & 0.8971121      & 0.4629981      & Oldpeak        &  0.0204363312  & +              & lm            \\\\\n",
       "\t16.1.10 & 57               & M                & ATA              & 140              & 265              & 0                & ST               & 145              & Y                & 1                & Flat             & 1                & C1               & 0.8971121        & 0.4629981        & ST\\_Slope       &  0.2174438869    & +                & lm              \\\\\n",
       "\\end{tabular}\n"
      ],
      "text/markdown": [
       "\n",
       "| <!--/--> | Age | Sex | ChestPainType | RestingBP | Cholesterol | FastingBS | RestingECG | MaxHR | ExerciseAngina | Oldpeak | ST_Slope | _id_ | _ylevel_ | _yhat_ | _yhat_mean_ | _vname_ | _attribution_ | _sign_ | _label_ |\n",
       "|---|---|---|---|---|---|---|---|---|---|---|---|---|---|---|---|---|---|---|---|\n",
       "| 16 | 57             | M              | ATA            | 140            | 265            | 0              | ST             | 145            | Y              | 1              | Flat           | 1              | C0             | 0.1028879      | 0.5370019      | Age            | -0.0225241466  | -              | lm             |\n",
       "| 16.2 | 57             | M              | ATA            | 140            | 265            | 0              | ST             | 145            | Y              | 1              | Flat           | 1              | C0             | 0.1028879      | 0.5370019      | Sex            | -0.0753676565  | -              | lm             |\n",
       "| 16.3 | 57             | M              | ATA            | 140            | 265            | 0              | ST             | 145            | Y              | 1              | Flat           | 1              | C0             | 0.1028879      | 0.5370019      | ChestPainType  |  0.0462407012  | +              | lm             |\n",
       "| 16.4 | 57             | M              | ATA            | 140            | 265            | 0              | ST             | 145            | Y              | 1              | Flat           | 1              | C0             | 0.1028879      | 0.5370019      | RestingBP      |  0.0002143455  | +              | lm             |\n",
       "| 16.5 | 57             | M              | ATA            | 140            | 265            | 0              | ST             | 145            | Y              | 1              | Flat           | 1              | C0             | 0.1028879      | 0.5370019      | Cholesterol    | -0.0138860067  | -              | lm             |\n",
       "| 16.6 | 57             | M              | ATA            | 140            | 265            | 0              | ST             | 145            | Y              | 1              | Flat           | 1              | C0             | 0.1028879      | 0.5370019      | FastingBS      |  0.0086522568  | +              | lm             |\n",
       "| 16.7 | 57             | M              | ATA            | 140            | 265            | 0              | ST             | 145            | Y              | 1              | Flat           | 1              | C0             | 0.1028879      | 0.5370019      | RestingECG     | -0.0202114934  | -              | lm             |\n",
       "| 16.8 | 57             | M              | ATA            | 140            | 265            | 0              | ST             | 145            | Y              | 1              | Flat           | 1              | C0             | 0.1028879      | 0.5370019      | MaxHR          |  0.0000674028  | +              | lm             |\n",
       "| 16.9 | 57             | M              | ATA            | 140            | 265            | 0              | ST             | 145            | Y              | 1              | Flat           | 1              | C0             | 0.1028879      | 0.5370019      | ExerciseAngina | -0.1194191499  | -              | lm             |\n",
       "| 16.10 | 57             | M              | ATA            | 140            | 265            | 0              | ST             | 145            | Y              | 1              | Flat           | 1              | C0             | 0.1028879      | 0.5370019      | Oldpeak        | -0.0204363312  | -              | lm             |\n",
       "| 16.11 | 57             | M              | ATA            | 140            | 265            | 0              | ST             | 145            | Y              | 1              | Flat           | 1              | C0             | 0.1028879      | 0.5370019      | ST_Slope       | -0.2174438869  | -              | lm             |\n",
       "| 16.1 | 57             | M              | ATA            | 140            | 265            | 0              | ST             | 145            | Y              | 1              | Flat           | 1              | C1             | 0.8971121      | 0.4629981      | Age            |  0.0225241466  | +              | lm             |\n",
       "| 16.1.1 | 57             | M              | ATA            | 140            | 265            | 0              | ST             | 145            | Y              | 1              | Flat           | 1              | C1             | 0.8971121      | 0.4629981      | Sex            |  0.0753676565  | +              | lm             |\n",
       "| 16.1.2 | 57             | M              | ATA            | 140            | 265            | 0              | ST             | 145            | Y              | 1              | Flat           | 1              | C1             | 0.8971121      | 0.4629981      | ChestPainType  | -0.0462407012  | -              | lm             |\n",
       "| 16.1.3 | 57             | M              | ATA            | 140            | 265            | 0              | ST             | 145            | Y              | 1              | Flat           | 1              | C1             | 0.8971121      | 0.4629981      | RestingBP      | -0.0002143455  | -              | lm             |\n",
       "| 16.1.4 | 57             | M              | ATA            | 140            | 265            | 0              | ST             | 145            | Y              | 1              | Flat           | 1              | C1             | 0.8971121      | 0.4629981      | Cholesterol    |  0.0138860067  | +              | lm             |\n",
       "| 16.1.5 | 57             | M              | ATA            | 140            | 265            | 0              | ST             | 145            | Y              | 1              | Flat           | 1              | C1             | 0.8971121      | 0.4629981      | FastingBS      | -0.0086522568  | -              | lm             |\n",
       "| 16.1.6 | 57             | M              | ATA            | 140            | 265            | 0              | ST             | 145            | Y              | 1              | Flat           | 1              | C1             | 0.8971121      | 0.4629981      | RestingECG     |  0.0202114934  | +              | lm             |\n",
       "| 16.1.7 | 57             | M              | ATA            | 140            | 265            | 0              | ST             | 145            | Y              | 1              | Flat           | 1              | C1             | 0.8971121      | 0.4629981      | MaxHR          | -0.0000674028  | -              | lm             |\n",
       "| 16.1.8 | 57             | M              | ATA            | 140            | 265            | 0              | ST             | 145            | Y              | 1              | Flat           | 1              | C1             | 0.8971121      | 0.4629981      | ExerciseAngina |  0.1194191499  | +              | lm             |\n",
       "| 16.1.9 | 57             | M              | ATA            | 140            | 265            | 0              | ST             | 145            | Y              | 1              | Flat           | 1              | C1             | 0.8971121      | 0.4629981      | Oldpeak        |  0.0204363312  | +              | lm             |\n",
       "| 16.1.10 | 57             | M              | ATA            | 140            | 265            | 0              | ST             | 145            | Y              | 1              | Flat           | 1              | C1             | 0.8971121      | 0.4629981      | ST_Slope       |  0.2174438869  | +              | lm             |\n",
       "\n"
      ],
      "text/plain": [
       "        Age Sex ChestPainType RestingBP Cholesterol FastingBS RestingECG MaxHR\n",
       "16      57  M   ATA           140       265         0         ST         145  \n",
       "16.2    57  M   ATA           140       265         0         ST         145  \n",
       "16.3    57  M   ATA           140       265         0         ST         145  \n",
       "16.4    57  M   ATA           140       265         0         ST         145  \n",
       "16.5    57  M   ATA           140       265         0         ST         145  \n",
       "16.6    57  M   ATA           140       265         0         ST         145  \n",
       "16.7    57  M   ATA           140       265         0         ST         145  \n",
       "16.8    57  M   ATA           140       265         0         ST         145  \n",
       "16.9    57  M   ATA           140       265         0         ST         145  \n",
       "16.10   57  M   ATA           140       265         0         ST         145  \n",
       "16.11   57  M   ATA           140       265         0         ST         145  \n",
       "16.1    57  M   ATA           140       265         0         ST         145  \n",
       "16.1.1  57  M   ATA           140       265         0         ST         145  \n",
       "16.1.2  57  M   ATA           140       265         0         ST         145  \n",
       "16.1.3  57  M   ATA           140       265         0         ST         145  \n",
       "16.1.4  57  M   ATA           140       265         0         ST         145  \n",
       "16.1.5  57  M   ATA           140       265         0         ST         145  \n",
       "16.1.6  57  M   ATA           140       265         0         ST         145  \n",
       "16.1.7  57  M   ATA           140       265         0         ST         145  \n",
       "16.1.8  57  M   ATA           140       265         0         ST         145  \n",
       "16.1.9  57  M   ATA           140       265         0         ST         145  \n",
       "16.1.10 57  M   ATA           140       265         0         ST         145  \n",
       "        ExerciseAngina Oldpeak ST_Slope _id_ _ylevel_ _yhat_    _yhat_mean_\n",
       "16      Y              1       Flat     1    C0       0.1028879 0.5370019  \n",
       "16.2    Y              1       Flat     1    C0       0.1028879 0.5370019  \n",
       "16.3    Y              1       Flat     1    C0       0.1028879 0.5370019  \n",
       "16.4    Y              1       Flat     1    C0       0.1028879 0.5370019  \n",
       "16.5    Y              1       Flat     1    C0       0.1028879 0.5370019  \n",
       "16.6    Y              1       Flat     1    C0       0.1028879 0.5370019  \n",
       "16.7    Y              1       Flat     1    C0       0.1028879 0.5370019  \n",
       "16.8    Y              1       Flat     1    C0       0.1028879 0.5370019  \n",
       "16.9    Y              1       Flat     1    C0       0.1028879 0.5370019  \n",
       "16.10   Y              1       Flat     1    C0       0.1028879 0.5370019  \n",
       "16.11   Y              1       Flat     1    C0       0.1028879 0.5370019  \n",
       "16.1    Y              1       Flat     1    C1       0.8971121 0.4629981  \n",
       "16.1.1  Y              1       Flat     1    C1       0.8971121 0.4629981  \n",
       "16.1.2  Y              1       Flat     1    C1       0.8971121 0.4629981  \n",
       "16.1.3  Y              1       Flat     1    C1       0.8971121 0.4629981  \n",
       "16.1.4  Y              1       Flat     1    C1       0.8971121 0.4629981  \n",
       "16.1.5  Y              1       Flat     1    C1       0.8971121 0.4629981  \n",
       "16.1.6  Y              1       Flat     1    C1       0.8971121 0.4629981  \n",
       "16.1.7  Y              1       Flat     1    C1       0.8971121 0.4629981  \n",
       "16.1.8  Y              1       Flat     1    C1       0.8971121 0.4629981  \n",
       "16.1.9  Y              1       Flat     1    C1       0.8971121 0.4629981  \n",
       "16.1.10 Y              1       Flat     1    C1       0.8971121 0.4629981  \n",
       "        _vname_        _attribution_ _sign_ _label_\n",
       "16      Age            -0.0225241466 -      lm     \n",
       "16.2    Sex            -0.0753676565 -      lm     \n",
       "16.3    ChestPainType   0.0462407012 +      lm     \n",
       "16.4    RestingBP       0.0002143455 +      lm     \n",
       "16.5    Cholesterol    -0.0138860067 -      lm     \n",
       "16.6    FastingBS       0.0086522568 +      lm     \n",
       "16.7    RestingECG     -0.0202114934 -      lm     \n",
       "16.8    MaxHR           0.0000674028 +      lm     \n",
       "16.9    ExerciseAngina -0.1194191499 -      lm     \n",
       "16.10   Oldpeak        -0.0204363312 -      lm     \n",
       "16.11   ST_Slope       -0.2174438869 -      lm     \n",
       "16.1    Age             0.0225241466 +      lm     \n",
       "16.1.1  Sex             0.0753676565 +      lm     \n",
       "16.1.2  ChestPainType  -0.0462407012 -      lm     \n",
       "16.1.3  RestingBP      -0.0002143455 -      lm     \n",
       "16.1.4  Cholesterol     0.0138860067 +      lm     \n",
       "16.1.5  FastingBS      -0.0086522568 -      lm     \n",
       "16.1.6  RestingECG      0.0202114934 +      lm     \n",
       "16.1.7  MaxHR          -0.0000674028 -      lm     \n",
       "16.1.8  ExerciseAngina  0.1194191499 +      lm     \n",
       "16.1.9  Oldpeak         0.0204363312 +      lm     \n",
       "16.1.10 ST_Slope        0.2174438869 +      lm     "
      ]
     },
     "metadata": {},
     "output_type": "display_data"
    },
    {
     "data": {
      "text/html": [
       "<table>\n",
       "<thead><tr><th></th><th scope=col>Age</th><th scope=col>Sex</th><th scope=col>ChestPainType</th><th scope=col>RestingBP</th><th scope=col>Cholesterol</th><th scope=col>FastingBS</th><th scope=col>RestingECG</th><th scope=col>MaxHR</th><th scope=col>ExerciseAngina</th><th scope=col>Oldpeak</th><th scope=col>ST_Slope</th><th scope=col>_id_</th><th scope=col>_ylevel_</th><th scope=col>_yhat_</th><th scope=col>_yhat_mean_</th><th scope=col>_vname_</th><th scope=col>_attribution_</th><th scope=col>_sign_</th><th scope=col>_label_</th></tr></thead>\n",
       "<tbody>\n",
       "\t<tr><th scope=row>16</th><td>57            </td><td>M             </td><td>ATA           </td><td>140           </td><td>265           </td><td>0             </td><td>ST            </td><td>145           </td><td>Y             </td><td>1             </td><td>Flat          </td><td>1             </td><td>0             </td><td>0.15          </td><td>0.5382884     </td><td>Age           </td><td>-0.046688559  </td><td>-             </td><td>randomForest  </td></tr>\n",
       "\t<tr><th scope=row>16.2</th><td>57            </td><td>M             </td><td>ATA           </td><td>140           </td><td>265           </td><td>0             </td><td>ST            </td><td>145           </td><td>Y             </td><td>1             </td><td>Flat          </td><td>1             </td><td>0             </td><td>0.15          </td><td>0.5382884     </td><td>Sex           </td><td>-0.033121427  </td><td>-             </td><td>randomForest  </td></tr>\n",
       "\t<tr><th scope=row>16.3</th><td>57            </td><td>M             </td><td>ATA           </td><td>140           </td><td>265           </td><td>0             </td><td>ST            </td><td>145           </td><td>Y             </td><td>1             </td><td>Flat          </td><td>1             </td><td>0             </td><td>0.15          </td><td>0.5382884     </td><td>ChestPainType </td><td> 0.062823698  </td><td>+             </td><td>randomForest  </td></tr>\n",
       "\t<tr><th scope=row>16.4</th><td>57            </td><td>M             </td><td>ATA           </td><td>140           </td><td>265           </td><td>0             </td><td>ST            </td><td>145           </td><td>Y             </td><td>1             </td><td>Flat          </td><td>1             </td><td>0             </td><td>0.15          </td><td>0.5382884     </td><td>RestingBP     </td><td>-0.008588375  </td><td>-             </td><td>randomForest  </td></tr>\n",
       "\t<tr><th scope=row>16.5</th><td>57            </td><td>M             </td><td>ATA           </td><td>140           </td><td>265           </td><td>0             </td><td>ST            </td><td>145           </td><td>Y             </td><td>1             </td><td>Flat          </td><td>1             </td><td>0             </td><td>0.15          </td><td>0.5382884     </td><td>Cholesterol   </td><td>-0.025920692  </td><td>-             </td><td>randomForest  </td></tr>\n",
       "\t<tr><th scope=row>16.6</th><td>57            </td><td>M             </td><td>ATA           </td><td>140           </td><td>265           </td><td>0             </td><td>ST            </td><td>145           </td><td>Y             </td><td>1             </td><td>Flat          </td><td>1             </td><td>0             </td><td>0.15          </td><td>0.5382884     </td><td>FastingBS     </td><td> 0.001972130  </td><td>+             </td><td>randomForest  </td></tr>\n",
       "\t<tr><th scope=row>16.7</th><td>57            </td><td>M             </td><td>ATA           </td><td>140           </td><td>265           </td><td>0             </td><td>ST            </td><td>145           </td><td>Y             </td><td>1             </td><td>Flat          </td><td>1             </td><td>0             </td><td>0.15          </td><td>0.5382884     </td><td>RestingECG    </td><td>-0.026303488  </td><td>-             </td><td>randomForest  </td></tr>\n",
       "\t<tr><th scope=row>16.8</th><td>57            </td><td>M             </td><td>ATA           </td><td>140           </td><td>265           </td><td>0             </td><td>ST            </td><td>145           </td><td>Y             </td><td>1             </td><td>Flat          </td><td>1             </td><td>0             </td><td>0.15          </td><td>0.5382884     </td><td>MaxHR         </td><td>-0.019702774  </td><td>-             </td><td>randomForest  </td></tr>\n",
       "\t<tr><th scope=row>16.9</th><td>57            </td><td>M             </td><td>ATA           </td><td>140           </td><td>265           </td><td>0             </td><td>ST            </td><td>145           </td><td>Y             </td><td>1             </td><td>Flat          </td><td>1             </td><td>0             </td><td>0.15          </td><td>0.5382884     </td><td>ExerciseAngina</td><td>-0.091081226  </td><td>-             </td><td>randomForest  </td></tr>\n",
       "\t<tr><th scope=row>16.10</th><td>57            </td><td>M             </td><td>ATA           </td><td>140           </td><td>265           </td><td>0             </td><td>ST            </td><td>145           </td><td>Y             </td><td>1             </td><td>Flat          </td><td>1             </td><td>0             </td><td>0.15          </td><td>0.5382884     </td><td>Oldpeak       </td><td>-0.008829225  </td><td>-             </td><td>randomForest  </td></tr>\n",
       "\t<tr><th scope=row>16.11</th><td>57            </td><td>M             </td><td>ATA           </td><td>140           </td><td>265           </td><td>0             </td><td>ST            </td><td>145           </td><td>Y             </td><td>1             </td><td>Flat          </td><td>1             </td><td>0             </td><td>0.15          </td><td>0.5382884     </td><td>ST_Slope      </td><td>-0.192848486  </td><td>-             </td><td>randomForest  </td></tr>\n",
       "\t<tr><th scope=row>16.1</th><td>57            </td><td>M             </td><td>ATA           </td><td>140           </td><td>265           </td><td>0             </td><td>ST            </td><td>145           </td><td>Y             </td><td>1             </td><td>Flat          </td><td>1             </td><td>1             </td><td>0.85          </td><td>0.4617116     </td><td>Age           </td><td> 0.046688559  </td><td>+             </td><td>randomForest  </td></tr>\n",
       "\t<tr><th scope=row>16.1.1</th><td>57            </td><td>M             </td><td>ATA           </td><td>140           </td><td>265           </td><td>0             </td><td>ST            </td><td>145           </td><td>Y             </td><td>1             </td><td>Flat          </td><td>1             </td><td>1             </td><td>0.85          </td><td>0.4617116     </td><td>Sex           </td><td> 0.033121427  </td><td>+             </td><td>randomForest  </td></tr>\n",
       "\t<tr><th scope=row>16.1.2</th><td>57            </td><td>M             </td><td>ATA           </td><td>140           </td><td>265           </td><td>0             </td><td>ST            </td><td>145           </td><td>Y             </td><td>1             </td><td>Flat          </td><td>1             </td><td>1             </td><td>0.85          </td><td>0.4617116     </td><td>ChestPainType </td><td>-0.062823698  </td><td>-             </td><td>randomForest  </td></tr>\n",
       "\t<tr><th scope=row>16.1.3</th><td>57            </td><td>M             </td><td>ATA           </td><td>140           </td><td>265           </td><td>0             </td><td>ST            </td><td>145           </td><td>Y             </td><td>1             </td><td>Flat          </td><td>1             </td><td>1             </td><td>0.85          </td><td>0.4617116     </td><td>RestingBP     </td><td> 0.008588375  </td><td>+             </td><td>randomForest  </td></tr>\n",
       "\t<tr><th scope=row>16.1.4</th><td>57            </td><td>M             </td><td>ATA           </td><td>140           </td><td>265           </td><td>0             </td><td>ST            </td><td>145           </td><td>Y             </td><td>1             </td><td>Flat          </td><td>1             </td><td>1             </td><td>0.85          </td><td>0.4617116     </td><td>Cholesterol   </td><td> 0.025920692  </td><td>+             </td><td>randomForest  </td></tr>\n",
       "\t<tr><th scope=row>16.1.5</th><td>57            </td><td>M             </td><td>ATA           </td><td>140           </td><td>265           </td><td>0             </td><td>ST            </td><td>145           </td><td>Y             </td><td>1             </td><td>Flat          </td><td>1             </td><td>1             </td><td>0.85          </td><td>0.4617116     </td><td>FastingBS     </td><td>-0.001972130  </td><td>-             </td><td>randomForest  </td></tr>\n",
       "\t<tr><th scope=row>16.1.6</th><td>57            </td><td>M             </td><td>ATA           </td><td>140           </td><td>265           </td><td>0             </td><td>ST            </td><td>145           </td><td>Y             </td><td>1             </td><td>Flat          </td><td>1             </td><td>1             </td><td>0.85          </td><td>0.4617116     </td><td>RestingECG    </td><td> 0.026303488  </td><td>+             </td><td>randomForest  </td></tr>\n",
       "\t<tr><th scope=row>16.1.7</th><td>57            </td><td>M             </td><td>ATA           </td><td>140           </td><td>265           </td><td>0             </td><td>ST            </td><td>145           </td><td>Y             </td><td>1             </td><td>Flat          </td><td>1             </td><td>1             </td><td>0.85          </td><td>0.4617116     </td><td>MaxHR         </td><td> 0.019702774  </td><td>+             </td><td>randomForest  </td></tr>\n",
       "\t<tr><th scope=row>16.1.8</th><td>57            </td><td>M             </td><td>ATA           </td><td>140           </td><td>265           </td><td>0             </td><td>ST            </td><td>145           </td><td>Y             </td><td>1             </td><td>Flat          </td><td>1             </td><td>1             </td><td>0.85          </td><td>0.4617116     </td><td>ExerciseAngina</td><td> 0.091081226  </td><td>+             </td><td>randomForest  </td></tr>\n",
       "\t<tr><th scope=row>16.1.9</th><td>57            </td><td>M             </td><td>ATA           </td><td>140           </td><td>265           </td><td>0             </td><td>ST            </td><td>145           </td><td>Y             </td><td>1             </td><td>Flat          </td><td>1             </td><td>1             </td><td>0.85          </td><td>0.4617116     </td><td>Oldpeak       </td><td> 0.008829225  </td><td>+             </td><td>randomForest  </td></tr>\n",
       "\t<tr><th scope=row>16.1.10</th><td>57            </td><td>M             </td><td>ATA           </td><td>140           </td><td>265           </td><td>0             </td><td>ST            </td><td>145           </td><td>Y             </td><td>1             </td><td>Flat          </td><td>1             </td><td>1             </td><td>0.85          </td><td>0.4617116     </td><td>ST_Slope      </td><td> 0.192848486  </td><td>+             </td><td>randomForest  </td></tr>\n",
       "</tbody>\n",
       "</table>\n"
      ],
      "text/latex": [
       "\\begin{tabular}{r|lllllllllllllllllll}\n",
       "  & Age & Sex & ChestPainType & RestingBP & Cholesterol & FastingBS & RestingECG & MaxHR & ExerciseAngina & Oldpeak & ST\\_Slope & \\_id\\_ & \\_ylevel\\_ & \\_yhat\\_ & \\_yhat\\_mean\\_ & \\_vname\\_ & \\_attribution\\_ & \\_sign\\_ & \\_label\\_\\\\\n",
       "\\hline\n",
       "\t16 & 57             & M              & ATA            & 140            & 265            & 0              & ST             & 145            & Y              & 1              & Flat           & 1              & 0              & 0.15           & 0.5382884      & Age            & -0.046688559   & -              & randomForest  \\\\\n",
       "\t16.2 & 57             & M              & ATA            & 140            & 265            & 0              & ST             & 145            & Y              & 1              & Flat           & 1              & 0              & 0.15           & 0.5382884      & Sex            & -0.033121427   & -              & randomForest  \\\\\n",
       "\t16.3 & 57             & M              & ATA            & 140            & 265            & 0              & ST             & 145            & Y              & 1              & Flat           & 1              & 0              & 0.15           & 0.5382884      & ChestPainType  &  0.062823698   & +              & randomForest  \\\\\n",
       "\t16.4 & 57             & M              & ATA            & 140            & 265            & 0              & ST             & 145            & Y              & 1              & Flat           & 1              & 0              & 0.15           & 0.5382884      & RestingBP      & -0.008588375   & -              & randomForest  \\\\\n",
       "\t16.5 & 57             & M              & ATA            & 140            & 265            & 0              & ST             & 145            & Y              & 1              & Flat           & 1              & 0              & 0.15           & 0.5382884      & Cholesterol    & -0.025920692   & -              & randomForest  \\\\\n",
       "\t16.6 & 57             & M              & ATA            & 140            & 265            & 0              & ST             & 145            & Y              & 1              & Flat           & 1              & 0              & 0.15           & 0.5382884      & FastingBS      &  0.001972130   & +              & randomForest  \\\\\n",
       "\t16.7 & 57             & M              & ATA            & 140            & 265            & 0              & ST             & 145            & Y              & 1              & Flat           & 1              & 0              & 0.15           & 0.5382884      & RestingECG     & -0.026303488   & -              & randomForest  \\\\\n",
       "\t16.8 & 57             & M              & ATA            & 140            & 265            & 0              & ST             & 145            & Y              & 1              & Flat           & 1              & 0              & 0.15           & 0.5382884      & MaxHR          & -0.019702774   & -              & randomForest  \\\\\n",
       "\t16.9 & 57             & M              & ATA            & 140            & 265            & 0              & ST             & 145            & Y              & 1              & Flat           & 1              & 0              & 0.15           & 0.5382884      & ExerciseAngina & -0.091081226   & -              & randomForest  \\\\\n",
       "\t16.10 & 57             & M              & ATA            & 140            & 265            & 0              & ST             & 145            & Y              & 1              & Flat           & 1              & 0              & 0.15           & 0.5382884      & Oldpeak        & -0.008829225   & -              & randomForest  \\\\\n",
       "\t16.11 & 57               & M                & ATA              & 140              & 265              & 0                & ST               & 145              & Y                & 1                & Flat             & 1                & 0                & 0.15             & 0.5382884        & ST\\_Slope       & -0.192848486     & -                & randomForest    \\\\\n",
       "\t16.1 & 57             & M              & ATA            & 140            & 265            & 0              & ST             & 145            & Y              & 1              & Flat           & 1              & 1              & 0.85           & 0.4617116      & Age            &  0.046688559   & +              & randomForest  \\\\\n",
       "\t16.1.1 & 57             & M              & ATA            & 140            & 265            & 0              & ST             & 145            & Y              & 1              & Flat           & 1              & 1              & 0.85           & 0.4617116      & Sex            &  0.033121427   & +              & randomForest  \\\\\n",
       "\t16.1.2 & 57             & M              & ATA            & 140            & 265            & 0              & ST             & 145            & Y              & 1              & Flat           & 1              & 1              & 0.85           & 0.4617116      & ChestPainType  & -0.062823698   & -              & randomForest  \\\\\n",
       "\t16.1.3 & 57             & M              & ATA            & 140            & 265            & 0              & ST             & 145            & Y              & 1              & Flat           & 1              & 1              & 0.85           & 0.4617116      & RestingBP      &  0.008588375   & +              & randomForest  \\\\\n",
       "\t16.1.4 & 57             & M              & ATA            & 140            & 265            & 0              & ST             & 145            & Y              & 1              & Flat           & 1              & 1              & 0.85           & 0.4617116      & Cholesterol    &  0.025920692   & +              & randomForest  \\\\\n",
       "\t16.1.5 & 57             & M              & ATA            & 140            & 265            & 0              & ST             & 145            & Y              & 1              & Flat           & 1              & 1              & 0.85           & 0.4617116      & FastingBS      & -0.001972130   & -              & randomForest  \\\\\n",
       "\t16.1.6 & 57             & M              & ATA            & 140            & 265            & 0              & ST             & 145            & Y              & 1              & Flat           & 1              & 1              & 0.85           & 0.4617116      & RestingECG     &  0.026303488   & +              & randomForest  \\\\\n",
       "\t16.1.7 & 57             & M              & ATA            & 140            & 265            & 0              & ST             & 145            & Y              & 1              & Flat           & 1              & 1              & 0.85           & 0.4617116      & MaxHR          &  0.019702774   & +              & randomForest  \\\\\n",
       "\t16.1.8 & 57             & M              & ATA            & 140            & 265            & 0              & ST             & 145            & Y              & 1              & Flat           & 1              & 1              & 0.85           & 0.4617116      & ExerciseAngina &  0.091081226   & +              & randomForest  \\\\\n",
       "\t16.1.9 & 57             & M              & ATA            & 140            & 265            & 0              & ST             & 145            & Y              & 1              & Flat           & 1              & 1              & 0.85           & 0.4617116      & Oldpeak        &  0.008829225   & +              & randomForest  \\\\\n",
       "\t16.1.10 & 57               & M                & ATA              & 140              & 265              & 0                & ST               & 145              & Y                & 1                & Flat             & 1                & 1                & 0.85             & 0.4617116        & ST\\_Slope       &  0.192848486     & +                & randomForest    \\\\\n",
       "\\end{tabular}\n"
      ],
      "text/markdown": [
       "\n",
       "| <!--/--> | Age | Sex | ChestPainType | RestingBP | Cholesterol | FastingBS | RestingECG | MaxHR | ExerciseAngina | Oldpeak | ST_Slope | _id_ | _ylevel_ | _yhat_ | _yhat_mean_ | _vname_ | _attribution_ | _sign_ | _label_ |\n",
       "|---|---|---|---|---|---|---|---|---|---|---|---|---|---|---|---|---|---|---|---|\n",
       "| 16 | 57             | M              | ATA            | 140            | 265            | 0              | ST             | 145            | Y              | 1              | Flat           | 1              | 0              | 0.15           | 0.5382884      | Age            | -0.046688559   | -              | randomForest   |\n",
       "| 16.2 | 57             | M              | ATA            | 140            | 265            | 0              | ST             | 145            | Y              | 1              | Flat           | 1              | 0              | 0.15           | 0.5382884      | Sex            | -0.033121427   | -              | randomForest   |\n",
       "| 16.3 | 57             | M              | ATA            | 140            | 265            | 0              | ST             | 145            | Y              | 1              | Flat           | 1              | 0              | 0.15           | 0.5382884      | ChestPainType  |  0.062823698   | +              | randomForest   |\n",
       "| 16.4 | 57             | M              | ATA            | 140            | 265            | 0              | ST             | 145            | Y              | 1              | Flat           | 1              | 0              | 0.15           | 0.5382884      | RestingBP      | -0.008588375   | -              | randomForest   |\n",
       "| 16.5 | 57             | M              | ATA            | 140            | 265            | 0              | ST             | 145            | Y              | 1              | Flat           | 1              | 0              | 0.15           | 0.5382884      | Cholesterol    | -0.025920692   | -              | randomForest   |\n",
       "| 16.6 | 57             | M              | ATA            | 140            | 265            | 0              | ST             | 145            | Y              | 1              | Flat           | 1              | 0              | 0.15           | 0.5382884      | FastingBS      |  0.001972130   | +              | randomForest   |\n",
       "| 16.7 | 57             | M              | ATA            | 140            | 265            | 0              | ST             | 145            | Y              | 1              | Flat           | 1              | 0              | 0.15           | 0.5382884      | RestingECG     | -0.026303488   | -              | randomForest   |\n",
       "| 16.8 | 57             | M              | ATA            | 140            | 265            | 0              | ST             | 145            | Y              | 1              | Flat           | 1              | 0              | 0.15           | 0.5382884      | MaxHR          | -0.019702774   | -              | randomForest   |\n",
       "| 16.9 | 57             | M              | ATA            | 140            | 265            | 0              | ST             | 145            | Y              | 1              | Flat           | 1              | 0              | 0.15           | 0.5382884      | ExerciseAngina | -0.091081226   | -              | randomForest   |\n",
       "| 16.10 | 57             | M              | ATA            | 140            | 265            | 0              | ST             | 145            | Y              | 1              | Flat           | 1              | 0              | 0.15           | 0.5382884      | Oldpeak        | -0.008829225   | -              | randomForest   |\n",
       "| 16.11 | 57             | M              | ATA            | 140            | 265            | 0              | ST             | 145            | Y              | 1              | Flat           | 1              | 0              | 0.15           | 0.5382884      | ST_Slope       | -0.192848486   | -              | randomForest   |\n",
       "| 16.1 | 57             | M              | ATA            | 140            | 265            | 0              | ST             | 145            | Y              | 1              | Flat           | 1              | 1              | 0.85           | 0.4617116      | Age            |  0.046688559   | +              | randomForest   |\n",
       "| 16.1.1 | 57             | M              | ATA            | 140            | 265            | 0              | ST             | 145            | Y              | 1              | Flat           | 1              | 1              | 0.85           | 0.4617116      | Sex            |  0.033121427   | +              | randomForest   |\n",
       "| 16.1.2 | 57             | M              | ATA            | 140            | 265            | 0              | ST             | 145            | Y              | 1              | Flat           | 1              | 1              | 0.85           | 0.4617116      | ChestPainType  | -0.062823698   | -              | randomForest   |\n",
       "| 16.1.3 | 57             | M              | ATA            | 140            | 265            | 0              | ST             | 145            | Y              | 1              | Flat           | 1              | 1              | 0.85           | 0.4617116      | RestingBP      |  0.008588375   | +              | randomForest   |\n",
       "| 16.1.4 | 57             | M              | ATA            | 140            | 265            | 0              | ST             | 145            | Y              | 1              | Flat           | 1              | 1              | 0.85           | 0.4617116      | Cholesterol    |  0.025920692   | +              | randomForest   |\n",
       "| 16.1.5 | 57             | M              | ATA            | 140            | 265            | 0              | ST             | 145            | Y              | 1              | Flat           | 1              | 1              | 0.85           | 0.4617116      | FastingBS      | -0.001972130   | -              | randomForest   |\n",
       "| 16.1.6 | 57             | M              | ATA            | 140            | 265            | 0              | ST             | 145            | Y              | 1              | Flat           | 1              | 1              | 0.85           | 0.4617116      | RestingECG     |  0.026303488   | +              | randomForest   |\n",
       "| 16.1.7 | 57             | M              | ATA            | 140            | 265            | 0              | ST             | 145            | Y              | 1              | Flat           | 1              | 1              | 0.85           | 0.4617116      | MaxHR          |  0.019702774   | +              | randomForest   |\n",
       "| 16.1.8 | 57             | M              | ATA            | 140            | 265            | 0              | ST             | 145            | Y              | 1              | Flat           | 1              | 1              | 0.85           | 0.4617116      | ExerciseAngina |  0.091081226   | +              | randomForest   |\n",
       "| 16.1.9 | 57             | M              | ATA            | 140            | 265            | 0              | ST             | 145            | Y              | 1              | Flat           | 1              | 1              | 0.85           | 0.4617116      | Oldpeak        |  0.008829225   | +              | randomForest   |\n",
       "| 16.1.10 | 57             | M              | ATA            | 140            | 265            | 0              | ST             | 145            | Y              | 1              | Flat           | 1              | 1              | 0.85           | 0.4617116      | ST_Slope       |  0.192848486   | +              | randomForest   |\n",
       "\n"
      ],
      "text/plain": [
       "        Age Sex ChestPainType RestingBP Cholesterol FastingBS RestingECG MaxHR\n",
       "16      57  M   ATA           140       265         0         ST         145  \n",
       "16.2    57  M   ATA           140       265         0         ST         145  \n",
       "16.3    57  M   ATA           140       265         0         ST         145  \n",
       "16.4    57  M   ATA           140       265         0         ST         145  \n",
       "16.5    57  M   ATA           140       265         0         ST         145  \n",
       "16.6    57  M   ATA           140       265         0         ST         145  \n",
       "16.7    57  M   ATA           140       265         0         ST         145  \n",
       "16.8    57  M   ATA           140       265         0         ST         145  \n",
       "16.9    57  M   ATA           140       265         0         ST         145  \n",
       "16.10   57  M   ATA           140       265         0         ST         145  \n",
       "16.11   57  M   ATA           140       265         0         ST         145  \n",
       "16.1    57  M   ATA           140       265         0         ST         145  \n",
       "16.1.1  57  M   ATA           140       265         0         ST         145  \n",
       "16.1.2  57  M   ATA           140       265         0         ST         145  \n",
       "16.1.3  57  M   ATA           140       265         0         ST         145  \n",
       "16.1.4  57  M   ATA           140       265         0         ST         145  \n",
       "16.1.5  57  M   ATA           140       265         0         ST         145  \n",
       "16.1.6  57  M   ATA           140       265         0         ST         145  \n",
       "16.1.7  57  M   ATA           140       265         0         ST         145  \n",
       "16.1.8  57  M   ATA           140       265         0         ST         145  \n",
       "16.1.9  57  M   ATA           140       265         0         ST         145  \n",
       "16.1.10 57  M   ATA           140       265         0         ST         145  \n",
       "        ExerciseAngina Oldpeak ST_Slope _id_ _ylevel_ _yhat_ _yhat_mean_\n",
       "16      Y              1       Flat     1    0        0.15   0.5382884  \n",
       "16.2    Y              1       Flat     1    0        0.15   0.5382884  \n",
       "16.3    Y              1       Flat     1    0        0.15   0.5382884  \n",
       "16.4    Y              1       Flat     1    0        0.15   0.5382884  \n",
       "16.5    Y              1       Flat     1    0        0.15   0.5382884  \n",
       "16.6    Y              1       Flat     1    0        0.15   0.5382884  \n",
       "16.7    Y              1       Flat     1    0        0.15   0.5382884  \n",
       "16.8    Y              1       Flat     1    0        0.15   0.5382884  \n",
       "16.9    Y              1       Flat     1    0        0.15   0.5382884  \n",
       "16.10   Y              1       Flat     1    0        0.15   0.5382884  \n",
       "16.11   Y              1       Flat     1    0        0.15   0.5382884  \n",
       "16.1    Y              1       Flat     1    1        0.85   0.4617116  \n",
       "16.1.1  Y              1       Flat     1    1        0.85   0.4617116  \n",
       "16.1.2  Y              1       Flat     1    1        0.85   0.4617116  \n",
       "16.1.3  Y              1       Flat     1    1        0.85   0.4617116  \n",
       "16.1.4  Y              1       Flat     1    1        0.85   0.4617116  \n",
       "16.1.5  Y              1       Flat     1    1        0.85   0.4617116  \n",
       "16.1.6  Y              1       Flat     1    1        0.85   0.4617116  \n",
       "16.1.7  Y              1       Flat     1    1        0.85   0.4617116  \n",
       "16.1.8  Y              1       Flat     1    1        0.85   0.4617116  \n",
       "16.1.9  Y              1       Flat     1    1        0.85   0.4617116  \n",
       "16.1.10 Y              1       Flat     1    1        0.85   0.4617116  \n",
       "        _vname_        _attribution_ _sign_ _label_     \n",
       "16      Age            -0.046688559  -      randomForest\n",
       "16.2    Sex            -0.033121427  -      randomForest\n",
       "16.3    ChestPainType   0.062823698  +      randomForest\n",
       "16.4    RestingBP      -0.008588375  -      randomForest\n",
       "16.5    Cholesterol    -0.025920692  -      randomForest\n",
       "16.6    FastingBS       0.001972130  +      randomForest\n",
       "16.7    RestingECG     -0.026303488  -      randomForest\n",
       "16.8    MaxHR          -0.019702774  -      randomForest\n",
       "16.9    ExerciseAngina -0.091081226  -      randomForest\n",
       "16.10   Oldpeak        -0.008829225  -      randomForest\n",
       "16.11   ST_Slope       -0.192848486  -      randomForest\n",
       "16.1    Age             0.046688559  +      randomForest\n",
       "16.1.1  Sex             0.033121427  +      randomForest\n",
       "16.1.2  ChestPainType  -0.062823698  -      randomForest\n",
       "16.1.3  RestingBP       0.008588375  +      randomForest\n",
       "16.1.4  Cholesterol     0.025920692  +      randomForest\n",
       "16.1.5  FastingBS      -0.001972130  -      randomForest\n",
       "16.1.6  RestingECG      0.026303488  +      randomForest\n",
       "16.1.7  MaxHR           0.019702774  +      randomForest\n",
       "16.1.8  ExerciseAngina  0.091081226  +      randomForest\n",
       "16.1.9  Oldpeak         0.008829225  +      randomForest\n",
       "16.1.10 ST_Slope        0.192848486  +      randomForest"
      ]
     },
     "metadata": {},
     "output_type": "display_data"
    },
    {
     "data": {
      "text/html": [
       "<table>\n",
       "<thead><tr><th></th><th scope=col>Age</th><th scope=col>Sex</th><th scope=col>ChestPainType</th><th scope=col>RestingBP</th><th scope=col>Cholesterol</th><th scope=col>FastingBS</th><th scope=col>RestingECG</th><th scope=col>MaxHR</th><th scope=col>ExerciseAngina</th><th scope=col>Oldpeak</th><th scope=col>ST_Slope</th><th scope=col>_id_</th><th scope=col>_ylevel_</th><th scope=col>_yhat_</th><th scope=col>_yhat_mean_</th><th scope=col>_vname_</th><th scope=col>_attribution_</th><th scope=col>_sign_</th><th scope=col>_label_</th></tr></thead>\n",
       "<tbody>\n",
       "\t<tr><th scope=row>16</th><td>57            </td><td>M             </td><td>ATA           </td><td>140           </td><td>265           </td><td>0             </td><td>ST            </td><td>145           </td><td>Y             </td><td>1             </td><td>Flat          </td><td>1             </td><td>0             </td><td>0.1158874     </td><td>0.5330397     </td><td>Age           </td><td>-0.026150136  </td><td>-             </td><td>svm           </td></tr>\n",
       "\t<tr><th scope=row>16.2</th><td>57            </td><td>M             </td><td>ATA           </td><td>140           </td><td>265           </td><td>0             </td><td>ST            </td><td>145           </td><td>Y             </td><td>1             </td><td>Flat          </td><td>1             </td><td>0             </td><td>0.1158874     </td><td>0.5330397     </td><td>Sex           </td><td>-0.057164756  </td><td>-             </td><td>svm           </td></tr>\n",
       "\t<tr><th scope=row>16.3</th><td>57            </td><td>M             </td><td>ATA           </td><td>140           </td><td>265           </td><td>0             </td><td>ST            </td><td>145           </td><td>Y             </td><td>1             </td><td>Flat          </td><td>1             </td><td>0             </td><td>0.1158874     </td><td>0.5330397     </td><td>ChestPainType </td><td> 0.042264035  </td><td>+             </td><td>svm           </td></tr>\n",
       "\t<tr><th scope=row>16.4</th><td>57            </td><td>M             </td><td>ATA           </td><td>140           </td><td>265           </td><td>0             </td><td>ST            </td><td>145           </td><td>Y             </td><td>1             </td><td>Flat          </td><td>1             </td><td>0             </td><td>0.1158874     </td><td>0.5330397     </td><td>RestingBP     </td><td>-0.001449659  </td><td>-             </td><td>svm           </td></tr>\n",
       "\t<tr><th scope=row>16.5</th><td>57            </td><td>M             </td><td>ATA           </td><td>140           </td><td>265           </td><td>0             </td><td>ST            </td><td>145           </td><td>Y             </td><td>1             </td><td>Flat          </td><td>1             </td><td>0             </td><td>0.1158874     </td><td>0.5330397     </td><td>Cholesterol   </td><td>-0.024019702  </td><td>-             </td><td>svm           </td></tr>\n",
       "\t<tr><th scope=row>16.6</th><td>57            </td><td>M             </td><td>ATA           </td><td>140           </td><td>265           </td><td>0             </td><td>ST            </td><td>145           </td><td>Y             </td><td>1             </td><td>Flat          </td><td>1             </td><td>0             </td><td>0.1158874     </td><td>0.5330397     </td><td>FastingBS     </td><td> 0.003769332  </td><td>+             </td><td>svm           </td></tr>\n",
       "\t<tr><th scope=row>16.7</th><td>57            </td><td>M             </td><td>ATA           </td><td>140           </td><td>265           </td><td>0             </td><td>ST            </td><td>145           </td><td>Y             </td><td>1             </td><td>Flat          </td><td>1             </td><td>0             </td><td>0.1158874     </td><td>0.5330397     </td><td>RestingECG    </td><td> 0.007225041  </td><td>+             </td><td>svm           </td></tr>\n",
       "\t<tr><th scope=row>16.8</th><td>57            </td><td>M             </td><td>ATA           </td><td>140           </td><td>265           </td><td>0             </td><td>ST            </td><td>145           </td><td>Y             </td><td>1             </td><td>Flat          </td><td>1             </td><td>0             </td><td>0.1158874     </td><td>0.5330397     </td><td>MaxHR         </td><td>-0.001384980  </td><td>-             </td><td>svm           </td></tr>\n",
       "\t<tr><th scope=row>16.9</th><td>57            </td><td>M             </td><td>ATA           </td><td>140           </td><td>265           </td><td>0             </td><td>ST            </td><td>145           </td><td>Y             </td><td>1             </td><td>Flat          </td><td>1             </td><td>0             </td><td>0.1158874     </td><td>0.5330397     </td><td>ExerciseAngina</td><td>-0.109640795  </td><td>-             </td><td>svm           </td></tr>\n",
       "\t<tr><th scope=row>16.10</th><td>57            </td><td>M             </td><td>ATA           </td><td>140           </td><td>265           </td><td>0             </td><td>ST            </td><td>145           </td><td>Y             </td><td>1             </td><td>Flat          </td><td>1             </td><td>0             </td><td>0.1158874     </td><td>0.5330397     </td><td>Oldpeak       </td><td>-0.011097489  </td><td>-             </td><td>svm           </td></tr>\n",
       "\t<tr><th scope=row>16.11</th><td>57            </td><td>M             </td><td>ATA           </td><td>140           </td><td>265           </td><td>0             </td><td>ST            </td><td>145           </td><td>Y             </td><td>1             </td><td>Flat          </td><td>1             </td><td>0             </td><td>0.1158874     </td><td>0.5330397     </td><td>ST_Slope      </td><td>-0.239503252  </td><td>-             </td><td>svm           </td></tr>\n",
       "\t<tr><th scope=row>16.1</th><td>57            </td><td>M             </td><td>ATA           </td><td>140           </td><td>265           </td><td>0             </td><td>ST            </td><td>145           </td><td>Y             </td><td>1             </td><td>Flat          </td><td>1             </td><td>1             </td><td>0.8841126     </td><td>0.4669603     </td><td>Age           </td><td> 0.026150136  </td><td>+             </td><td>svm           </td></tr>\n",
       "\t<tr><th scope=row>16.1.1</th><td>57            </td><td>M             </td><td>ATA           </td><td>140           </td><td>265           </td><td>0             </td><td>ST            </td><td>145           </td><td>Y             </td><td>1             </td><td>Flat          </td><td>1             </td><td>1             </td><td>0.8841126     </td><td>0.4669603     </td><td>Sex           </td><td> 0.057164756  </td><td>+             </td><td>svm           </td></tr>\n",
       "\t<tr><th scope=row>16.1.2</th><td>57            </td><td>M             </td><td>ATA           </td><td>140           </td><td>265           </td><td>0             </td><td>ST            </td><td>145           </td><td>Y             </td><td>1             </td><td>Flat          </td><td>1             </td><td>1             </td><td>0.8841126     </td><td>0.4669603     </td><td>ChestPainType </td><td>-0.042264035  </td><td>-             </td><td>svm           </td></tr>\n",
       "\t<tr><th scope=row>16.1.3</th><td>57            </td><td>M             </td><td>ATA           </td><td>140           </td><td>265           </td><td>0             </td><td>ST            </td><td>145           </td><td>Y             </td><td>1             </td><td>Flat          </td><td>1             </td><td>1             </td><td>0.8841126     </td><td>0.4669603     </td><td>RestingBP     </td><td> 0.001449659  </td><td>+             </td><td>svm           </td></tr>\n",
       "\t<tr><th scope=row>16.1.4</th><td>57            </td><td>M             </td><td>ATA           </td><td>140           </td><td>265           </td><td>0             </td><td>ST            </td><td>145           </td><td>Y             </td><td>1             </td><td>Flat          </td><td>1             </td><td>1             </td><td>0.8841126     </td><td>0.4669603     </td><td>Cholesterol   </td><td> 0.024019702  </td><td>+             </td><td>svm           </td></tr>\n",
       "\t<tr><th scope=row>16.1.5</th><td>57            </td><td>M             </td><td>ATA           </td><td>140           </td><td>265           </td><td>0             </td><td>ST            </td><td>145           </td><td>Y             </td><td>1             </td><td>Flat          </td><td>1             </td><td>1             </td><td>0.8841126     </td><td>0.4669603     </td><td>FastingBS     </td><td>-0.003769332  </td><td>-             </td><td>svm           </td></tr>\n",
       "\t<tr><th scope=row>16.1.6</th><td>57            </td><td>M             </td><td>ATA           </td><td>140           </td><td>265           </td><td>0             </td><td>ST            </td><td>145           </td><td>Y             </td><td>1             </td><td>Flat          </td><td>1             </td><td>1             </td><td>0.8841126     </td><td>0.4669603     </td><td>RestingECG    </td><td>-0.007225041  </td><td>-             </td><td>svm           </td></tr>\n",
       "\t<tr><th scope=row>16.1.7</th><td>57            </td><td>M             </td><td>ATA           </td><td>140           </td><td>265           </td><td>0             </td><td>ST            </td><td>145           </td><td>Y             </td><td>1             </td><td>Flat          </td><td>1             </td><td>1             </td><td>0.8841126     </td><td>0.4669603     </td><td>MaxHR         </td><td> 0.001384980  </td><td>+             </td><td>svm           </td></tr>\n",
       "\t<tr><th scope=row>16.1.8</th><td>57            </td><td>M             </td><td>ATA           </td><td>140           </td><td>265           </td><td>0             </td><td>ST            </td><td>145           </td><td>Y             </td><td>1             </td><td>Flat          </td><td>1             </td><td>1             </td><td>0.8841126     </td><td>0.4669603     </td><td>ExerciseAngina</td><td> 0.109640795  </td><td>+             </td><td>svm           </td></tr>\n",
       "\t<tr><th scope=row>16.1.9</th><td>57            </td><td>M             </td><td>ATA           </td><td>140           </td><td>265           </td><td>0             </td><td>ST            </td><td>145           </td><td>Y             </td><td>1             </td><td>Flat          </td><td>1             </td><td>1             </td><td>0.8841126     </td><td>0.4669603     </td><td>Oldpeak       </td><td> 0.011097489  </td><td>+             </td><td>svm           </td></tr>\n",
       "\t<tr><th scope=row>16.1.10</th><td>57            </td><td>M             </td><td>ATA           </td><td>140           </td><td>265           </td><td>0             </td><td>ST            </td><td>145           </td><td>Y             </td><td>1             </td><td>Flat          </td><td>1             </td><td>1             </td><td>0.8841126     </td><td>0.4669603     </td><td>ST_Slope      </td><td> 0.239503252  </td><td>+             </td><td>svm           </td></tr>\n",
       "</tbody>\n",
       "</table>\n"
      ],
      "text/latex": [
       "\\begin{tabular}{r|lllllllllllllllllll}\n",
       "  & Age & Sex & ChestPainType & RestingBP & Cholesterol & FastingBS & RestingECG & MaxHR & ExerciseAngina & Oldpeak & ST\\_Slope & \\_id\\_ & \\_ylevel\\_ & \\_yhat\\_ & \\_yhat\\_mean\\_ & \\_vname\\_ & \\_attribution\\_ & \\_sign\\_ & \\_label\\_\\\\\n",
       "\\hline\n",
       "\t16 & 57             & M              & ATA            & 140            & 265            & 0              & ST             & 145            & Y              & 1              & Flat           & 1              & 0              & 0.1158874      & 0.5330397      & Age            & -0.026150136   & -              & svm           \\\\\n",
       "\t16.2 & 57             & M              & ATA            & 140            & 265            & 0              & ST             & 145            & Y              & 1              & Flat           & 1              & 0              & 0.1158874      & 0.5330397      & Sex            & -0.057164756   & -              & svm           \\\\\n",
       "\t16.3 & 57             & M              & ATA            & 140            & 265            & 0              & ST             & 145            & Y              & 1              & Flat           & 1              & 0              & 0.1158874      & 0.5330397      & ChestPainType  &  0.042264035   & +              & svm           \\\\\n",
       "\t16.4 & 57             & M              & ATA            & 140            & 265            & 0              & ST             & 145            & Y              & 1              & Flat           & 1              & 0              & 0.1158874      & 0.5330397      & RestingBP      & -0.001449659   & -              & svm           \\\\\n",
       "\t16.5 & 57             & M              & ATA            & 140            & 265            & 0              & ST             & 145            & Y              & 1              & Flat           & 1              & 0              & 0.1158874      & 0.5330397      & Cholesterol    & -0.024019702   & -              & svm           \\\\\n",
       "\t16.6 & 57             & M              & ATA            & 140            & 265            & 0              & ST             & 145            & Y              & 1              & Flat           & 1              & 0              & 0.1158874      & 0.5330397      & FastingBS      &  0.003769332   & +              & svm           \\\\\n",
       "\t16.7 & 57             & M              & ATA            & 140            & 265            & 0              & ST             & 145            & Y              & 1              & Flat           & 1              & 0              & 0.1158874      & 0.5330397      & RestingECG     &  0.007225041   & +              & svm           \\\\\n",
       "\t16.8 & 57             & M              & ATA            & 140            & 265            & 0              & ST             & 145            & Y              & 1              & Flat           & 1              & 0              & 0.1158874      & 0.5330397      & MaxHR          & -0.001384980   & -              & svm           \\\\\n",
       "\t16.9 & 57             & M              & ATA            & 140            & 265            & 0              & ST             & 145            & Y              & 1              & Flat           & 1              & 0              & 0.1158874      & 0.5330397      & ExerciseAngina & -0.109640795   & -              & svm           \\\\\n",
       "\t16.10 & 57             & M              & ATA            & 140            & 265            & 0              & ST             & 145            & Y              & 1              & Flat           & 1              & 0              & 0.1158874      & 0.5330397      & Oldpeak        & -0.011097489   & -              & svm           \\\\\n",
       "\t16.11 & 57               & M                & ATA              & 140              & 265              & 0                & ST               & 145              & Y                & 1                & Flat             & 1                & 0                & 0.1158874        & 0.5330397        & ST\\_Slope       & -0.239503252     & -                & svm             \\\\\n",
       "\t16.1 & 57             & M              & ATA            & 140            & 265            & 0              & ST             & 145            & Y              & 1              & Flat           & 1              & 1              & 0.8841126      & 0.4669603      & Age            &  0.026150136   & +              & svm           \\\\\n",
       "\t16.1.1 & 57             & M              & ATA            & 140            & 265            & 0              & ST             & 145            & Y              & 1              & Flat           & 1              & 1              & 0.8841126      & 0.4669603      & Sex            &  0.057164756   & +              & svm           \\\\\n",
       "\t16.1.2 & 57             & M              & ATA            & 140            & 265            & 0              & ST             & 145            & Y              & 1              & Flat           & 1              & 1              & 0.8841126      & 0.4669603      & ChestPainType  & -0.042264035   & -              & svm           \\\\\n",
       "\t16.1.3 & 57             & M              & ATA            & 140            & 265            & 0              & ST             & 145            & Y              & 1              & Flat           & 1              & 1              & 0.8841126      & 0.4669603      & RestingBP      &  0.001449659   & +              & svm           \\\\\n",
       "\t16.1.4 & 57             & M              & ATA            & 140            & 265            & 0              & ST             & 145            & Y              & 1              & Flat           & 1              & 1              & 0.8841126      & 0.4669603      & Cholesterol    &  0.024019702   & +              & svm           \\\\\n",
       "\t16.1.5 & 57             & M              & ATA            & 140            & 265            & 0              & ST             & 145            & Y              & 1              & Flat           & 1              & 1              & 0.8841126      & 0.4669603      & FastingBS      & -0.003769332   & -              & svm           \\\\\n",
       "\t16.1.6 & 57             & M              & ATA            & 140            & 265            & 0              & ST             & 145            & Y              & 1              & Flat           & 1              & 1              & 0.8841126      & 0.4669603      & RestingECG     & -0.007225041   & -              & svm           \\\\\n",
       "\t16.1.7 & 57             & M              & ATA            & 140            & 265            & 0              & ST             & 145            & Y              & 1              & Flat           & 1              & 1              & 0.8841126      & 0.4669603      & MaxHR          &  0.001384980   & +              & svm           \\\\\n",
       "\t16.1.8 & 57             & M              & ATA            & 140            & 265            & 0              & ST             & 145            & Y              & 1              & Flat           & 1              & 1              & 0.8841126      & 0.4669603      & ExerciseAngina &  0.109640795   & +              & svm           \\\\\n",
       "\t16.1.9 & 57             & M              & ATA            & 140            & 265            & 0              & ST             & 145            & Y              & 1              & Flat           & 1              & 1              & 0.8841126      & 0.4669603      & Oldpeak        &  0.011097489   & +              & svm           \\\\\n",
       "\t16.1.10 & 57               & M                & ATA              & 140              & 265              & 0                & ST               & 145              & Y                & 1                & Flat             & 1                & 1                & 0.8841126        & 0.4669603        & ST\\_Slope       &  0.239503252     & +                & svm             \\\\\n",
       "\\end{tabular}\n"
      ],
      "text/markdown": [
       "\n",
       "| <!--/--> | Age | Sex | ChestPainType | RestingBP | Cholesterol | FastingBS | RestingECG | MaxHR | ExerciseAngina | Oldpeak | ST_Slope | _id_ | _ylevel_ | _yhat_ | _yhat_mean_ | _vname_ | _attribution_ | _sign_ | _label_ |\n",
       "|---|---|---|---|---|---|---|---|---|---|---|---|---|---|---|---|---|---|---|---|\n",
       "| 16 | 57             | M              | ATA            | 140            | 265            | 0              | ST             | 145            | Y              | 1              | Flat           | 1              | 0              | 0.1158874      | 0.5330397      | Age            | -0.026150136   | -              | svm            |\n",
       "| 16.2 | 57             | M              | ATA            | 140            | 265            | 0              | ST             | 145            | Y              | 1              | Flat           | 1              | 0              | 0.1158874      | 0.5330397      | Sex            | -0.057164756   | -              | svm            |\n",
       "| 16.3 | 57             | M              | ATA            | 140            | 265            | 0              | ST             | 145            | Y              | 1              | Flat           | 1              | 0              | 0.1158874      | 0.5330397      | ChestPainType  |  0.042264035   | +              | svm            |\n",
       "| 16.4 | 57             | M              | ATA            | 140            | 265            | 0              | ST             | 145            | Y              | 1              | Flat           | 1              | 0              | 0.1158874      | 0.5330397      | RestingBP      | -0.001449659   | -              | svm            |\n",
       "| 16.5 | 57             | M              | ATA            | 140            | 265            | 0              | ST             | 145            | Y              | 1              | Flat           | 1              | 0              | 0.1158874      | 0.5330397      | Cholesterol    | -0.024019702   | -              | svm            |\n",
       "| 16.6 | 57             | M              | ATA            | 140            | 265            | 0              | ST             | 145            | Y              | 1              | Flat           | 1              | 0              | 0.1158874      | 0.5330397      | FastingBS      |  0.003769332   | +              | svm            |\n",
       "| 16.7 | 57             | M              | ATA            | 140            | 265            | 0              | ST             | 145            | Y              | 1              | Flat           | 1              | 0              | 0.1158874      | 0.5330397      | RestingECG     |  0.007225041   | +              | svm            |\n",
       "| 16.8 | 57             | M              | ATA            | 140            | 265            | 0              | ST             | 145            | Y              | 1              | Flat           | 1              | 0              | 0.1158874      | 0.5330397      | MaxHR          | -0.001384980   | -              | svm            |\n",
       "| 16.9 | 57             | M              | ATA            | 140            | 265            | 0              | ST             | 145            | Y              | 1              | Flat           | 1              | 0              | 0.1158874      | 0.5330397      | ExerciseAngina | -0.109640795   | -              | svm            |\n",
       "| 16.10 | 57             | M              | ATA            | 140            | 265            | 0              | ST             | 145            | Y              | 1              | Flat           | 1              | 0              | 0.1158874      | 0.5330397      | Oldpeak        | -0.011097489   | -              | svm            |\n",
       "| 16.11 | 57             | M              | ATA            | 140            | 265            | 0              | ST             | 145            | Y              | 1              | Flat           | 1              | 0              | 0.1158874      | 0.5330397      | ST_Slope       | -0.239503252   | -              | svm            |\n",
       "| 16.1 | 57             | M              | ATA            | 140            | 265            | 0              | ST             | 145            | Y              | 1              | Flat           | 1              | 1              | 0.8841126      | 0.4669603      | Age            |  0.026150136   | +              | svm            |\n",
       "| 16.1.1 | 57             | M              | ATA            | 140            | 265            | 0              | ST             | 145            | Y              | 1              | Flat           | 1              | 1              | 0.8841126      | 0.4669603      | Sex            |  0.057164756   | +              | svm            |\n",
       "| 16.1.2 | 57             | M              | ATA            | 140            | 265            | 0              | ST             | 145            | Y              | 1              | Flat           | 1              | 1              | 0.8841126      | 0.4669603      | ChestPainType  | -0.042264035   | -              | svm            |\n",
       "| 16.1.3 | 57             | M              | ATA            | 140            | 265            | 0              | ST             | 145            | Y              | 1              | Flat           | 1              | 1              | 0.8841126      | 0.4669603      | RestingBP      |  0.001449659   | +              | svm            |\n",
       "| 16.1.4 | 57             | M              | ATA            | 140            | 265            | 0              | ST             | 145            | Y              | 1              | Flat           | 1              | 1              | 0.8841126      | 0.4669603      | Cholesterol    |  0.024019702   | +              | svm            |\n",
       "| 16.1.5 | 57             | M              | ATA            | 140            | 265            | 0              | ST             | 145            | Y              | 1              | Flat           | 1              | 1              | 0.8841126      | 0.4669603      | FastingBS      | -0.003769332   | -              | svm            |\n",
       "| 16.1.6 | 57             | M              | ATA            | 140            | 265            | 0              | ST             | 145            | Y              | 1              | Flat           | 1              | 1              | 0.8841126      | 0.4669603      | RestingECG     | -0.007225041   | -              | svm            |\n",
       "| 16.1.7 | 57             | M              | ATA            | 140            | 265            | 0              | ST             | 145            | Y              | 1              | Flat           | 1              | 1              | 0.8841126      | 0.4669603      | MaxHR          |  0.001384980   | +              | svm            |\n",
       "| 16.1.8 | 57             | M              | ATA            | 140            | 265            | 0              | ST             | 145            | Y              | 1              | Flat           | 1              | 1              | 0.8841126      | 0.4669603      | ExerciseAngina |  0.109640795   | +              | svm            |\n",
       "| 16.1.9 | 57             | M              | ATA            | 140            | 265            | 0              | ST             | 145            | Y              | 1              | Flat           | 1              | 1              | 0.8841126      | 0.4669603      | Oldpeak        |  0.011097489   | +              | svm            |\n",
       "| 16.1.10 | 57             | M              | ATA            | 140            | 265            | 0              | ST             | 145            | Y              | 1              | Flat           | 1              | 1              | 0.8841126      | 0.4669603      | ST_Slope       |  0.239503252   | +              | svm            |\n",
       "\n"
      ],
      "text/plain": [
       "        Age Sex ChestPainType RestingBP Cholesterol FastingBS RestingECG MaxHR\n",
       "16      57  M   ATA           140       265         0         ST         145  \n",
       "16.2    57  M   ATA           140       265         0         ST         145  \n",
       "16.3    57  M   ATA           140       265         0         ST         145  \n",
       "16.4    57  M   ATA           140       265         0         ST         145  \n",
       "16.5    57  M   ATA           140       265         0         ST         145  \n",
       "16.6    57  M   ATA           140       265         0         ST         145  \n",
       "16.7    57  M   ATA           140       265         0         ST         145  \n",
       "16.8    57  M   ATA           140       265         0         ST         145  \n",
       "16.9    57  M   ATA           140       265         0         ST         145  \n",
       "16.10   57  M   ATA           140       265         0         ST         145  \n",
       "16.11   57  M   ATA           140       265         0         ST         145  \n",
       "16.1    57  M   ATA           140       265         0         ST         145  \n",
       "16.1.1  57  M   ATA           140       265         0         ST         145  \n",
       "16.1.2  57  M   ATA           140       265         0         ST         145  \n",
       "16.1.3  57  M   ATA           140       265         0         ST         145  \n",
       "16.1.4  57  M   ATA           140       265         0         ST         145  \n",
       "16.1.5  57  M   ATA           140       265         0         ST         145  \n",
       "16.1.6  57  M   ATA           140       265         0         ST         145  \n",
       "16.1.7  57  M   ATA           140       265         0         ST         145  \n",
       "16.1.8  57  M   ATA           140       265         0         ST         145  \n",
       "16.1.9  57  M   ATA           140       265         0         ST         145  \n",
       "16.1.10 57  M   ATA           140       265         0         ST         145  \n",
       "        ExerciseAngina Oldpeak ST_Slope _id_ _ylevel_ _yhat_    _yhat_mean_\n",
       "16      Y              1       Flat     1    0        0.1158874 0.5330397  \n",
       "16.2    Y              1       Flat     1    0        0.1158874 0.5330397  \n",
       "16.3    Y              1       Flat     1    0        0.1158874 0.5330397  \n",
       "16.4    Y              1       Flat     1    0        0.1158874 0.5330397  \n",
       "16.5    Y              1       Flat     1    0        0.1158874 0.5330397  \n",
       "16.6    Y              1       Flat     1    0        0.1158874 0.5330397  \n",
       "16.7    Y              1       Flat     1    0        0.1158874 0.5330397  \n",
       "16.8    Y              1       Flat     1    0        0.1158874 0.5330397  \n",
       "16.9    Y              1       Flat     1    0        0.1158874 0.5330397  \n",
       "16.10   Y              1       Flat     1    0        0.1158874 0.5330397  \n",
       "16.11   Y              1       Flat     1    0        0.1158874 0.5330397  \n",
       "16.1    Y              1       Flat     1    1        0.8841126 0.4669603  \n",
       "16.1.1  Y              1       Flat     1    1        0.8841126 0.4669603  \n",
       "16.1.2  Y              1       Flat     1    1        0.8841126 0.4669603  \n",
       "16.1.3  Y              1       Flat     1    1        0.8841126 0.4669603  \n",
       "16.1.4  Y              1       Flat     1    1        0.8841126 0.4669603  \n",
       "16.1.5  Y              1       Flat     1    1        0.8841126 0.4669603  \n",
       "16.1.6  Y              1       Flat     1    1        0.8841126 0.4669603  \n",
       "16.1.7  Y              1       Flat     1    1        0.8841126 0.4669603  \n",
       "16.1.8  Y              1       Flat     1    1        0.8841126 0.4669603  \n",
       "16.1.9  Y              1       Flat     1    1        0.8841126 0.4669603  \n",
       "16.1.10 Y              1       Flat     1    1        0.8841126 0.4669603  \n",
       "        _vname_        _attribution_ _sign_ _label_\n",
       "16      Age            -0.026150136  -      svm    \n",
       "16.2    Sex            -0.057164756  -      svm    \n",
       "16.3    ChestPainType   0.042264035  +      svm    \n",
       "16.4    RestingBP      -0.001449659  -      svm    \n",
       "16.5    Cholesterol    -0.024019702  -      svm    \n",
       "16.6    FastingBS       0.003769332  +      svm    \n",
       "16.7    RestingECG      0.007225041  +      svm    \n",
       "16.8    MaxHR          -0.001384980  -      svm    \n",
       "16.9    ExerciseAngina -0.109640795  -      svm    \n",
       "16.10   Oldpeak        -0.011097489  -      svm    \n",
       "16.11   ST_Slope       -0.239503252  -      svm    \n",
       "16.1    Age             0.026150136  +      svm    \n",
       "16.1.1  Sex             0.057164756  +      svm    \n",
       "16.1.2  ChestPainType  -0.042264035  -      svm    \n",
       "16.1.3  RestingBP       0.001449659  +      svm    \n",
       "16.1.4  Cholesterol     0.024019702  +      svm    \n",
       "16.1.5  FastingBS      -0.003769332  -      svm    \n",
       "16.1.6  RestingECG     -0.007225041  -      svm    \n",
       "16.1.7  MaxHR           0.001384980  +      svm    \n",
       "16.1.8  ExerciseAngina  0.109640795  +      svm    \n",
       "16.1.9  Oldpeak         0.011097489  +      svm    \n",
       "16.1.10 ST_Slope        0.239503252  +      svm    "
      ]
     },
     "metadata": {},
     "output_type": "display_data"
    }
   ],
   "source": [
    "ive_lr_long\n",
    "ive_rf_long\n",
    "ive_svm_long"
   ]
  },
  {
   "cell_type": "markdown",
   "metadata": {},
   "source": [
    "**This takes considerably less time!**"
   ]
  },
  {
   "cell_type": "code",
   "execution_count": 22,
   "metadata": {},
   "outputs": [
    {
     "data": {
      "text/plain": [
       "   user  system elapsed \n",
       "   1.03    0.05    1.15 "
      ]
     },
     "metadata": {},
     "output_type": "display_data"
    },
    {
     "data": {
      "text/plain": [
       "   user  system elapsed \n",
       "   1.94    0.00    1.96 "
      ]
     },
     "metadata": {},
     "output_type": "display_data"
    },
    {
     "data": {
      "text/plain": [
       "   user  system elapsed \n",
       "   2.47    0.00    2.48 "
      ]
     },
     "metadata": {},
     "output_type": "display_data"
    }
   ],
   "source": [
    "library(shapper)\n",
    "#ive for individuable variable effect - patient A\n",
    "system.time(ive_lr <- individual_variable_effect(lr.heartdisease, data = data_train, \n",
    "                                                 predict_function = pred_lr,new_observation = instance, nsamples=100))\n",
    "system.time(ive_rf <- individual_variable_effect(rf.heartdisease, data = data_train, \n",
    "                                                 predict_function = pred_rf, new_observation = instance, nsamples=100))\n",
    "system.time(ive_svm <- individual_variable_effect(svm.heartdisease, data = data_train, \n",
    "                                                  predict_function = pred_svm, new_observation = instance, nsamples=100))\n",
    "#the same but with nsamples=100, like in shapley and ciu - consistency"
   ]
  },
  {
   "cell_type": "code",
   "execution_count": 24,
   "metadata": {},
   "outputs": [
    {
     "data": {
      "image/png": "[encoded data removed]",
      "text/plain": [
       "plot without title"
      ]
     },
     "metadata": {},
     "output_type": "display_data"
    },
    {
     "data": {
      "image/png": "[encoded data removed]",
      "text/plain": [
       "plot without title"
      ]
     },
     "metadata": {},
     "output_type": "display_data"
    },
    {
     "data": {
      "image/png": "[encoded data removed]",
      "text/plain": [
       "plot without title"
      ]
     },
     "metadata": {},
     "output_type": "display_data"
    }
   ],
   "source": [
    "# filtered lr- only class 1\n",
    "ive_lr_filtered <- dplyr::filter(ive_lr, `_ylevel_` == \"C1\")\n",
    "shapper:::plot.individual_variable_effect(ive_lr_filtered)\n",
    "# filtered rf- only class 1\n",
    "ive_rf_filtered <- dplyr::filter(ive_rf, `_ylevel_` == \"1\")\n",
    "shapper:::plot.individual_variable_effect(ive_rf_filtered)\n",
    "# filtered svm- only class 1\n",
    "ive_svm_filtered <- dplyr::filter(ive_svm, `_ylevel_` == \"1\")\n",
    "shapper:::plot.individual_variable_effect(ive_svm_filtered)"
   ]
  },
  {
   "cell_type": "code",
   "execution_count": 25,
   "metadata": {},
   "outputs": [
    {
     "data": {
      "text/html": [
       "TRUE"
      ],
      "text/latex": [
       "TRUE"
      ],
      "text/markdown": [
       "TRUE"
      ],
      "text/plain": [
       "[1] TRUE"
      ]
     },
     "metadata": {},
     "output_type": "display_data"
    }
   ],
   "source": [
    "# sum of the shapley values (class 1, SVM model)\n",
    "sum_shap <- sum(ive_svm_filtered[\"_attribution_\"])\n",
    "# f(x)-E[f(x)] = sum(shapley_values) ?\n",
    "ive_svm_filtered[\"_yhat_\"][1,] - ive_svm_filtered[\"_yhat_mean_\"][1,] == sum_shap"
   ]
  },
  {
   "cell_type": "markdown",
   "metadata": {},
   "source": [
    "Let's see how similar the results are, considering different sample sizes"
   ]
  },
  {
   "cell_type": "code",
   "execution_count": 29,
   "metadata": {
    "collapsed": true,
    "jupyter": {
     "outputs_hidden": true
    }
   },
   "outputs": [
    {
     "data": {
      "text/html": [
       "<table>\n",
       "<thead><tr><th></th><th scope=col>_attribution_</th><th scope=col>_attribution_</th></tr></thead>\n",
       "<tbody>\n",
       "\t<tr><th scope=row>16</th><td>-0.0225241466</td><td>-0.017763746 </td></tr>\n",
       "\t<tr><th scope=row>16.2</th><td>-0.0753676565</td><td>-0.073000078 </td></tr>\n",
       "\t<tr><th scope=row>16.3</th><td> 0.0462407012</td><td> 0.042275476 </td></tr>\n",
       "\t<tr><th scope=row>16.4</th><td> 0.0002143455</td><td> 0.000000000 </td></tr>\n",
       "\t<tr><th scope=row>16.5</th><td>-0.0138860067</td><td>-0.012367487 </td></tr>\n",
       "\t<tr><th scope=row>16.6</th><td> 0.0086522568</td><td> 0.006242223 </td></tr>\n",
       "\t<tr><th scope=row>16.7</th><td>-0.0202114934</td><td>-0.019439602 </td></tr>\n",
       "\t<tr><th scope=row>16.8</th><td> 0.0000674028</td><td> 0.000000000 </td></tr>\n",
       "\t<tr><th scope=row>16.9</th><td>-0.1194191499</td><td>-0.117621313 </td></tr>\n",
       "\t<tr><th scope=row>16.10</th><td>-0.0204363312</td><td>-0.020440553 </td></tr>\n",
       "\t<tr><th scope=row>16.11</th><td>-0.2174438869</td><td>-0.221998886 </td></tr>\n",
       "\t<tr><th scope=row>16.1</th><td> 0.0225241466</td><td> 0.017763746 </td></tr>\n",
       "\t<tr><th scope=row>16.1.1</th><td> 0.0753676565</td><td> 0.073000078 </td></tr>\n",
       "\t<tr><th scope=row>16.1.2</th><td>-0.0462407012</td><td>-0.042275476 </td></tr>\n",
       "\t<tr><th scope=row>16.1.3</th><td>-0.0002143455</td><td> 0.000000000 </td></tr>\n",
       "\t<tr><th scope=row>16.1.4</th><td> 0.0138860067</td><td> 0.012367487 </td></tr>\n",
       "\t<tr><th scope=row>16.1.5</th><td>-0.0086522568</td><td>-0.006242223 </td></tr>\n",
       "\t<tr><th scope=row>16.1.6</th><td> 0.0202114934</td><td> 0.019439602 </td></tr>\n",
       "\t<tr><th scope=row>16.1.7</th><td>-0.0000674028</td><td> 0.000000000 </td></tr>\n",
       "\t<tr><th scope=row>16.1.8</th><td> 0.1194191499</td><td> 0.117621313 </td></tr>\n",
       "\t<tr><th scope=row>16.1.9</th><td> 0.0204363312</td><td> 0.020440553 </td></tr>\n",
       "\t<tr><th scope=row>16.1.10</th><td> 0.2174438869</td><td> 0.221998886 </td></tr>\n",
       "</tbody>\n",
       "</table>\n"
      ],
      "text/latex": [
       "\\begin{tabular}{r|ll}\n",
       "  & \\_attribution\\_ & \\_attribution\\_\\\\\n",
       "\\hline\n",
       "\t16 & -0.0225241466 & -0.017763746 \\\\\n",
       "\t16.2 & -0.0753676565 & -0.073000078 \\\\\n",
       "\t16.3 &  0.0462407012 &  0.042275476 \\\\\n",
       "\t16.4 &  0.0002143455 &  0.000000000 \\\\\n",
       "\t16.5 & -0.0138860067 & -0.012367487 \\\\\n",
       "\t16.6 &  0.0086522568 &  0.006242223 \\\\\n",
       "\t16.7 & -0.0202114934 & -0.019439602 \\\\\n",
       "\t16.8 &  0.0000674028 &  0.000000000 \\\\\n",
       "\t16.9 & -0.1194191499 & -0.117621313 \\\\\n",
       "\t16.10 & -0.0204363312 & -0.020440553 \\\\\n",
       "\t16.11 & -0.2174438869 & -0.221998886 \\\\\n",
       "\t16.1 &  0.0225241466 &  0.017763746 \\\\\n",
       "\t16.1.1 &  0.0753676565 &  0.073000078 \\\\\n",
       "\t16.1.2 & -0.0462407012 & -0.042275476 \\\\\n",
       "\t16.1.3 & -0.0002143455 &  0.000000000 \\\\\n",
       "\t16.1.4 &  0.0138860067 &  0.012367487 \\\\\n",
       "\t16.1.5 & -0.0086522568 & -0.006242223 \\\\\n",
       "\t16.1.6 &  0.0202114934 &  0.019439602 \\\\\n",
       "\t16.1.7 & -0.0000674028 &  0.000000000 \\\\\n",
       "\t16.1.8 &  0.1194191499 &  0.117621313 \\\\\n",
       "\t16.1.9 &  0.0204363312 &  0.020440553 \\\\\n",
       "\t16.1.10 &  0.2174438869 &  0.221998886 \\\\\n",
       "\\end{tabular}\n"
      ],
      "text/markdown": [
       "\n",
       "| <!--/--> | _attribution_ | _attribution_ |\n",
       "|---|---|---|\n",
       "| 16 | -0.0225241466 | -0.017763746  |\n",
       "| 16.2 | -0.0753676565 | -0.073000078  |\n",
       "| 16.3 |  0.0462407012 |  0.042275476  |\n",
       "| 16.4 |  0.0002143455 |  0.000000000  |\n",
       "| 16.5 | -0.0138860067 | -0.012367487  |\n",
       "| 16.6 |  0.0086522568 |  0.006242223  |\n",
       "| 16.7 | -0.0202114934 | -0.019439602  |\n",
       "| 16.8 |  0.0000674028 |  0.000000000  |\n",
       "| 16.9 | -0.1194191499 | -0.117621313  |\n",
       "| 16.10 | -0.0204363312 | -0.020440553  |\n",
       "| 16.11 | -0.2174438869 | -0.221998886  |\n",
       "| 16.1 |  0.0225241466 |  0.017763746  |\n",
       "| 16.1.1 |  0.0753676565 |  0.073000078  |\n",
       "| 16.1.2 | -0.0462407012 | -0.042275476  |\n",
       "| 16.1.3 | -0.0002143455 |  0.000000000  |\n",
       "| 16.1.4 |  0.0138860067 |  0.012367487  |\n",
       "| 16.1.5 | -0.0086522568 | -0.006242223  |\n",
       "| 16.1.6 |  0.0202114934 |  0.019439602  |\n",
       "| 16.1.7 | -0.0000674028 |  0.000000000  |\n",
       "| 16.1.8 |  0.1194191499 |  0.117621313  |\n",
       "| 16.1.9 |  0.0204363312 |  0.020440553  |\n",
       "| 16.1.10 |  0.2174438869 |  0.221998886  |\n",
       "\n"
      ],
      "text/plain": [
       "        _attribution_ _attribution_\n",
       "16      -0.0225241466 -0.017763746 \n",
       "16.2    -0.0753676565 -0.073000078 \n",
       "16.3     0.0462407012  0.042275476 \n",
       "16.4     0.0002143455  0.000000000 \n",
       "16.5    -0.0138860067 -0.012367487 \n",
       "16.6     0.0086522568  0.006242223 \n",
       "16.7    -0.0202114934 -0.019439602 \n",
       "16.8     0.0000674028  0.000000000 \n",
       "16.9    -0.1194191499 -0.117621313 \n",
       "16.10   -0.0204363312 -0.020440553 \n",
       "16.11   -0.2174438869 -0.221998886 \n",
       "16.1     0.0225241466  0.017763746 \n",
       "16.1.1   0.0753676565  0.073000078 \n",
       "16.1.2  -0.0462407012 -0.042275476 \n",
       "16.1.3  -0.0002143455  0.000000000 \n",
       "16.1.4   0.0138860067  0.012367487 \n",
       "16.1.5  -0.0086522568 -0.006242223 \n",
       "16.1.6   0.0202114934  0.019439602 \n",
       "16.1.7  -0.0000674028  0.000000000 \n",
       "16.1.8   0.1194191499  0.117621313 \n",
       "16.1.9   0.0204363312  0.020440553 \n",
       "16.1.10  0.2174438869  0.221998886 "
      ]
     },
     "metadata": {},
     "output_type": "display_data"
    },
    {
     "data": {
      "text/html": [
       "<table>\n",
       "<thead><tr><th></th><th scope=col>_attribution_</th><th scope=col>_attribution_</th></tr></thead>\n",
       "<tbody>\n",
       "\t<tr><th scope=row>16</th><td>-0.046688559</td><td>-0.046747681</td></tr>\n",
       "\t<tr><th scope=row>16.2</th><td>-0.033121427</td><td>-0.029433837</td></tr>\n",
       "\t<tr><th scope=row>16.3</th><td> 0.062823698</td><td> 0.061666392</td></tr>\n",
       "\t<tr><th scope=row>16.4</th><td>-0.008588375</td><td>-0.010795185</td></tr>\n",
       "\t<tr><th scope=row>16.5</th><td>-0.025920692</td><td>-0.024360638</td></tr>\n",
       "\t<tr><th scope=row>16.6</th><td> 0.001972130</td><td> 0.000000000</td></tr>\n",
       "\t<tr><th scope=row>16.7</th><td>-0.026303488</td><td>-0.025520680</td></tr>\n",
       "\t<tr><th scope=row>16.8</th><td>-0.019702774</td><td>-0.019800394</td></tr>\n",
       "\t<tr><th scope=row>16.9</th><td>-0.091081226</td><td>-0.096727817</td></tr>\n",
       "\t<tr><th scope=row>16.10</th><td>-0.008829225</td><td>-0.008554569</td></tr>\n",
       "\t<tr><th scope=row>16.11</th><td>-0.192848486</td><td>-0.188014018</td></tr>\n",
       "\t<tr><th scope=row>16.1</th><td> 0.046688559</td><td> 0.046747681</td></tr>\n",
       "\t<tr><th scope=row>16.1.1</th><td> 0.033121427</td><td> 0.029433837</td></tr>\n",
       "\t<tr><th scope=row>16.1.2</th><td>-0.062823698</td><td>-0.061666392</td></tr>\n",
       "\t<tr><th scope=row>16.1.3</th><td> 0.008588375</td><td> 0.010795185</td></tr>\n",
       "\t<tr><th scope=row>16.1.4</th><td> 0.025920692</td><td> 0.024360638</td></tr>\n",
       "\t<tr><th scope=row>16.1.5</th><td>-0.001972130</td><td> 0.000000000</td></tr>\n",
       "\t<tr><th scope=row>16.1.6</th><td> 0.026303488</td><td> 0.025520680</td></tr>\n",
       "\t<tr><th scope=row>16.1.7</th><td> 0.019702774</td><td> 0.019800394</td></tr>\n",
       "\t<tr><th scope=row>16.1.8</th><td> 0.091081226</td><td> 0.096727817</td></tr>\n",
       "\t<tr><th scope=row>16.1.9</th><td> 0.008829225</td><td> 0.008554569</td></tr>\n",
       "\t<tr><th scope=row>16.1.10</th><td> 0.192848486</td><td> 0.188014018</td></tr>\n",
       "</tbody>\n",
       "</table>\n"
      ],
      "text/latex": [
       "\\begin{tabular}{r|ll}\n",
       "  & \\_attribution\\_ & \\_attribution\\_\\\\\n",
       "\\hline\n",
       "\t16 & -0.046688559 & -0.046747681\\\\\n",
       "\t16.2 & -0.033121427 & -0.029433837\\\\\n",
       "\t16.3 &  0.062823698 &  0.061666392\\\\\n",
       "\t16.4 & -0.008588375 & -0.010795185\\\\\n",
       "\t16.5 & -0.025920692 & -0.024360638\\\\\n",
       "\t16.6 &  0.001972130 &  0.000000000\\\\\n",
       "\t16.7 & -0.026303488 & -0.025520680\\\\\n",
       "\t16.8 & -0.019702774 & -0.019800394\\\\\n",
       "\t16.9 & -0.091081226 & -0.096727817\\\\\n",
       "\t16.10 & -0.008829225 & -0.008554569\\\\\n",
       "\t16.11 & -0.192848486 & -0.188014018\\\\\n",
       "\t16.1 &  0.046688559 &  0.046747681\\\\\n",
       "\t16.1.1 &  0.033121427 &  0.029433837\\\\\n",
       "\t16.1.2 & -0.062823698 & -0.061666392\\\\\n",
       "\t16.1.3 &  0.008588375 &  0.010795185\\\\\n",
       "\t16.1.4 &  0.025920692 &  0.024360638\\\\\n",
       "\t16.1.5 & -0.001972130 &  0.000000000\\\\\n",
       "\t16.1.6 &  0.026303488 &  0.025520680\\\\\n",
       "\t16.1.7 &  0.019702774 &  0.019800394\\\\\n",
       "\t16.1.8 &  0.091081226 &  0.096727817\\\\\n",
       "\t16.1.9 &  0.008829225 &  0.008554569\\\\\n",
       "\t16.1.10 &  0.192848486 &  0.188014018\\\\\n",
       "\\end{tabular}\n"
      ],
      "text/markdown": [
       "\n",
       "| <!--/--> | _attribution_ | _attribution_ |\n",
       "|---|---|---|\n",
       "| 16 | -0.046688559 | -0.046747681 |\n",
       "| 16.2 | -0.033121427 | -0.029433837 |\n",
       "| 16.3 |  0.062823698 |  0.061666392 |\n",
       "| 16.4 | -0.008588375 | -0.010795185 |\n",
       "| 16.5 | -0.025920692 | -0.024360638 |\n",
       "| 16.6 |  0.001972130 |  0.000000000 |\n",
       "| 16.7 | -0.026303488 | -0.025520680 |\n",
       "| 16.8 | -0.019702774 | -0.019800394 |\n",
       "| 16.9 | -0.091081226 | -0.096727817 |\n",
       "| 16.10 | -0.008829225 | -0.008554569 |\n",
       "| 16.11 | -0.192848486 | -0.188014018 |\n",
       "| 16.1 |  0.046688559 |  0.046747681 |\n",
       "| 16.1.1 |  0.033121427 |  0.029433837 |\n",
       "| 16.1.2 | -0.062823698 | -0.061666392 |\n",
       "| 16.1.3 |  0.008588375 |  0.010795185 |\n",
       "| 16.1.4 |  0.025920692 |  0.024360638 |\n",
       "| 16.1.5 | -0.001972130 |  0.000000000 |\n",
       "| 16.1.6 |  0.026303488 |  0.025520680 |\n",
       "| 16.1.7 |  0.019702774 |  0.019800394 |\n",
       "| 16.1.8 |  0.091081226 |  0.096727817 |\n",
       "| 16.1.9 |  0.008829225 |  0.008554569 |\n",
       "| 16.1.10 |  0.192848486 |  0.188014018 |\n",
       "\n"
      ],
      "text/plain": [
       "        _attribution_ _attribution_\n",
       "16      -0.046688559  -0.046747681 \n",
       "16.2    -0.033121427  -0.029433837 \n",
       "16.3     0.062823698   0.061666392 \n",
       "16.4    -0.008588375  -0.010795185 \n",
       "16.5    -0.025920692  -0.024360638 \n",
       "16.6     0.001972130   0.000000000 \n",
       "16.7    -0.026303488  -0.025520680 \n",
       "16.8    -0.019702774  -0.019800394 \n",
       "16.9    -0.091081226  -0.096727817 \n",
       "16.10   -0.008829225  -0.008554569 \n",
       "16.11   -0.192848486  -0.188014018 \n",
       "16.1     0.046688559   0.046747681 \n",
       "16.1.1   0.033121427   0.029433837 \n",
       "16.1.2  -0.062823698  -0.061666392 \n",
       "16.1.3   0.008588375   0.010795185 \n",
       "16.1.4   0.025920692   0.024360638 \n",
       "16.1.5  -0.001972130   0.000000000 \n",
       "16.1.6   0.026303488   0.025520680 \n",
       "16.1.7   0.019702774   0.019800394 \n",
       "16.1.8   0.091081226   0.096727817 \n",
       "16.1.9   0.008829225   0.008554569 \n",
       "16.1.10  0.192848486   0.188014018 "
      ]
     },
     "metadata": {},
     "output_type": "display_data"
    },
    {
     "data": {
      "text/html": [
       "<table>\n",
       "<thead><tr><th></th><th scope=col>_attribution_</th><th scope=col>_attribution_</th></tr></thead>\n",
       "<tbody>\n",
       "\t<tr><th scope=row>16</th><td>-0.026150136</td><td>-0.026968414</td></tr>\n",
       "\t<tr><th scope=row>16.2</th><td>-0.057164756</td><td>-0.057602670</td></tr>\n",
       "\t<tr><th scope=row>16.3</th><td> 0.042264035</td><td> 0.044678535</td></tr>\n",
       "\t<tr><th scope=row>16.4</th><td>-0.001449659</td><td>-0.001388404</td></tr>\n",
       "\t<tr><th scope=row>16.5</th><td>-0.024019702</td><td>-0.023402656</td></tr>\n",
       "\t<tr><th scope=row>16.6</th><td> 0.003769332</td><td> 0.004827751</td></tr>\n",
       "\t<tr><th scope=row>16.7</th><td> 0.007225041</td><td> 0.007598401</td></tr>\n",
       "\t<tr><th scope=row>16.8</th><td>-0.001384980</td><td>-0.001288069</td></tr>\n",
       "\t<tr><th scope=row>16.9</th><td>-0.109640795</td><td>-0.111545591</td></tr>\n",
       "\t<tr><th scope=row>16.10</th><td>-0.011097489</td><td>-0.012436793</td></tr>\n",
       "\t<tr><th scope=row>16.11</th><td>-0.239503252</td><td>-0.239624452</td></tr>\n",
       "\t<tr><th scope=row>16.1</th><td> 0.026150136</td><td> 0.026968414</td></tr>\n",
       "\t<tr><th scope=row>16.1.1</th><td> 0.057164756</td><td> 0.057602670</td></tr>\n",
       "\t<tr><th scope=row>16.1.2</th><td>-0.042264035</td><td>-0.044678535</td></tr>\n",
       "\t<tr><th scope=row>16.1.3</th><td> 0.001449659</td><td> 0.001388404</td></tr>\n",
       "\t<tr><th scope=row>16.1.4</th><td> 0.024019702</td><td> 0.023402656</td></tr>\n",
       "\t<tr><th scope=row>16.1.5</th><td>-0.003769332</td><td>-0.004827751</td></tr>\n",
       "\t<tr><th scope=row>16.1.6</th><td>-0.007225041</td><td>-0.007598401</td></tr>\n",
       "\t<tr><th scope=row>16.1.7</th><td> 0.001384980</td><td> 0.001288069</td></tr>\n",
       "\t<tr><th scope=row>16.1.8</th><td> 0.109640795</td><td> 0.111545591</td></tr>\n",
       "\t<tr><th scope=row>16.1.9</th><td> 0.011097489</td><td> 0.012436793</td></tr>\n",
       "\t<tr><th scope=row>16.1.10</th><td> 0.239503252</td><td> 0.239624452</td></tr>\n",
       "</tbody>\n",
       "</table>\n"
      ],
      "text/latex": [
       "\\begin{tabular}{r|ll}\n",
       "  & \\_attribution\\_ & \\_attribution\\_\\\\\n",
       "\\hline\n",
       "\t16 & -0.026150136 & -0.026968414\\\\\n",
       "\t16.2 & -0.057164756 & -0.057602670\\\\\n",
       "\t16.3 &  0.042264035 &  0.044678535\\\\\n",
       "\t16.4 & -0.001449659 & -0.001388404\\\\\n",
       "\t16.5 & -0.024019702 & -0.023402656\\\\\n",
       "\t16.6 &  0.003769332 &  0.004827751\\\\\n",
       "\t16.7 &  0.007225041 &  0.007598401\\\\\n",
       "\t16.8 & -0.001384980 & -0.001288069\\\\\n",
       "\t16.9 & -0.109640795 & -0.111545591\\\\\n",
       "\t16.10 & -0.011097489 & -0.012436793\\\\\n",
       "\t16.11 & -0.239503252 & -0.239624452\\\\\n",
       "\t16.1 &  0.026150136 &  0.026968414\\\\\n",
       "\t16.1.1 &  0.057164756 &  0.057602670\\\\\n",
       "\t16.1.2 & -0.042264035 & -0.044678535\\\\\n",
       "\t16.1.3 &  0.001449659 &  0.001388404\\\\\n",
       "\t16.1.4 &  0.024019702 &  0.023402656\\\\\n",
       "\t16.1.5 & -0.003769332 & -0.004827751\\\\\n",
       "\t16.1.6 & -0.007225041 & -0.007598401\\\\\n",
       "\t16.1.7 &  0.001384980 &  0.001288069\\\\\n",
       "\t16.1.8 &  0.109640795 &  0.111545591\\\\\n",
       "\t16.1.9 &  0.011097489 &  0.012436793\\\\\n",
       "\t16.1.10 &  0.239503252 &  0.239624452\\\\\n",
       "\\end{tabular}\n"
      ],
      "text/markdown": [
       "\n",
       "| <!--/--> | _attribution_ | _attribution_ |\n",
       "|---|---|---|\n",
       "| 16 | -0.026150136 | -0.026968414 |\n",
       "| 16.2 | -0.057164756 | -0.057602670 |\n",
       "| 16.3 |  0.042264035 |  0.044678535 |\n",
       "| 16.4 | -0.001449659 | -0.001388404 |\n",
       "| 16.5 | -0.024019702 | -0.023402656 |\n",
       "| 16.6 |  0.003769332 |  0.004827751 |\n",
       "| 16.7 |  0.007225041 |  0.007598401 |\n",
       "| 16.8 | -0.001384980 | -0.001288069 |\n",
       "| 16.9 | -0.109640795 | -0.111545591 |\n",
       "| 16.10 | -0.011097489 | -0.012436793 |\n",
       "| 16.11 | -0.239503252 | -0.239624452 |\n",
       "| 16.1 |  0.026150136 |  0.026968414 |\n",
       "| 16.1.1 |  0.057164756 |  0.057602670 |\n",
       "| 16.1.2 | -0.042264035 | -0.044678535 |\n",
       "| 16.1.3 |  0.001449659 |  0.001388404 |\n",
       "| 16.1.4 |  0.024019702 |  0.023402656 |\n",
       "| 16.1.5 | -0.003769332 | -0.004827751 |\n",
       "| 16.1.6 | -0.007225041 | -0.007598401 |\n",
       "| 16.1.7 |  0.001384980 |  0.001288069 |\n",
       "| 16.1.8 |  0.109640795 |  0.111545591 |\n",
       "| 16.1.9 |  0.011097489 |  0.012436793 |\n",
       "| 16.1.10 |  0.239503252 |  0.239624452 |\n",
       "\n"
      ],
      "text/plain": [
       "        _attribution_ _attribution_\n",
       "16      -0.026150136  -0.026968414 \n",
       "16.2    -0.057164756  -0.057602670 \n",
       "16.3     0.042264035   0.044678535 \n",
       "16.4    -0.001449659  -0.001388404 \n",
       "16.5    -0.024019702  -0.023402656 \n",
       "16.6     0.003769332   0.004827751 \n",
       "16.7     0.007225041   0.007598401 \n",
       "16.8    -0.001384980  -0.001288069 \n",
       "16.9    -0.109640795  -0.111545591 \n",
       "16.10   -0.011097489  -0.012436793 \n",
       "16.11   -0.239503252  -0.239624452 \n",
       "16.1     0.026150136   0.026968414 \n",
       "16.1.1   0.057164756   0.057602670 \n",
       "16.1.2  -0.042264035  -0.044678535 \n",
       "16.1.3   0.001449659   0.001388404 \n",
       "16.1.4   0.024019702   0.023402656 \n",
       "16.1.5  -0.003769332  -0.004827751 \n",
       "16.1.6  -0.007225041  -0.007598401 \n",
       "16.1.7   0.001384980   0.001288069 \n",
       "16.1.8   0.109640795   0.111545591 \n",
       "16.1.9   0.011097489   0.012436793 \n",
       "16.1.10  0.239503252   0.239624452 "
      ]
     },
     "metadata": {},
     "output_type": "display_data"
    }
   ],
   "source": [
    "cbind(ive_lr_long[\"_attribution_\"],ive_lr[\"_attribution_\"])\n",
    "cbind(ive_rf_long[\"_attribution_\"],ive_rf[\"_attribution_\"])\n",
    "cbind(ive_svm_long[\"_attribution_\"],ive_svm[\"_attribution_\"])"
   ]
  },
  {
   "cell_type": "markdown",
   "metadata": {},
   "source": [
    "The shapley values obtained with the different sampling sizes are very similar. Most importantly, the explanation takes a reasonable amount of time to be given, which is preferable in real world scenarios. The accuracy of the results may decrease, but that also happens for the other methods. So, for consistency and usability, we will use from now on nsamples=100."
   ]
  },
  {
   "cell_type": "code",
   "execution_count": 31,
   "metadata": {},
   "outputs": [
    {
     "data": {
      "text/html": [
       "<table>\n",
       "<thead><tr><th></th><th scope=col>kernelSHAP</th></tr></thead>\n",
       "<tbody>\n",
       "\t<tr><th scope=row>Age</th><td> 0.02</td></tr>\n",
       "\t<tr><th scope=row>Sex</th><td> 0.07</td></tr>\n",
       "\t<tr><th scope=row>ChestPainType</th><td>-0.04</td></tr>\n",
       "\t<tr><th scope=row>RestingBP</th><td> 0.00</td></tr>\n",
       "\t<tr><th scope=row>Cholesterol</th><td> 0.01</td></tr>\n",
       "\t<tr><th scope=row>FastingBS</th><td>-0.01</td></tr>\n",
       "\t<tr><th scope=row>RestingECG</th><td> 0.02</td></tr>\n",
       "\t<tr><th scope=row>MaxHR</th><td> 0.00</td></tr>\n",
       "\t<tr><th scope=row>ExerciseAngina</th><td> 0.12</td></tr>\n",
       "\t<tr><th scope=row>Oldpeak</th><td> 0.02</td></tr>\n",
       "\t<tr><th scope=row>ST_Slope</th><td> 0.22</td></tr>\n",
       "</tbody>\n",
       "</table>\n"
      ],
      "text/latex": [
       "\\begin{tabular}{r|l}\n",
       "  & kernelSHAP\\\\\n",
       "\\hline\n",
       "\tAge &  0.02\\\\\n",
       "\tSex &  0.07\\\\\n",
       "\tChestPainType & -0.04\\\\\n",
       "\tRestingBP &  0.00\\\\\n",
       "\tCholesterol &  0.01\\\\\n",
       "\tFastingBS & -0.01\\\\\n",
       "\tRestingECG &  0.02\\\\\n",
       "\tMaxHR &  0.00\\\\\n",
       "\tExerciseAngina &  0.12\\\\\n",
       "\tOldpeak &  0.02\\\\\n",
       "\tST\\_Slope &  0.22\\\\\n",
       "\\end{tabular}\n"
      ],
      "text/markdown": [
       "\n",
       "| <!--/--> | kernelSHAP |\n",
       "|---|---|\n",
       "| Age |  0.02 |\n",
       "| Sex |  0.07 |\n",
       "| ChestPainType | -0.04 |\n",
       "| RestingBP |  0.00 |\n",
       "| Cholesterol |  0.01 |\n",
       "| FastingBS | -0.01 |\n",
       "| RestingECG |  0.02 |\n",
       "| MaxHR |  0.00 |\n",
       "| ExerciseAngina |  0.12 |\n",
       "| Oldpeak |  0.02 |\n",
       "| ST_Slope |  0.22 |\n",
       "\n"
      ],
      "text/plain": [
       "               kernelSHAP\n",
       "Age             0.02     \n",
       "Sex             0.07     \n",
       "ChestPainType  -0.04     \n",
       "RestingBP       0.00     \n",
       "Cholesterol     0.01     \n",
       "FastingBS      -0.01     \n",
       "RestingECG      0.02     \n",
       "MaxHR           0.00     \n",
       "ExerciseAngina  0.12     \n",
       "Oldpeak         0.02     \n",
       "ST_Slope        0.22     "
      ]
     },
     "metadata": {},
     "output_type": "display_data"
    },
    {
     "data": {
      "text/html": [
       "<table>\n",
       "<thead><tr><th></th><th scope=col>kernelSHAP</th></tr></thead>\n",
       "<tbody>\n",
       "\t<tr><th scope=row>Age</th><td> 0.05</td></tr>\n",
       "\t<tr><th scope=row>Sex</th><td> 0.03</td></tr>\n",
       "\t<tr><th scope=row>ChestPainType</th><td>-0.06</td></tr>\n",
       "\t<tr><th scope=row>RestingBP</th><td> 0.01</td></tr>\n",
       "\t<tr><th scope=row>Cholesterol</th><td> 0.02</td></tr>\n",
       "\t<tr><th scope=row>FastingBS</th><td> 0.00</td></tr>\n",
       "\t<tr><th scope=row>RestingECG</th><td> 0.03</td></tr>\n",
       "\t<tr><th scope=row>MaxHR</th><td> 0.02</td></tr>\n",
       "\t<tr><th scope=row>ExerciseAngina</th><td> 0.10</td></tr>\n",
       "\t<tr><th scope=row>Oldpeak</th><td> 0.01</td></tr>\n",
       "\t<tr><th scope=row>ST_Slope</th><td> 0.19</td></tr>\n",
       "</tbody>\n",
       "</table>\n"
      ],
      "text/latex": [
       "\\begin{tabular}{r|l}\n",
       "  & kernelSHAP\\\\\n",
       "\\hline\n",
       "\tAge &  0.05\\\\\n",
       "\tSex &  0.03\\\\\n",
       "\tChestPainType & -0.06\\\\\n",
       "\tRestingBP &  0.01\\\\\n",
       "\tCholesterol &  0.02\\\\\n",
       "\tFastingBS &  0.00\\\\\n",
       "\tRestingECG &  0.03\\\\\n",
       "\tMaxHR &  0.02\\\\\n",
       "\tExerciseAngina &  0.10\\\\\n",
       "\tOldpeak &  0.01\\\\\n",
       "\tST\\_Slope &  0.19\\\\\n",
       "\\end{tabular}\n"
      ],
      "text/markdown": [
       "\n",
       "| <!--/--> | kernelSHAP |\n",
       "|---|---|\n",
       "| Age |  0.05 |\n",
       "| Sex |  0.03 |\n",
       "| ChestPainType | -0.06 |\n",
       "| RestingBP |  0.01 |\n",
       "| Cholesterol |  0.02 |\n",
       "| FastingBS |  0.00 |\n",
       "| RestingECG |  0.03 |\n",
       "| MaxHR |  0.02 |\n",
       "| ExerciseAngina |  0.10 |\n",
       "| Oldpeak |  0.01 |\n",
       "| ST_Slope |  0.19 |\n",
       "\n"
      ],
      "text/plain": [
       "               kernelSHAP\n",
       "Age             0.05     \n",
       "Sex             0.03     \n",
       "ChestPainType  -0.06     \n",
       "RestingBP       0.01     \n",
       "Cholesterol     0.02     \n",
       "FastingBS       0.00     \n",
       "RestingECG      0.03     \n",
       "MaxHR           0.02     \n",
       "ExerciseAngina  0.10     \n",
       "Oldpeak         0.01     \n",
       "ST_Slope        0.19     "
      ]
     },
     "metadata": {},
     "output_type": "display_data"
    },
    {
     "data": {
      "text/html": [
       "<table>\n",
       "<thead><tr><th></th><th scope=col>kernelSHAP</th></tr></thead>\n",
       "<tbody>\n",
       "\t<tr><th scope=row>Age</th><td> 0.03</td></tr>\n",
       "\t<tr><th scope=row>Sex</th><td> 0.06</td></tr>\n",
       "\t<tr><th scope=row>ChestPainType</th><td>-0.04</td></tr>\n",
       "\t<tr><th scope=row>RestingBP</th><td> 0.00</td></tr>\n",
       "\t<tr><th scope=row>Cholesterol</th><td> 0.02</td></tr>\n",
       "\t<tr><th scope=row>FastingBS</th><td> 0.00</td></tr>\n",
       "\t<tr><th scope=row>RestingECG</th><td>-0.01</td></tr>\n",
       "\t<tr><th scope=row>MaxHR</th><td> 0.00</td></tr>\n",
       "\t<tr><th scope=row>ExerciseAngina</th><td> 0.11</td></tr>\n",
       "\t<tr><th scope=row>Oldpeak</th><td> 0.01</td></tr>\n",
       "\t<tr><th scope=row>ST_Slope</th><td> 0.24</td></tr>\n",
       "</tbody>\n",
       "</table>\n"
      ],
      "text/latex": [
       "\\begin{tabular}{r|l}\n",
       "  & kernelSHAP\\\\\n",
       "\\hline\n",
       "\tAge &  0.03\\\\\n",
       "\tSex &  0.06\\\\\n",
       "\tChestPainType & -0.04\\\\\n",
       "\tRestingBP &  0.00\\\\\n",
       "\tCholesterol &  0.02\\\\\n",
       "\tFastingBS &  0.00\\\\\n",
       "\tRestingECG & -0.01\\\\\n",
       "\tMaxHR &  0.00\\\\\n",
       "\tExerciseAngina &  0.11\\\\\n",
       "\tOldpeak &  0.01\\\\\n",
       "\tST\\_Slope &  0.24\\\\\n",
       "\\end{tabular}\n"
      ],
      "text/markdown": [
       "\n",
       "| <!--/--> | kernelSHAP |\n",
       "|---|---|\n",
       "| Age |  0.03 |\n",
       "| Sex |  0.06 |\n",
       "| ChestPainType | -0.04 |\n",
       "| RestingBP |  0.00 |\n",
       "| Cholesterol |  0.02 |\n",
       "| FastingBS |  0.00 |\n",
       "| RestingECG | -0.01 |\n",
       "| MaxHR |  0.00 |\n",
       "| ExerciseAngina |  0.11 |\n",
       "| Oldpeak |  0.01 |\n",
       "| ST_Slope |  0.24 |\n",
       "\n"
      ],
      "text/plain": [
       "               kernelSHAP\n",
       "Age             0.03     \n",
       "Sex             0.06     \n",
       "ChestPainType  -0.04     \n",
       "RestingBP       0.00     \n",
       "Cholesterol     0.02     \n",
       "FastingBS       0.00     \n",
       "RestingECG     -0.01     \n",
       "MaxHR           0.00     \n",
       "ExerciseAngina  0.11     \n",
       "Oldpeak         0.01     \n",
       "ST_Slope        0.24     "
      ]
     },
     "metadata": {},
     "output_type": "display_data"
    }
   ],
   "source": [
    "#Save local values for class 1 - phi (shapley values) patientA\n",
    "#with nsamples=100\n",
    "s_lr <- ive_lr[ive_lr[\"_ylevel_\"] == \"C1\",]\n",
    "lShap_lr = as.data.frame(s_lr[\"_attribution_\"][,1])\n",
    "rownames(lShap_lr) = s_lr[\"_vname_\"][,1]\n",
    "colnames(lShap_lr) = expression(\"kernelSHAP\")\n",
    "round(lShap_lr,2)\n",
    "saveRDS(lShap_lr,file='Local_A/shap_LR.Rda')\n",
    "\n",
    "s_rf <- ive_rf[ive_rf[\"_ylevel_\"] == \"1\",]\n",
    "lShap_rf = as.data.frame(s_rf[\"_attribution_\"][,1])\n",
    "rownames(lShap_rf) = s_rf[\"_vname_\"][,1]\n",
    "colnames(lShap_rf) = expression(\"kernelSHAP\")\n",
    "round(lShap_rf,2)\n",
    "saveRDS(lShap_rf,file='Local_A/shap_RF.Rda')\n",
    "\n",
    "s_svm <- ive_svm[ive_svm[\"_ylevel_\"] == \"1\",]\n",
    "lShap_svm = as.data.frame(s_svm[\"_attribution_\"][,1])\n",
    "rownames(lShap_svm) = s_svm[\"_vname_\"][,1]\n",
    "colnames(lShap_svm) = expression(\"kernelSHAP\")\n",
    "round(lShap_svm,2)\n",
    "saveRDS(lShap_svm,file='Local_A/shap_SVM.Rda')"
   ]
  },
  {
   "cell_type": "markdown",
   "metadata": {},
   "source": [
    "The shapley values obtained with the different sampling sizes are very similar. Most importantly, the explanation takes a reasonable amount of time to be given, which is preferable in real world scenarios. The accuracy of the results may decrease, but that also happens for the other methods. So, for consistency and usability, we will use from now on nsamples=100."
   ]
  },
  {
   "cell_type": "markdown",
   "metadata": {},
   "source": [
    "#### Patient B"
   ]
  },
  {
   "cell_type": "code",
   "execution_count": 18,
   "metadata": {
    "scrolled": true
   },
   "outputs": [
    {
     "data": {
      "text/plain": [
       "   user  system elapsed \n",
       "   1.07    0.00    1.08 "
      ]
     },
     "metadata": {},
     "output_type": "display_data"
    },
    {
     "data": {
      "text/plain": [
       "   user  system elapsed \n",
       "   2.19    0.00    2.30 "
      ]
     },
     "metadata": {},
     "output_type": "display_data"
    },
    {
     "data": {
      "text/plain": [
       "   user  system elapsed \n",
       "   2.53    0.03    2.59 "
      ]
     },
     "metadata": {},
     "output_type": "display_data"
    }
   ],
   "source": [
    "library(shapper)\n",
    "#ive for individuable variable effect - patient B\n",
    "system.time(ive_lr2 <- individual_variable_effect(lr.heartdisease, data = data_train, \n",
    "                                                 predict_function = pred_lr,new_observation = instance2, nsamples=100))\n",
    "system.time(ive_rf2 <- individual_variable_effect(rf.heartdisease, data = data_train, \n",
    "                                                 predict_function = pred_rf, new_observation = instance2, nsamples=100))\n",
    "system.time(ive_svm2 <- individual_variable_effect(svm.heartdisease, data = data_train, \n",
    "                                                  predict_function = pred_svm, new_observation = instance2, nsamples=100))"
   ]
  },
  {
   "cell_type": "code",
   "execution_count": 19,
   "metadata": {},
   "outputs": [
    {
     "data": {
      "image/png": "[encoded data removed]",
      "text/plain": [
       "plot without title"
      ]
     },
     "metadata": {},
     "output_type": "display_data"
    },
    {
     "data": {
      "image/png": "[encoded data removed]",
      "text/plain": [
       "plot without title"
      ]
     },
     "metadata": {},
     "output_type": "display_data"
    },
    {
     "data": {
      "image/png": "[encoded data removed]",
      "text/plain": [
       "plot without title"
      ]
     },
     "metadata": {},
     "output_type": "display_data"
    }
   ],
   "source": [
    "# filtered lr- only class 1\n",
    "ive_lr_filtered2 <- dplyr::filter(ive_lr2, `_ylevel_` == \"C1\")\n",
    "shapper:::plot.individual_variable_effect(ive_lr_filtered2)\n",
    "# filtered rf- only class 1\n",
    "ive_rf_filtered2 <- dplyr::filter(ive_rf2, `_ylevel_` == \"1\")\n",
    "shapper:::plot.individual_variable_effect(ive_rf_filtered2)\n",
    "# filtered svm- only class 1\n",
    "ive_svm_filtered2 <- dplyr::filter(ive_svm2, `_ylevel_` == \"1\")\n",
    "shapper:::plot.individual_variable_effect(ive_svm_filtered2)"
   ]
  },
  {
   "cell_type": "code",
   "execution_count": 20,
   "metadata": {},
   "outputs": [
    {
     "data": {
      "text/html": [
       "<table>\n",
       "<thead><tr><th></th><th scope=col>kernelSHAP</th></tr></thead>\n",
       "<tbody>\n",
       "\t<tr><th scope=row>Age</th><td>-0.07</td></tr>\n",
       "\t<tr><th scope=row>Sex</th><td> 0.04</td></tr>\n",
       "\t<tr><th scope=row>ChestPainType</th><td>-0.08</td></tr>\n",
       "\t<tr><th scope=row>RestingBP</th><td> 0.00</td></tr>\n",
       "\t<tr><th scope=row>Cholesterol</th><td> 0.02</td></tr>\n",
       "\t<tr><th scope=row>FastingBS</th><td>-0.01</td></tr>\n",
       "\t<tr><th scope=row>RestingECG</th><td>-0.01</td></tr>\n",
       "\t<tr><th scope=row>MaxHR</th><td> 0.00</td></tr>\n",
       "\t<tr><th scope=row>ExerciseAngina</th><td>-0.06</td></tr>\n",
       "\t<tr><th scope=row>Oldpeak</th><td>-0.06</td></tr>\n",
       "\t<tr><th scope=row>ST_Slope</th><td>-0.19</td></tr>\n",
       "</tbody>\n",
       "</table>\n"
      ],
      "text/latex": [
       "\\begin{tabular}{r|l}\n",
       "  & kernelSHAP\\\\\n",
       "\\hline\n",
       "\tAge & -0.07\\\\\n",
       "\tSex &  0.04\\\\\n",
       "\tChestPainType & -0.08\\\\\n",
       "\tRestingBP &  0.00\\\\\n",
       "\tCholesterol &  0.02\\\\\n",
       "\tFastingBS & -0.01\\\\\n",
       "\tRestingECG & -0.01\\\\\n",
       "\tMaxHR &  0.00\\\\\n",
       "\tExerciseAngina & -0.06\\\\\n",
       "\tOldpeak & -0.06\\\\\n",
       "\tST\\_Slope & -0.19\\\\\n",
       "\\end{tabular}\n"
      ],
      "text/markdown": [
       "\n",
       "| <!--/--> | kernelSHAP |\n",
       "|---|---|\n",
       "| Age | -0.07 |\n",
       "| Sex |  0.04 |\n",
       "| ChestPainType | -0.08 |\n",
       "| RestingBP |  0.00 |\n",
       "| Cholesterol |  0.02 |\n",
       "| FastingBS | -0.01 |\n",
       "| RestingECG | -0.01 |\n",
       "| MaxHR |  0.00 |\n",
       "| ExerciseAngina | -0.06 |\n",
       "| Oldpeak | -0.06 |\n",
       "| ST_Slope | -0.19 |\n",
       "\n"
      ],
      "text/plain": [
       "               kernelSHAP\n",
       "Age            -0.07     \n",
       "Sex             0.04     \n",
       "ChestPainType  -0.08     \n",
       "RestingBP       0.00     \n",
       "Cholesterol     0.02     \n",
       "FastingBS      -0.01     \n",
       "RestingECG     -0.01     \n",
       "MaxHR           0.00     \n",
       "ExerciseAngina -0.06     \n",
       "Oldpeak        -0.06     \n",
       "ST_Slope       -0.19     "
      ]
     },
     "metadata": {},
     "output_type": "display_data"
    },
    {
     "data": {
      "text/html": [
       "<table>\n",
       "<thead><tr><th></th><th scope=col>kernelSHAP</th></tr></thead>\n",
       "<tbody>\n",
       "\t<tr><th scope=row>Age</th><td>-0.03</td></tr>\n",
       "\t<tr><th scope=row>Sex</th><td> 0.02</td></tr>\n",
       "\t<tr><th scope=row>ChestPainType</th><td>-0.08</td></tr>\n",
       "\t<tr><th scope=row>RestingBP</th><td>-0.01</td></tr>\n",
       "\t<tr><th scope=row>Cholesterol</th><td>-0.01</td></tr>\n",
       "\t<tr><th scope=row>FastingBS</th><td> 0.00</td></tr>\n",
       "\t<tr><th scope=row>RestingECG</th><td>-0.02</td></tr>\n",
       "\t<tr><th scope=row>MaxHR</th><td> 0.00</td></tr>\n",
       "\t<tr><th scope=row>ExerciseAngina</th><td>-0.07</td></tr>\n",
       "\t<tr><th scope=row>Oldpeak</th><td>-0.05</td></tr>\n",
       "\t<tr><th scope=row>ST_Slope</th><td>-0.19</td></tr>\n",
       "</tbody>\n",
       "</table>\n"
      ],
      "text/latex": [
       "\\begin{tabular}{r|l}\n",
       "  & kernelSHAP\\\\\n",
       "\\hline\n",
       "\tAge & -0.03\\\\\n",
       "\tSex &  0.02\\\\\n",
       "\tChestPainType & -0.08\\\\\n",
       "\tRestingBP & -0.01\\\\\n",
       "\tCholesterol & -0.01\\\\\n",
       "\tFastingBS &  0.00\\\\\n",
       "\tRestingECG & -0.02\\\\\n",
       "\tMaxHR &  0.00\\\\\n",
       "\tExerciseAngina & -0.07\\\\\n",
       "\tOldpeak & -0.05\\\\\n",
       "\tST\\_Slope & -0.19\\\\\n",
       "\\end{tabular}\n"
      ],
      "text/markdown": [
       "\n",
       "| <!--/--> | kernelSHAP |\n",
       "|---|---|\n",
       "| Age | -0.03 |\n",
       "| Sex |  0.02 |\n",
       "| ChestPainType | -0.08 |\n",
       "| RestingBP | -0.01 |\n",
       "| Cholesterol | -0.01 |\n",
       "| FastingBS |  0.00 |\n",
       "| RestingECG | -0.02 |\n",
       "| MaxHR |  0.00 |\n",
       "| ExerciseAngina | -0.07 |\n",
       "| Oldpeak | -0.05 |\n",
       "| ST_Slope | -0.19 |\n",
       "\n"
      ],
      "text/plain": [
       "               kernelSHAP\n",
       "Age            -0.03     \n",
       "Sex             0.02     \n",
       "ChestPainType  -0.08     \n",
       "RestingBP      -0.01     \n",
       "Cholesterol    -0.01     \n",
       "FastingBS       0.00     \n",
       "RestingECG     -0.02     \n",
       "MaxHR           0.00     \n",
       "ExerciseAngina -0.07     \n",
       "Oldpeak        -0.05     \n",
       "ST_Slope       -0.19     "
      ]
     },
     "metadata": {},
     "output_type": "display_data"
    },
    {
     "data": {
      "text/html": [
       "<table>\n",
       "<thead><tr><th></th><th scope=col>kernelSHAP</th></tr></thead>\n",
       "<tbody>\n",
       "\t<tr><th scope=row>Age</th><td>-0.05</td></tr>\n",
       "\t<tr><th scope=row>Sex</th><td> 0.02</td></tr>\n",
       "\t<tr><th scope=row>ChestPainType</th><td>-0.04</td></tr>\n",
       "\t<tr><th scope=row>RestingBP</th><td>-0.02</td></tr>\n",
       "\t<tr><th scope=row>Cholesterol</th><td> 0.02</td></tr>\n",
       "\t<tr><th scope=row>FastingBS</th><td> 0.00</td></tr>\n",
       "\t<tr><th scope=row>RestingECG</th><td> 0.00</td></tr>\n",
       "\t<tr><th scope=row>MaxHR</th><td>-0.03</td></tr>\n",
       "\t<tr><th scope=row>ExerciseAngina</th><td>-0.05</td></tr>\n",
       "\t<tr><th scope=row>Oldpeak</th><td>-0.07</td></tr>\n",
       "\t<tr><th scope=row>ST_Slope</th><td>-0.20</td></tr>\n",
       "</tbody>\n",
       "</table>\n"
      ],
      "text/latex": [
       "\\begin{tabular}{r|l}\n",
       "  & kernelSHAP\\\\\n",
       "\\hline\n",
       "\tAge & -0.05\\\\\n",
       "\tSex &  0.02\\\\\n",
       "\tChestPainType & -0.04\\\\\n",
       "\tRestingBP & -0.02\\\\\n",
       "\tCholesterol &  0.02\\\\\n",
       "\tFastingBS &  0.00\\\\\n",
       "\tRestingECG &  0.00\\\\\n",
       "\tMaxHR & -0.03\\\\\n",
       "\tExerciseAngina & -0.05\\\\\n",
       "\tOldpeak & -0.07\\\\\n",
       "\tST\\_Slope & -0.20\\\\\n",
       "\\end{tabular}\n"
      ],
      "text/markdown": [
       "\n",
       "| <!--/--> | kernelSHAP |\n",
       "|---|---|\n",
       "| Age | -0.05 |\n",
       "| Sex |  0.02 |\n",
       "| ChestPainType | -0.04 |\n",
       "| RestingBP | -0.02 |\n",
       "| Cholesterol |  0.02 |\n",
       "| FastingBS |  0.00 |\n",
       "| RestingECG |  0.00 |\n",
       "| MaxHR | -0.03 |\n",
       "| ExerciseAngina | -0.05 |\n",
       "| Oldpeak | -0.07 |\n",
       "| ST_Slope | -0.20 |\n",
       "\n"
      ],
      "text/plain": [
       "               kernelSHAP\n",
       "Age            -0.05     \n",
       "Sex             0.02     \n",
       "ChestPainType  -0.04     \n",
       "RestingBP      -0.02     \n",
       "Cholesterol     0.02     \n",
       "FastingBS       0.00     \n",
       "RestingECG      0.00     \n",
       "MaxHR          -0.03     \n",
       "ExerciseAngina -0.05     \n",
       "Oldpeak        -0.07     \n",
       "ST_Slope       -0.20     "
      ]
     },
     "metadata": {},
     "output_type": "display_data"
    }
   ],
   "source": [
    "#Save local values for class 1 - phi (shapley values) patient B\n",
    "s_lr2 <- ive_lr2[ive_lr2[\"_ylevel_\"] == \"C1\",]\n",
    "lShap_lr2 = as.data.frame(s_lr2[\"_attribution_\"][,1])\n",
    "rownames(lShap_lr2) = s_lr2[\"_vname_\"][,1]\n",
    "colnames(lShap_lr2) = expression(\"kernelSHAP\")\n",
    "round(lShap_lr2,2)\n",
    "saveRDS(lShap_lr2,file=\"Local_B/shap_LR.Rda\")\n",
    "\n",
    "s_rf2 <- ive_rf2[ive_rf2[\"_ylevel_\"] == \"1\",]\n",
    "lShap_rf2 = as.data.frame(s_rf2[\"_attribution_\"][,1])\n",
    "rownames(lShap_rf2) = s_rf2[\"_vname_\"][,1]\n",
    "colnames(lShap_rf2) = expression(\"kernelSHAP\")\n",
    "round(lShap_rf2,2)\n",
    "saveRDS(lShap_rf2,file=\"Local_B/shap_RF.Rda\")\n",
    "\n",
    "s_svm2 <- ive_svm2[ive_svm2[\"_ylevel_\"] == \"1\",]\n",
    "lShap_svm2 = as.data.frame(s_svm2[\"_attribution_\"][,1])\n",
    "rownames(lShap_svm2) = s_svm2[\"_vname_\"][,1]\n",
    "colnames(lShap_svm2) = expression(\"kernelSHAP\")\n",
    "round(lShap_svm2,2)\n",
    "saveRDS(lShap_svm2,file=\"Local_B/shap_SVM.Rda\")"
   ]
  },
  {
   "cell_type": "markdown",
   "metadata": {},
   "source": [
    "#### Patient C"
   ]
  },
  {
   "cell_type": "code",
   "execution_count": 13,
   "metadata": {
    "scrolled": true
   },
   "outputs": [
    {
     "data": {
      "text/plain": [
       "   user  system elapsed \n",
       "   2.22    1.23   19.66 "
      ]
     },
     "metadata": {},
     "output_type": "display_data"
    },
    {
     "data": {
      "text/plain": [
       "   user  system elapsed \n",
       "   1.94    0.00    1.97 "
      ]
     },
     "metadata": {},
     "output_type": "display_data"
    },
    {
     "data": {
      "text/plain": [
       "   user  system elapsed \n",
       "   1.94    0.01    1.96 "
      ]
     },
     "metadata": {},
     "output_type": "display_data"
    }
   ],
   "source": [
    "library(shapper)\n",
    "#ive for individuable variable effect - patient B\n",
    "system.time(ive_lr3 <- individual_variable_effect(lr.heartdisease, data = data_train, \n",
    "                                                 predict_function = pred_lr,new_observation = instance3, nsamples=100))\n",
    "system.time(ive_rf3 <- individual_variable_effect(rf.heartdisease, data = data_train, \n",
    "                                                 predict_function = pred_rf, new_observation = instance3, nsamples=100))\n",
    "system.time(ive_svm3 <- individual_variable_effect(svm.heartdisease, data = data_train, \n",
    "                                                  predict_function = pred_svm, new_observation = instance3, nsamples=100))"
   ]
  },
  {
   "cell_type": "code",
   "execution_count": 16,
   "metadata": {},
   "outputs": [
    {
     "data": {
      "image/png": "[encoded data removed]",
      "text/plain": [
       "plot without title"
      ]
     },
     "metadata": {},
     "output_type": "display_data"
    },
    {
     "data": {
      "image/png": "[encoded data removed]",
      "text/plain": [
       "plot without title"
      ]
     },
     "metadata": {},
     "output_type": "display_data"
    },
    {
     "data": {
      "image/png": "[encoded data removed]",
      "text/plain": [
       "plot without title"
      ]
     },
     "metadata": {},
     "output_type": "display_data"
    }
   ],
   "source": [
    "# filtered lr- only class 1\n",
    "ive_lr_filtered3 <- dplyr::filter(ive_lr3, `_ylevel_` == \"C1\")\n",
    "shapper:::plot.individual_variable_effect(ive_lr_filtered3)\n",
    "# filtered rf- only class 1\n",
    "ive_rf_filtered3 <- dplyr::filter(ive_rf3, `_ylevel_` == \"1\")\n",
    "shapper:::plot.individual_variable_effect(ive_rf_filtered3)\n",
    "# filtered svm- only class 1\n",
    "ive_svm_filtered3 <- dplyr::filter(ive_svm3, `_ylevel_` == \"1\")\n",
    "shapper:::plot.individual_variable_effect(ive_svm_filtered3)"
   ]
  },
  {
   "cell_type": "code",
   "execution_count": 18,
   "metadata": {},
   "outputs": [
    {
     "name": "stdout",
     "output_type": "stream",
     "text": [
      "[1] -0.006900552\n",
      "[1] -0.006900552\n"
     ]
    },
    {
     "data": {
      "text/html": [
       "FALSE"
      ],
      "text/latex": [
       "FALSE"
      ],
      "text/markdown": [
       "FALSE"
      ],
      "text/plain": [
       "[1] FALSE"
      ]
     },
     "metadata": {},
     "output_type": "display_data"
    }
   ],
   "source": [
    "# sum of the shapley values (class 1, SVM model)\n",
    "sum_shap <- sum(ive_svm_filtered3[\"_attribution_\"])\n",
    "print(sum_shap)\n",
    "# f(x)-E[f(x)] = sum(shapley_values) ?\n",
    "print(ive_svm_filtered3[\"_yhat_\"][1,] - ive_svm_filtered3[\"_yhat_mean_\"][1,])\n",
    "ive_svm_filtered3[\"_yhat_\"][1,] - ive_svm_filtered3[\"_yhat_mean_\"][1,] == sum_shap"
   ]
  },
  {
   "cell_type": "code",
   "execution_count": 19,
   "metadata": {
    "scrolled": true
   },
   "outputs": [
    {
     "data": {
      "text/html": [
       "<table>\n",
       "<thead><tr><th></th><th scope=col>kernelSHAP</th></tr></thead>\n",
       "<tbody>\n",
       "\t<tr><th scope=row>Age</th><td>-0.03</td></tr>\n",
       "\t<tr><th scope=row>Sex</th><td> 0.06</td></tr>\n",
       "\t<tr><th scope=row>ChestPainType</th><td>-0.14</td></tr>\n",
       "\t<tr><th scope=row>RestingBP</th><td> 0.00</td></tr>\n",
       "\t<tr><th scope=row>Cholesterol</th><td> 0.02</td></tr>\n",
       "\t<tr><th scope=row>FastingBS</th><td>-0.01</td></tr>\n",
       "\t<tr><th scope=row>RestingECG</th><td>-0.02</td></tr>\n",
       "\t<tr><th scope=row>MaxHR</th><td> 0.00</td></tr>\n",
       "\t<tr><th scope=row>ExerciseAngina</th><td>-0.08</td></tr>\n",
       "\t<tr><th scope=row>Oldpeak</th><td>-0.08</td></tr>\n",
       "\t<tr><th scope=row>ST_Slope</th><td> 0.17</td></tr>\n",
       "</tbody>\n",
       "</table>\n"
      ],
      "text/latex": [
       "\\begin{tabular}{r|l}\n",
       "  & kernelSHAP\\\\\n",
       "\\hline\n",
       "\tAge & -0.03\\\\\n",
       "\tSex &  0.06\\\\\n",
       "\tChestPainType & -0.14\\\\\n",
       "\tRestingBP &  0.00\\\\\n",
       "\tCholesterol &  0.02\\\\\n",
       "\tFastingBS & -0.01\\\\\n",
       "\tRestingECG & -0.02\\\\\n",
       "\tMaxHR &  0.00\\\\\n",
       "\tExerciseAngina & -0.08\\\\\n",
       "\tOldpeak & -0.08\\\\\n",
       "\tST\\_Slope &  0.17\\\\\n",
       "\\end{tabular}\n"
      ],
      "text/markdown": [
       "\n",
       "| <!--/--> | kernelSHAP |\n",
       "|---|---|\n",
       "| Age | -0.03 |\n",
       "| Sex |  0.06 |\n",
       "| ChestPainType | -0.14 |\n",
       "| RestingBP |  0.00 |\n",
       "| Cholesterol |  0.02 |\n",
       "| FastingBS | -0.01 |\n",
       "| RestingECG | -0.02 |\n",
       "| MaxHR |  0.00 |\n",
       "| ExerciseAngina | -0.08 |\n",
       "| Oldpeak | -0.08 |\n",
       "| ST_Slope |  0.17 |\n",
       "\n"
      ],
      "text/plain": [
       "               kernelSHAP\n",
       "Age            -0.03     \n",
       "Sex             0.06     \n",
       "ChestPainType  -0.14     \n",
       "RestingBP       0.00     \n",
       "Cholesterol     0.02     \n",
       "FastingBS      -0.01     \n",
       "RestingECG     -0.02     \n",
       "MaxHR           0.00     \n",
       "ExerciseAngina -0.08     \n",
       "Oldpeak        -0.08     \n",
       "ST_Slope        0.17     "
      ]
     },
     "metadata": {},
     "output_type": "display_data"
    },
    {
     "data": {
      "text/html": [
       "<table>\n",
       "<thead><tr><th></th><th scope=col>kernelSHAP</th></tr></thead>\n",
       "<tbody>\n",
       "\t<tr><th scope=row>Age</th><td>-0.01</td></tr>\n",
       "\t<tr><th scope=row>Sex</th><td> 0.03</td></tr>\n",
       "\t<tr><th scope=row>ChestPainType</th><td>-0.11</td></tr>\n",
       "\t<tr><th scope=row>RestingBP</th><td>-0.02</td></tr>\n",
       "\t<tr><th scope=row>Cholesterol</th><td> 0.03</td></tr>\n",
       "\t<tr><th scope=row>FastingBS</th><td> 0.00</td></tr>\n",
       "\t<tr><th scope=row>RestingECG</th><td> 0.00</td></tr>\n",
       "\t<tr><th scope=row>MaxHR</th><td>-0.09</td></tr>\n",
       "\t<tr><th scope=row>ExerciseAngina</th><td>-0.02</td></tr>\n",
       "\t<tr><th scope=row>Oldpeak</th><td>-0.02</td></tr>\n",
       "\t<tr><th scope=row>ST_Slope</th><td> 0.19</td></tr>\n",
       "</tbody>\n",
       "</table>\n"
      ],
      "text/latex": [
       "\\begin{tabular}{r|l}\n",
       "  & kernelSHAP\\\\\n",
       "\\hline\n",
       "\tAge & -0.01\\\\\n",
       "\tSex &  0.03\\\\\n",
       "\tChestPainType & -0.11\\\\\n",
       "\tRestingBP & -0.02\\\\\n",
       "\tCholesterol &  0.03\\\\\n",
       "\tFastingBS &  0.00\\\\\n",
       "\tRestingECG &  0.00\\\\\n",
       "\tMaxHR & -0.09\\\\\n",
       "\tExerciseAngina & -0.02\\\\\n",
       "\tOldpeak & -0.02\\\\\n",
       "\tST\\_Slope &  0.19\\\\\n",
       "\\end{tabular}\n"
      ],
      "text/markdown": [
       "\n",
       "| <!--/--> | kernelSHAP |\n",
       "|---|---|\n",
       "| Age | -0.01 |\n",
       "| Sex |  0.03 |\n",
       "| ChestPainType | -0.11 |\n",
       "| RestingBP | -0.02 |\n",
       "| Cholesterol |  0.03 |\n",
       "| FastingBS |  0.00 |\n",
       "| RestingECG |  0.00 |\n",
       "| MaxHR | -0.09 |\n",
       "| ExerciseAngina | -0.02 |\n",
       "| Oldpeak | -0.02 |\n",
       "| ST_Slope |  0.19 |\n",
       "\n"
      ],
      "text/plain": [
       "               kernelSHAP\n",
       "Age            -0.01     \n",
       "Sex             0.03     \n",
       "ChestPainType  -0.11     \n",
       "RestingBP      -0.02     \n",
       "Cholesterol     0.03     \n",
       "FastingBS       0.00     \n",
       "RestingECG      0.00     \n",
       "MaxHR          -0.09     \n",
       "ExerciseAngina -0.02     \n",
       "Oldpeak        -0.02     \n",
       "ST_Slope        0.19     "
      ]
     },
     "metadata": {},
     "output_type": "display_data"
    },
    {
     "data": {
      "text/html": [
       "<table>\n",
       "<thead><tr><th></th><th scope=col>kernelSHAP</th></tr></thead>\n",
       "<tbody>\n",
       "\t<tr><th scope=row>Age</th><td>-0.03</td></tr>\n",
       "\t<tr><th scope=row>Sex</th><td> 0.06</td></tr>\n",
       "\t<tr><th scope=row>ChestPainType</th><td>-0.10</td></tr>\n",
       "\t<tr><th scope=row>RestingBP</th><td> 0.02</td></tr>\n",
       "\t<tr><th scope=row>Cholesterol</th><td> 0.02</td></tr>\n",
       "\t<tr><th scope=row>FastingBS</th><td>-0.01</td></tr>\n",
       "\t<tr><th scope=row>RestingECG</th><td> 0.01</td></tr>\n",
       "\t<tr><th scope=row>MaxHR</th><td>-0.07</td></tr>\n",
       "\t<tr><th scope=row>ExerciseAngina</th><td>-0.06</td></tr>\n",
       "\t<tr><th scope=row>Oldpeak</th><td>-0.04</td></tr>\n",
       "\t<tr><th scope=row>ST_Slope</th><td> 0.20</td></tr>\n",
       "</tbody>\n",
       "</table>\n"
      ],
      "text/latex": [
       "\\begin{tabular}{r|l}\n",
       "  & kernelSHAP\\\\\n",
       "\\hline\n",
       "\tAge & -0.03\\\\\n",
       "\tSex &  0.06\\\\\n",
       "\tChestPainType & -0.10\\\\\n",
       "\tRestingBP &  0.02\\\\\n",
       "\tCholesterol &  0.02\\\\\n",
       "\tFastingBS & -0.01\\\\\n",
       "\tRestingECG &  0.01\\\\\n",
       "\tMaxHR & -0.07\\\\\n",
       "\tExerciseAngina & -0.06\\\\\n",
       "\tOldpeak & -0.04\\\\\n",
       "\tST\\_Slope &  0.20\\\\\n",
       "\\end{tabular}\n"
      ],
      "text/markdown": [
       "\n",
       "| <!--/--> | kernelSHAP |\n",
       "|---|---|\n",
       "| Age | -0.03 |\n",
       "| Sex |  0.06 |\n",
       "| ChestPainType | -0.10 |\n",
       "| RestingBP |  0.02 |\n",
       "| Cholesterol |  0.02 |\n",
       "| FastingBS | -0.01 |\n",
       "| RestingECG |  0.01 |\n",
       "| MaxHR | -0.07 |\n",
       "| ExerciseAngina | -0.06 |\n",
       "| Oldpeak | -0.04 |\n",
       "| ST_Slope |  0.20 |\n",
       "\n"
      ],
      "text/plain": [
       "               kernelSHAP\n",
       "Age            -0.03     \n",
       "Sex             0.06     \n",
       "ChestPainType  -0.10     \n",
       "RestingBP       0.02     \n",
       "Cholesterol     0.02     \n",
       "FastingBS      -0.01     \n",
       "RestingECG      0.01     \n",
       "MaxHR          -0.07     \n",
       "ExerciseAngina -0.06     \n",
       "Oldpeak        -0.04     \n",
       "ST_Slope        0.20     "
      ]
     },
     "metadata": {},
     "output_type": "display_data"
    }
   ],
   "source": [
    "#Save local values for class 1 - phi (shapley values) patient B\n",
    "s_lr3 <- ive_lr3[ive_lr3[\"_ylevel_\"] == \"C1\",]\n",
    "lShap_lr3 = as.data.frame(s_lr3[\"_attribution_\"][,1])\n",
    "rownames(lShap_lr3) = s_lr3[\"_vname_\"][,1]\n",
    "colnames(lShap_lr3) = expression(\"kernelSHAP\")\n",
    "round(lShap_lr3,2)\n",
    "saveRDS(lShap_lr3,file=\"Local_C/shap_LR.Rda\")\n",
    "\n",
    "s_rf3 <- ive_rf3[ive_rf3[\"_ylevel_\"] == \"1\",]\n",
    "lShap_rf3 = as.data.frame(s_rf3[\"_attribution_\"][,1])\n",
    "rownames(lShap_rf3) = s_rf3[\"_vname_\"][,1]\n",
    "colnames(lShap_rf3) = expression(\"kernelSHAP\")\n",
    "round(lShap_rf3,2)\n",
    "saveRDS(lShap_rf3,file=\"Local_C/shap_RF.Rda\")\n",
    "\n",
    "s_svm3 <- ive_svm3[ive_svm3[\"_ylevel_\"] == \"1\",]\n",
    "lShap_svm3 = as.data.frame(s_svm3[\"_attribution_\"][,1])\n",
    "rownames(lShap_svm3) = s_svm3[\"_vname_\"][,1]\n",
    "colnames(lShap_svm3) = expression(\"kernelSHAP\")\n",
    "round(lShap_svm3,2)\n",
    "saveRDS(lShap_svm3,file=\"Local_C/shap_SVM.Rda\")"
   ]
  },
  {
   "cell_type": "markdown",
   "metadata": {},
   "source": [
    "#### Global explanation"
   ]
  },
  {
   "cell_type": "code",
   "execution_count": 19,
   "metadata": {},
   "outputs": [],
   "source": [
    "source(\"Global.R\")\n",
    "library(shapper)"
   ]
  },
  {
   "cell_type": "code",
   "execution_count": 27,
   "metadata": {},
   "outputs": [
    {
     "data": {
      "text/plain": [
       "   user  system elapsed \n",
       " 520.27    6.54  559.31 "
      ]
     },
     "metadata": {},
     "output_type": "display_data"
    }
   ],
   "source": [
    "# Compute global values for class 1 - index 2; n.inst = all data train: 527 instances\n",
    "system.time(gShap_lr <- globalShap(lr.heartdisease, data_train, pred_lr, ninst=nrow(data_train), class.idx = 2))"
   ]
  },
  {
   "cell_type": "code",
   "execution_count": 29,
   "metadata": {},
   "outputs": [
    {
     "data": {
      "text/html": [
       "<table>\n",
       "<thead><tr><th></th><th scope=col>phi</th><th scope=col>sd</th></tr></thead>\n",
       "<tbody>\n",
       "\t<tr><th scope=row>Age</th><td>0.06</td><td>0.04</td></tr>\n",
       "\t<tr><th scope=row>Sex</th><td>0.14</td><td>0.09</td></tr>\n",
       "\t<tr><th scope=row>ChestPainType</th><td>0.18</td><td>0.06</td></tr>\n",
       "\t<tr><th scope=row>RestingBP</th><td>0.00</td><td>0.01</td></tr>\n",
       "\t<tr><th scope=row>Cholesterol</th><td>0.03</td><td>0.03</td></tr>\n",
       "\t<tr><th scope=row>FastingBS</th><td>0.02</td><td>0.02</td></tr>\n",
       "\t<tr><th scope=row>RestingECG</th><td>0.02</td><td>0.01</td></tr>\n",
       "\t<tr><th scope=row>MaxHR</th><td>0.00</td><td>0.01</td></tr>\n",
       "\t<tr><th scope=row>ExerciseAngina</th><td>0.13</td><td>0.04</td></tr>\n",
       "\t<tr><th scope=row>Oldpeak</th><td>0.10</td><td>0.05</td></tr>\n",
       "\t<tr><th scope=row>ST_Slope</th><td>0.30</td><td>0.07</td></tr>\n",
       "</tbody>\n",
       "</table>\n"
      ],
      "text/latex": [
       "\\begin{tabular}{r|ll}\n",
       "  & phi & sd\\\\\n",
       "\\hline\n",
       "\tAge & 0.06 & 0.04\\\\\n",
       "\tSex & 0.14 & 0.09\\\\\n",
       "\tChestPainType & 0.18 & 0.06\\\\\n",
       "\tRestingBP & 0.00 & 0.01\\\\\n",
       "\tCholesterol & 0.03 & 0.03\\\\\n",
       "\tFastingBS & 0.02 & 0.02\\\\\n",
       "\tRestingECG & 0.02 & 0.01\\\\\n",
       "\tMaxHR & 0.00 & 0.01\\\\\n",
       "\tExerciseAngina & 0.13 & 0.04\\\\\n",
       "\tOldpeak & 0.10 & 0.05\\\\\n",
       "\tST\\_Slope & 0.30 & 0.07\\\\\n",
       "\\end{tabular}\n"
      ],
      "text/markdown": [
       "\n",
       "| <!--/--> | phi | sd |\n",
       "|---|---|---|\n",
       "| Age | 0.06 | 0.04 |\n",
       "| Sex | 0.14 | 0.09 |\n",
       "| ChestPainType | 0.18 | 0.06 |\n",
       "| RestingBP | 0.00 | 0.01 |\n",
       "| Cholesterol | 0.03 | 0.03 |\n",
       "| FastingBS | 0.02 | 0.02 |\n",
       "| RestingECG | 0.02 | 0.01 |\n",
       "| MaxHR | 0.00 | 0.01 |\n",
       "| ExerciseAngina | 0.13 | 0.04 |\n",
       "| Oldpeak | 0.10 | 0.05 |\n",
       "| ST_Slope | 0.30 | 0.07 |\n",
       "\n"
      ],
      "text/plain": [
       "               phi  sd  \n",
       "Age            0.06 0.04\n",
       "Sex            0.14 0.09\n",
       "ChestPainType  0.18 0.06\n",
       "RestingBP      0.00 0.01\n",
       "Cholesterol    0.03 0.03\n",
       "FastingBS      0.02 0.02\n",
       "RestingECG     0.02 0.01\n",
       "MaxHR          0.00 0.01\n",
       "ExerciseAngina 0.13 0.04\n",
       "Oldpeak        0.10 0.05\n",
       "ST_Slope       0.30 0.07"
      ]
     },
     "metadata": {},
     "output_type": "display_data"
    }
   ],
   "source": [
    "round(gShap_lr,2)\n",
    "saveRDS(gShap_lr,file=\"Global/gShap_LR.Rda\")"
   ]
  },
  {
   "cell_type": "code",
   "execution_count": 20,
   "metadata": {},
   "outputs": [
    {
     "data": {
      "text/plain": [
       "   user  system elapsed \n",
       "1266.83    7.31 1407.37 "
      ]
     },
     "metadata": {},
     "output_type": "display_data"
    }
   ],
   "source": [
    "system.time(gShap_rf <- globalShap(rf.heartdisease, data_train, pred_rf, ninst = nrow(data_train), class.idx=2))"
   ]
  },
  {
   "cell_type": "code",
   "execution_count": 22,
   "metadata": {},
   "outputs": [
    {
     "data": {
      "text/html": [
       "<table>\n",
       "<thead><tr><th></th><th scope=col>phi</th><th scope=col>sd</th></tr></thead>\n",
       "<tbody>\n",
       "\t<tr><th scope=row>Age</th><td>0.06</td><td>0.04</td></tr>\n",
       "\t<tr><th scope=row>Sex</th><td>0.08</td><td>0.06</td></tr>\n",
       "\t<tr><th scope=row>ChestPainType</th><td>0.18</td><td>0.06</td></tr>\n",
       "\t<tr><th scope=row>RestingBP</th><td>0.03</td><td>0.03</td></tr>\n",
       "\t<tr><th scope=row>Cholesterol</th><td>0.03</td><td>0.03</td></tr>\n",
       "\t<tr><th scope=row>FastingBS</th><td>0.01</td><td>0.01</td></tr>\n",
       "\t<tr><th scope=row>RestingECG</th><td>0.02</td><td>0.02</td></tr>\n",
       "\t<tr><th scope=row>MaxHR</th><td>0.06</td><td>0.04</td></tr>\n",
       "\t<tr><th scope=row>ExerciseAngina</th><td>0.14</td><td>0.06</td></tr>\n",
       "\t<tr><th scope=row>Oldpeak</th><td>0.11</td><td>0.06</td></tr>\n",
       "\t<tr><th scope=row>ST_Slope</th><td>0.27</td><td>0.09</td></tr>\n",
       "</tbody>\n",
       "</table>\n"
      ],
      "text/latex": [
       "\\begin{tabular}{r|ll}\n",
       "  & phi & sd\\\\\n",
       "\\hline\n",
       "\tAge & 0.06 & 0.04\\\\\n",
       "\tSex & 0.08 & 0.06\\\\\n",
       "\tChestPainType & 0.18 & 0.06\\\\\n",
       "\tRestingBP & 0.03 & 0.03\\\\\n",
       "\tCholesterol & 0.03 & 0.03\\\\\n",
       "\tFastingBS & 0.01 & 0.01\\\\\n",
       "\tRestingECG & 0.02 & 0.02\\\\\n",
       "\tMaxHR & 0.06 & 0.04\\\\\n",
       "\tExerciseAngina & 0.14 & 0.06\\\\\n",
       "\tOldpeak & 0.11 & 0.06\\\\\n",
       "\tST\\_Slope & 0.27 & 0.09\\\\\n",
       "\\end{tabular}\n"
      ],
      "text/markdown": [
       "\n",
       "| <!--/--> | phi | sd |\n",
       "|---|---|---|\n",
       "| Age | 0.06 | 0.04 |\n",
       "| Sex | 0.08 | 0.06 |\n",
       "| ChestPainType | 0.18 | 0.06 |\n",
       "| RestingBP | 0.03 | 0.03 |\n",
       "| Cholesterol | 0.03 | 0.03 |\n",
       "| FastingBS | 0.01 | 0.01 |\n",
       "| RestingECG | 0.02 | 0.02 |\n",
       "| MaxHR | 0.06 | 0.04 |\n",
       "| ExerciseAngina | 0.14 | 0.06 |\n",
       "| Oldpeak | 0.11 | 0.06 |\n",
       "| ST_Slope | 0.27 | 0.09 |\n",
       "\n"
      ],
      "text/plain": [
       "               phi  sd  \n",
       "Age            0.06 0.04\n",
       "Sex            0.08 0.06\n",
       "ChestPainType  0.18 0.06\n",
       "RestingBP      0.03 0.03\n",
       "Cholesterol    0.03 0.03\n",
       "FastingBS      0.01 0.01\n",
       "RestingECG     0.02 0.02\n",
       "MaxHR          0.06 0.04\n",
       "ExerciseAngina 0.14 0.06\n",
       "Oldpeak        0.11 0.06\n",
       "ST_Slope       0.27 0.09"
      ]
     },
     "metadata": {},
     "output_type": "display_data"
    }
   ],
   "source": [
    "round(gShap_rf,2)\n",
    "saveRDS(gShap_rf,file=\"Global/gShap_RF.Rda\")"
   ]
  },
  {
   "cell_type": "code",
   "execution_count": 23,
   "metadata": {},
   "outputs": [
    {
     "data": {
      "text/plain": [
       "   user  system elapsed \n",
       "1456.69   12.98 1627.67 "
      ]
     },
     "metadata": {},
     "output_type": "display_data"
    }
   ],
   "source": [
    "system.time(gShap_svm <- globalShap(svm.heartdisease, data_train, pred_svm, ninst = nrow(data_train), class.idx=2))"
   ]
  },
  {
   "cell_type": "code",
   "execution_count": 25,
   "metadata": {},
   "outputs": [
    {
     "data": {
      "text/html": [
       "<table>\n",
       "<thead><tr><th></th><th scope=col>phi</th><th scope=col>sd</th></tr></thead>\n",
       "<tbody>\n",
       "\t<tr><th scope=row>Age</th><td>0.06</td><td>0.04</td></tr>\n",
       "\t<tr><th scope=row>Sex</th><td>0.11</td><td>0.07</td></tr>\n",
       "\t<tr><th scope=row>ChestPainType</th><td>0.10</td><td>0.02</td></tr>\n",
       "\t<tr><th scope=row>RestingBP</th><td>0.02</td><td>0.02</td></tr>\n",
       "\t<tr><th scope=row>Cholesterol</th><td>0.04</td><td>0.03</td></tr>\n",
       "\t<tr><th scope=row>FastingBS</th><td>0.01</td><td>0.02</td></tr>\n",
       "\t<tr><th scope=row>RestingECG</th><td>0.01</td><td>0.01</td></tr>\n",
       "\t<tr><th scope=row>MaxHR</th><td>0.06</td><td>0.04</td></tr>\n",
       "\t<tr><th scope=row>ExerciseAngina</th><td>0.12</td><td>0.04</td></tr>\n",
       "\t<tr><th scope=row>Oldpeak</th><td>0.13</td><td>0.09</td></tr>\n",
       "\t<tr><th scope=row>ST_Slope</th><td>0.34</td><td>0.09</td></tr>\n",
       "</tbody>\n",
       "</table>\n"
      ],
      "text/latex": [
       "\\begin{tabular}{r|ll}\n",
       "  & phi & sd\\\\\n",
       "\\hline\n",
       "\tAge & 0.06 & 0.04\\\\\n",
       "\tSex & 0.11 & 0.07\\\\\n",
       "\tChestPainType & 0.10 & 0.02\\\\\n",
       "\tRestingBP & 0.02 & 0.02\\\\\n",
       "\tCholesterol & 0.04 & 0.03\\\\\n",
       "\tFastingBS & 0.01 & 0.02\\\\\n",
       "\tRestingECG & 0.01 & 0.01\\\\\n",
       "\tMaxHR & 0.06 & 0.04\\\\\n",
       "\tExerciseAngina & 0.12 & 0.04\\\\\n",
       "\tOldpeak & 0.13 & 0.09\\\\\n",
       "\tST\\_Slope & 0.34 & 0.09\\\\\n",
       "\\end{tabular}\n"
      ],
      "text/markdown": [
       "\n",
       "| <!--/--> | phi | sd |\n",
       "|---|---|---|\n",
       "| Age | 0.06 | 0.04 |\n",
       "| Sex | 0.11 | 0.07 |\n",
       "| ChestPainType | 0.10 | 0.02 |\n",
       "| RestingBP | 0.02 | 0.02 |\n",
       "| Cholesterol | 0.04 | 0.03 |\n",
       "| FastingBS | 0.01 | 0.02 |\n",
       "| RestingECG | 0.01 | 0.01 |\n",
       "| MaxHR | 0.06 | 0.04 |\n",
       "| ExerciseAngina | 0.12 | 0.04 |\n",
       "| Oldpeak | 0.13 | 0.09 |\n",
       "| ST_Slope | 0.34 | 0.09 |\n",
       "\n"
      ],
      "text/plain": [
       "               phi  sd  \n",
       "Age            0.06 0.04\n",
       "Sex            0.11 0.07\n",
       "ChestPainType  0.10 0.02\n",
       "RestingBP      0.02 0.02\n",
       "Cholesterol    0.04 0.03\n",
       "FastingBS      0.01 0.02\n",
       "RestingECG     0.01 0.01\n",
       "MaxHR          0.06 0.04\n",
       "ExerciseAngina 0.12 0.04\n",
       "Oldpeak        0.13 0.09\n",
       "ST_Slope       0.34 0.09"
      ]
     },
     "metadata": {},
     "output_type": "display_data"
    }
   ],
   "source": [
    "round(gShap_svm,2)\n",
    "saveRDS(gShap_svm,file=\"Global/gShap_SVM.Rda\")"
   ]
  },
  {
   "cell_type": "markdown",
   "metadata": {},
   "source": [
    "# XAI Benchmark - KernelSHAP"
   ]
  },
  {
   "cell_type": "markdown",
   "metadata": {},
   "source": [
    "## Contrastivity"
   ]
  },
  {
   "cell_type": "code",
   "execution_count": 20,
   "metadata": {},
   "outputs": [],
   "source": [
    "shap_lr_A <- readRDS(file=\"Local_A/shap_LR.Rda\")\n",
    "shap_rf_A <- readRDS(file=\"Local_A/shap_RF.Rda\")\n",
    "shap_svm_A <- readRDS(file=\"Local_A/shap_SVM.Rda\")\n",
    "changed_A_lr <- readRDS(file=\"Adversial/A_adv_lr.Rda\")\n",
    "changed_A_rf <- readRDS(file=\"Adversial/A_adv_rf.Rda\")\n",
    "changed_A_svm <- readRDS(file=\"Adversial/A_adv_svm.Rda\")"
   ]
  },
  {
   "cell_type": "code",
   "execution_count": 36,
   "metadata": {},
   "outputs": [
    {
     "data": {
      "image/png": "[encoded data removed]",
      "text/plain": [
       "plot without title"
      ]
     },
     "metadata": {},
     "output_type": "display_data"
    },
    {
     "data": {
      "image/png": "[encoded data removed]",
      "text/plain": [
       "plot without title"
      ]
     },
     "metadata": {},
     "output_type": "display_data"
    },
    {
     "data": {
      "image/png": "[encoded data removed]",
      "text/plain": [
       "plot without title"
      ]
     },
     "metadata": {},
     "output_type": "display_data"
    }
   ],
   "source": [
    "### Check Target Sensitivity for SHAP\n",
    "library(shapper)\n",
    "#Create explanation\n",
    "adv_shap_lr <- individual_variable_effect(lr.heartdisease, data = data_train, \n",
    "                                          predict_function = pred_lr, new_observation = changed_A_lr, nsamples=100)\n",
    "adv_shap_rf <- individual_variable_effect(rf.heartdisease, data = data_train, \n",
    "                                          predict_function = pred_rf, new_observation = changed_A_rf, nsamples=100)\n",
    "adv_shap_svm <- individual_variable_effect(svm.heartdisease, data = data_train, \n",
    "                                          predict_function = pred_svm, new_observation = changed_A_svm, nsamples=100)\n",
    "#Compare with explanations for instance A!!\n",
    "# filtered lr- only class 1\n",
    "ive_lr_filtered <- dplyr::filter(adv_shap_lr, `_ylevel_` == \"C1\")\n",
    "shapper:::plot.individual_variable_effect(ive_lr_filtered)\n",
    "# filtered rf- only class 1\n",
    "ive_rf_filtered <- dplyr::filter(adv_shap_rf, `_ylevel_` == \"1\")\n",
    "shapper:::plot.individual_variable_effect(ive_rf_filtered)\n",
    "# filtered svm- only class 1\n",
    "ive_svm_filtered <- dplyr::filter(adv_shap_svm, `_ylevel_` == \"1\")\n",
    "shapper:::plot.individual_variable_effect(ive_svm_filtered)"
   ]
  },
  {
   "cell_type": "markdown",
   "metadata": {},
   "source": [
    "**L2 norm SHAP**"
   ]
  },
  {
   "cell_type": "code",
   "execution_count": 24,
   "metadata": {},
   "outputs": [
    {
     "data": {
      "text/html": [
       "'LR: 0.23'"
      ],
      "text/latex": [
       "'LR: 0.23'"
      ],
      "text/markdown": [
       "'LR: 0.23'"
      ],
      "text/plain": [
       "[1] \"LR: 0.23\""
      ]
     },
     "metadata": {},
     "output_type": "display_data"
    }
   ],
   "source": [
    "library(\"wavethresh\")\n",
    "ive_lr_filtered <- dplyr::filter(adv_shap_lr, `_ylevel_` == \"C1\")\n",
    "label_1 = shap_lr_A[,1]\n",
    "label_0 = ive_lr_filtered[\"_attribution_\"][,1]\n",
    "paste0(\"LR: \", round(l2norm(label_1,label_0),2))"
   ]
  },
  {
   "cell_type": "code",
   "execution_count": 29,
   "metadata": {},
   "outputs": [
    {
     "data": {
      "text/html": [
       "'RF: 0.23'"
      ],
      "text/latex": [
       "'RF: 0.23'"
      ],
      "text/markdown": [
       "'RF: 0.23'"
      ],
      "text/plain": [
       "[1] \"RF: 0.23\""
      ]
     },
     "metadata": {},
     "output_type": "display_data"
    }
   ],
   "source": [
    "ive_rf_filtered <- dplyr::filter(adv_shap_rf, `_ylevel_` == \"1\")\n",
    "label_1 = shap_rf_A[,1]\n",
    "label_0 = ive_rf_filtered[\"_attribution_\"][,1]\n",
    "paste0(\"RF: \", round(l2norm(label_1,label_0),2))"
   ]
  },
  {
   "cell_type": "code",
   "execution_count": 30,
   "metadata": {},
   "outputs": [
    {
     "data": {
      "text/html": [
       "'SVM: 0.21'"
      ],
      "text/latex": [
       "'SVM: 0.21'"
      ],
      "text/markdown": [
       "'SVM: 0.21'"
      ],
      "text/plain": [
       "[1] \"SVM: 0.21\""
      ]
     },
     "metadata": {},
     "output_type": "display_data"
    }
   ],
   "source": [
    "ive_svm_filtered <- dplyr::filter(adv_shap_svm, `_ylevel_` == \"1\")\n",
    "label_1 = shap_svm_A[,1]\n",
    "label_0 = ive_svm_filtered[\"_attribution_\"][,1]\n",
    "paste0(\"SVM: \", round(l2norm(label_1,label_0),2))"
   ]
  },
  {
   "cell_type": "markdown",
   "metadata": {},
   "source": [
    "## Faithfulness - WB Check"
   ]
  },
  {
   "cell_type": "code",
   "execution_count": 13,
   "metadata": {},
   "outputs": [],
   "source": [
    "#Impor linear model\n",
    "mod.lm <- readRDS(\"Models/WB.lm.rds\")"
   ]
  },
  {
   "cell_type": "code",
   "execution_count": 14,
   "metadata": {},
   "outputs": [
    {
     "data": {
      "text/html": [
       "15"
      ],
      "text/latex": [
       "15"
      ],
      "text/markdown": [
       "15"
      ],
      "text/plain": [
       "[1] 15"
      ]
     },
     "metadata": {},
     "output_type": "display_data"
    },
    {
     "data": {
      "text/html": [
       "9261"
      ],
      "text/latex": [
       "9261"
      ],
      "text/markdown": [
       "9261"
      ],
      "text/plain": [
       "[1] 9261"
      ]
     },
     "metadata": {},
     "output_type": "display_data"
    }
   ],
   "source": [
    "# Fixed functions and results based on them - example of the weigthed average university grade\n",
    "# ==========================================\n",
    "x1 <- x2 <- x3 <- seq(10, 20, 0.5)\n",
    "pm <- expand.grid(x1, x2, x3)\n",
    "colnames(pm) <- c(\"x1\", \"x2\", \"x3\")\n",
    "mean(x1)\n",
    "nrow(pm)\n",
    "\n",
    "# Instances to compute the average and confirm explanations\n",
    "c <- data.frame(x1=10, x2=19, x3=15) #Paul - 15.2\n",
    "c1 <- data.frame(x1=15, x2=15, x3=15) #Average - y=15\n",
    "c2 <- data.frame(x1=20, x2=20, x3=20) #Maximum - y=20"
   ]
  },
  {
   "cell_type": "code",
   "execution_count": 15,
   "metadata": {},
   "outputs": [],
   "source": [
    "#create predictor\n",
    "pred_function <- function(model, data) predict(model, data)"
   ]
  },
  {
   "cell_type": "code",
   "execution_count": 44,
   "metadata": {},
   "outputs": [
    {
     "name": "stdout",
     "output_type": "stream",
     "text": [
      "[1] \"SHAP values for linear function with x1=10, x2=18, x3=15\"\n",
      "[1] \"x1: SHAP=-0.999999999999915\"\n",
      "[1] \"x2: SHAP=1.19999999999995\"\n",
      "[1] \"x3: SHAP=0\"\n"
     ]
    },
    {
     "data": {
      "image/png": "[encoded data removed]",
      "text/plain": [
       "plot without title"
      ]
     },
     "metadata": {},
     "output_type": "display_data"
    }
   ],
   "source": [
    "library(shapper)\n",
    "#Paul\n",
    "ive_lm <- individual_variable_effect(mod.lm, data = pm, predict_function = pred_function, new_observation = c, nsamples=100)\n",
    "print(\"SHAP values for linear function with x1=10, x2=18, x3=15\")\n",
    "for ( i in 1:ncol(pm) )\n",
    "  print(paste0(\"x\", i, \": SHAP=\", ive_lm[\"_attribution_\"][i,]))\n",
    "plot(ive_lm)"
   ]
  },
  {
   "cell_type": "code",
   "execution_count": 45,
   "metadata": {},
   "outputs": [
    {
     "name": "stdout",
     "output_type": "stream",
     "text": [
      "[1] \"SHAP values for linear function with x1=15, x2=15, x3=15\"\n",
      "[1] \"x1: SHAP=0\"\n",
      "[1] \"x2: SHAP=0\"\n",
      "[1] \"x3: SHAP=0\"\n",
      "[1] \"SHAP values for linear function with x1=20, x2=20, x3=20\"\n",
      "[1] \"x1: SHAP=1.00000000000007\"\n",
      "[1] \"x2: SHAP=1.50000000000002\"\n",
      "[1] \"x3: SHAP=2.49999999999991\"\n"
     ]
    }
   ],
   "source": [
    "#Average\n",
    "ive_lm <- individual_variable_effect(mod.lm, data = pm, predict_function = pred_function, new_observation = c1)\n",
    "print(\"SHAP values for linear function with x1=15, x2=15, x3=15\")\n",
    "for ( i in 1:ncol(pm) )\n",
    "  print(paste0(\"x\", i, \": SHAP=\", ive_lm[\"_attribution_\"][i,]))\n",
    "#Maximum\n",
    "print(\"SHAP values for linear function with x1=20, x2=20, x3=20\")\n",
    "ive_lm <- individual_variable_effect(mod.lm, data = pm, predict_function = pred_function, new_observation = c2)\n",
    "for ( i in 1:ncol(pm) )\n",
    "  print(paste0(\"x\", i, \": SHAP=\", ive_lm[\"_attribution_\"][i,]))"
   ]
  },
  {
   "cell_type": "code",
   "execution_count": 17,
   "metadata": {},
   "outputs": [],
   "source": [
    "source(\"Global.R\")\n",
    "library(shapper)"
   ]
  },
  {
   "cell_type": "code",
   "execution_count": 18,
   "metadata": {},
   "outputs": [
    {
     "data": {
      "text/plain": [
       "   user  system elapsed \n",
       "3289.44   33.58 3630.86 "
      ]
     },
     "metadata": {},
     "output_type": "display_data"
    }
   ],
   "source": [
    "# Compute global values for linear model;n.inst = 1000\n",
    "system.time(gShap.lm <- globalShap(mod.lm, pm, pred_function, ninst=1000))"
   ]
  },
  {
   "cell_type": "code",
   "execution_count": 19,
   "metadata": {
    "scrolled": true
   },
   "outputs": [
    {
     "data": {
      "text/html": [
       "<table>\n",
       "<thead><tr><th></th><th scope=col>phi</th><th scope=col>sd</th></tr></thead>\n",
       "<tbody>\n",
       "\t<tr><th scope=row>x1</th><td>0.2100628</td><td>0.1428386</td></tr>\n",
       "\t<tr><th scope=row>x2</th><td>0.3062214</td><td>0.1841722</td></tr>\n",
       "\t<tr><th scope=row>x3</th><td>0.4837111</td><td>0.2130596</td></tr>\n",
       "</tbody>\n",
       "</table>\n"
      ],
      "text/latex": [
       "\\begin{tabular}{r|ll}\n",
       "  & phi & sd\\\\\n",
       "\\hline\n",
       "\tx1 & 0.2100628 & 0.1428386\\\\\n",
       "\tx2 & 0.3062214 & 0.1841722\\\\\n",
       "\tx3 & 0.4837111 & 0.2130596\\\\\n",
       "\\end{tabular}\n"
      ],
      "text/markdown": [
       "\n",
       "| <!--/--> | phi | sd |\n",
       "|---|---|---|\n",
       "| x1 | 0.2100628 | 0.1428386 |\n",
       "| x2 | 0.3062214 | 0.1841722 |\n",
       "| x3 | 0.4837111 | 0.2130596 |\n",
       "\n"
      ],
      "text/plain": [
       "   phi       sd       \n",
       "x1 0.2100628 0.1428386\n",
       "x2 0.3062214 0.1841722\n",
       "x3 0.4837111 0.2130596"
      ]
     },
     "metadata": {},
     "output_type": "display_data"
    }
   ],
   "source": [
    "gShap.lm"
   ]
  },
  {
   "cell_type": "markdown",
   "metadata": {},
   "source": [
    "## Stability"
   ]
  },
  {
   "cell_type": "markdown",
   "metadata": {},
   "source": [
    "### Identity"
   ]
  },
  {
   "cell_type": "code",
   "execution_count": 16,
   "metadata": {
    "collapsed": true,
    "jupyter": {
     "outputs_hidden": true
    }
   },
   "outputs": [
    {
     "name": "stderr",
     "output_type": "stream",
     "text": [
      "Loading required package: lattice\n",
      "Loading required package: ggplot2\n",
      "\n",
      "Attaching package: 'ggplot2'\n",
      "\n",
      "The following object is masked from 'package:randomForest':\n",
      "\n",
      "    margin\n",
      "\n",
      "\n",
      "Attaching package: 'zoo'\n",
      "\n",
      "The following objects are masked from 'package:base':\n",
      "\n",
      "    as.Date, as.Date.numeric\n",
      "\n"
     ]
    }
   ],
   "source": [
    "source(\"Benchmark.R\")"
   ]
  },
  {
   "cell_type": "code",
   "execution_count": 18,
   "metadata": {},
   "outputs": [
    {
     "data": {
      "text/plain": [
       "   user  system elapsed \n",
       "  86.81    4.24  110.83 "
      ]
     },
     "metadata": {},
     "output_type": "display_data"
    }
   ],
   "source": [
    "library(shapper)\n",
    "system.time(shap_sens_lr <- identity(instance, pred_lr, model = lr.heartdisease, data = data_train, class.idx=2))"
   ]
  },
  {
   "cell_type": "code",
   "execution_count": 19,
   "metadata": {},
   "outputs": [
    {
     "data": {
      "text/html": [
       "0.06"
      ],
      "text/latex": [
       "0.06"
      ],
      "text/markdown": [
       "0.06"
      ],
      "text/plain": [
       "[1] 0.06"
      ]
     },
     "metadata": {},
     "output_type": "display_data"
    }
   ],
   "source": [
    "round(sens_result(shap_sens_lr),2)"
   ]
  },
  {
   "cell_type": "code",
   "execution_count": 20,
   "metadata": {},
   "outputs": [
    {
     "name": "stderr",
     "output_type": "stream",
     "text": [
      "Using method as id variables\n"
     ]
    },
    {
     "data": {
      "image/png": "[encoded data removed]",
      "text/plain": [
       "plot without title"
      ]
     },
     "metadata": {},
     "output_type": "display_data"
    }
   ],
   "source": [
    "shap_sens_lr$method <- \"shap\"\n",
    "sens_plot(shap_sens_lr)"
   ]
  },
  {
   "cell_type": "code",
   "execution_count": 21,
   "metadata": {},
   "outputs": [
    {
     "data": {
      "text/plain": [
       "   user  system elapsed \n",
       " 129.40    0.71  141.22 "
      ]
     },
     "metadata": {},
     "output_type": "display_data"
    }
   ],
   "source": [
    "system.time(shap_sens_rf <- identity(instance, pred_rf, model = rf.heartdisease, data = data_train, class.idx=2))"
   ]
  },
  {
   "cell_type": "code",
   "execution_count": 22,
   "metadata": {},
   "outputs": [
    {
     "data": {
      "text/html": [
       "0.06"
      ],
      "text/latex": [
       "0.06"
      ],
      "text/markdown": [
       "0.06"
      ],
      "text/plain": [
       "[1] 0.06"
      ]
     },
     "metadata": {},
     "output_type": "display_data"
    }
   ],
   "source": [
    "round(sens_result(shap_sens_rf),2)"
   ]
  },
  {
   "cell_type": "code",
   "execution_count": 23,
   "metadata": {},
   "outputs": [
    {
     "name": "stderr",
     "output_type": "stream",
     "text": [
      "Using method as id variables\n"
     ]
    },
    {
     "data": {
      "image/png": "[encoded data removed]",
      "text/plain": [
       "plot without title"
      ]
     },
     "metadata": {},
     "output_type": "display_data"
    }
   ],
   "source": [
    "shap_sens_rf$method <- \"shap\"\n",
    "sens_plot(shap_sens_rf)"
   ]
  },
  {
   "cell_type": "code",
   "execution_count": 24,
   "metadata": {},
   "outputs": [
    {
     "data": {
      "text/plain": [
       "   user  system elapsed \n",
       " 133.32    1.45  141.92 "
      ]
     },
     "metadata": {},
     "output_type": "display_data"
    }
   ],
   "source": [
    "system.time(shap_sens_svm <- identity(instance, pred_svm, model = svm.heartdisease, data = data_train, class.idx=2))"
   ]
  },
  {
   "cell_type": "code",
   "execution_count": 25,
   "metadata": {},
   "outputs": [
    {
     "data": {
      "text/html": [
       "0.05"
      ],
      "text/latex": [
       "0.05"
      ],
      "text/markdown": [
       "0.05"
      ],
      "text/plain": [
       "[1] 0.05"
      ]
     },
     "metadata": {},
     "output_type": "display_data"
    }
   ],
   "source": [
    "round(sens_result(shap_sens_svm),2)"
   ]
  },
  {
   "cell_type": "code",
   "execution_count": 27,
   "metadata": {},
   "outputs": [
    {
     "name": "stderr",
     "output_type": "stream",
     "text": [
      "Using method as id variables\n"
     ]
    },
    {
     "data": {
      "image/png": "[encoded data removed]",
      "text/plain": [
       "plot without title"
      ]
     },
     "metadata": {},
     "output_type": "display_data"
    }
   ],
   "source": [
    "shap_sens_svm$method <- \"shap\"\n",
    "sens_plot(shap_sens_svm)"
   ]
  },
  {
   "cell_type": "markdown",
   "metadata": {},
   "source": [
    "## Similarity"
   ]
  },
  {
   "cell_type": "code",
   "execution_count": 30,
   "metadata": {},
   "outputs": [],
   "source": [
    "neighbors_lr = find_neighbors(instance, data_train, lr.heartdisease, pred.func = pred_lr, mode = \"classification\", \n",
    "                           n.neighbors=2, class.idx = 2) \n",
    "neighbors_rf = find_neighbors(instance, data_train, rf.heartdisease, pred.func = pred_rf, mode = \"classification\", \n",
    "                           n.neighbors=5, class.idx = 2) \n",
    "neighbors_svm = find_neighbors(instance, data_train, svm.heartdisease, pred.func = pred_svm, mode = \"classification\", \n",
    "                           n.neighbors=2, class.idx = 2) "
   ]
  },
  {
   "cell_type": "code",
   "execution_count": 32,
   "metadata": {},
   "outputs": [
    {
     "data": {
      "text/html": [
       "<table>\n",
       "<thead><tr><th scope=col>Age</th><th scope=col>Sex</th><th scope=col>ChestPainType</th><th scope=col>RestingBP</th><th scope=col>Cholesterol</th><th scope=col>FastingBS</th><th scope=col>RestingECG</th><th scope=col>MaxHR</th><th scope=col>ExerciseAngina</th><th scope=col>Oldpeak</th><th scope=col>ST_Slope</th><th scope=col>dist</th><th scope=col>pred</th></tr></thead>\n",
       "<tbody>\n",
       "\t<tr><td>57        </td><td>M         </td><td>ATA       </td><td>140       </td><td>265       </td><td>0         </td><td>ST        </td><td>145       </td><td>Y         </td><td>1.0       </td><td>Flat      </td><td>0.00000000</td><td>0.8971121 </td></tr>\n",
       "\t<tr><td>58        </td><td>M         </td><td>ATA       </td><td>136       </td><td>164       </td><td>0         </td><td>ST        </td><td> 99       </td><td>Y         </td><td>2.0       </td><td>Flat      </td><td>0.09340672</td><td>0.9121764 </td></tr>\n",
       "\t<tr><td>58        </td><td>M         </td><td>NAP       </td><td>137       </td><td>232       </td><td>0         </td><td>ST        </td><td>124       </td><td>Y         </td><td>1.4       </td><td>Flat      </td><td>0.13064384</td><td>0.8798940 </td></tr>\n",
       "</tbody>\n",
       "</table>\n"
      ],
      "text/latex": [
       "\\begin{tabular}{r|lllllllllllll}\n",
       " Age & Sex & ChestPainType & RestingBP & Cholesterol & FastingBS & RestingECG & MaxHR & ExerciseAngina & Oldpeak & ST\\_Slope & dist & pred\\\\\n",
       "\\hline\n",
       "\t 57         & M          & ATA        & 140        & 265        & 0          & ST         & 145        & Y          & 1.0        & Flat       & 0.00000000 & 0.8971121 \\\\\n",
       "\t 58         & M          & ATA        & 136        & 164        & 0          & ST         &  99        & Y          & 2.0        & Flat       & 0.09340672 & 0.9121764 \\\\\n",
       "\t 58         & M          & NAP        & 137        & 232        & 0          & ST         & 124        & Y          & 1.4        & Flat       & 0.13064384 & 0.8798940 \\\\\n",
       "\\end{tabular}\n"
      ],
      "text/markdown": [
       "\n",
       "| Age | Sex | ChestPainType | RestingBP | Cholesterol | FastingBS | RestingECG | MaxHR | ExerciseAngina | Oldpeak | ST_Slope | dist | pred |\n",
       "|---|---|---|---|---|---|---|---|---|---|---|---|---|\n",
       "| 57         | M          | ATA        | 140        | 265        | 0          | ST         | 145        | Y          | 1.0        | Flat       | 0.00000000 | 0.8971121  |\n",
       "| 58         | M          | ATA        | 136        | 164        | 0          | ST         |  99        | Y          | 2.0        | Flat       | 0.09340672 | 0.9121764  |\n",
       "| 58         | M          | NAP        | 137        | 232        | 0          | ST         | 124        | Y          | 1.4        | Flat       | 0.13064384 | 0.8798940  |\n",
       "\n"
      ],
      "text/plain": [
       "  Age Sex ChestPainType RestingBP Cholesterol FastingBS RestingECG MaxHR\n",
       "1 57  M   ATA           140       265         0         ST         145  \n",
       "2 58  M   ATA           136       164         0         ST          99  \n",
       "3 58  M   NAP           137       232         0         ST         124  \n",
       "  ExerciseAngina Oldpeak ST_Slope dist       pred     \n",
       "1 Y              1.0     Flat     0.00000000 0.8971121\n",
       "2 Y              2.0     Flat     0.09340672 0.9121764\n",
       "3 Y              1.4     Flat     0.13064384 0.8798940"
      ]
     },
     "metadata": {},
     "output_type": "display_data"
    },
    {
     "data": {
      "text/html": [
       "<table>\n",
       "<thead><tr><th></th><th scope=col>Age</th><th scope=col>Sex</th><th scope=col>ChestPainType</th><th scope=col>RestingBP</th><th scope=col>Cholesterol</th><th scope=col>FastingBS</th><th scope=col>RestingECG</th><th scope=col>MaxHR</th><th scope=col>ExerciseAngina</th><th scope=col>Oldpeak</th><th scope=col>ST_Slope</th><th scope=col>dist</th><th scope=col>pred</th></tr></thead>\n",
       "<tbody>\n",
       "\t<tr><th scope=row>1</th><td>57        </td><td>M         </td><td>ATA       </td><td>140       </td><td>265       </td><td>0         </td><td>ST        </td><td>145       </td><td>Y         </td><td>1.0       </td><td>Flat      </td><td>0.00000000</td><td>0.850     </td></tr>\n",
       "\t<tr><th scope=row>2</th><td>58        </td><td>M         </td><td>ATA       </td><td>136       </td><td>164       </td><td>0         </td><td>ST        </td><td> 99       </td><td>Y         </td><td>2.0       </td><td>Flat      </td><td>0.09340672</td><td>0.934     </td></tr>\n",
       "\t<tr><th scope=row>5</th><td>63        </td><td>M         </td><td>ATA       </td><td>139       </td><td>217       </td><td>1         </td><td>ST        </td><td>128       </td><td>Y         </td><td>1.2       </td><td>Flat      </td><td>0.13417599</td><td>0.944     </td></tr>\n",
       "</tbody>\n",
       "</table>\n"
      ],
      "text/latex": [
       "\\begin{tabular}{r|lllllllllllll}\n",
       "  & Age & Sex & ChestPainType & RestingBP & Cholesterol & FastingBS & RestingECG & MaxHR & ExerciseAngina & Oldpeak & ST\\_Slope & dist & pred\\\\\n",
       "\\hline\n",
       "\t1 & 57         & M          & ATA        & 140        & 265        & 0          & ST         & 145        & Y          & 1.0        & Flat       & 0.00000000 & 0.850     \\\\\n",
       "\t2 & 58         & M          & ATA        & 136        & 164        & 0          & ST         &  99        & Y          & 2.0        & Flat       & 0.09340672 & 0.934     \\\\\n",
       "\t5 & 63         & M          & ATA        & 139        & 217        & 1          & ST         & 128        & Y          & 1.2        & Flat       & 0.13417599 & 0.944     \\\\\n",
       "\\end{tabular}\n"
      ],
      "text/markdown": [
       "\n",
       "| <!--/--> | Age | Sex | ChestPainType | RestingBP | Cholesterol | FastingBS | RestingECG | MaxHR | ExerciseAngina | Oldpeak | ST_Slope | dist | pred |\n",
       "|---|---|---|---|---|---|---|---|---|---|---|---|---|---|\n",
       "| 1 | 57         | M          | ATA        | 140        | 265        | 0          | ST         | 145        | Y          | 1.0        | Flat       | 0.00000000 | 0.850      |\n",
       "| 2 | 58         | M          | ATA        | 136        | 164        | 0          | ST         |  99        | Y          | 2.0        | Flat       | 0.09340672 | 0.934      |\n",
       "| 5 | 63         | M          | ATA        | 139        | 217        | 1          | ST         | 128        | Y          | 1.2        | Flat       | 0.13417599 | 0.944      |\n",
       "\n"
      ],
      "text/plain": [
       "  Age Sex ChestPainType RestingBP Cholesterol FastingBS RestingECG MaxHR\n",
       "1 57  M   ATA           140       265         0         ST         145  \n",
       "2 58  M   ATA           136       164         0         ST          99  \n",
       "5 63  M   ATA           139       217         1         ST         128  \n",
       "  ExerciseAngina Oldpeak ST_Slope dist       pred \n",
       "1 Y              1.0     Flat     0.00000000 0.850\n",
       "2 Y              2.0     Flat     0.09340672 0.934\n",
       "5 Y              1.2     Flat     0.13417599 0.944"
      ]
     },
     "metadata": {},
     "output_type": "display_data"
    },
    {
     "data": {
      "text/html": [
       "<table>\n",
       "<thead><tr><th scope=col>Age</th><th scope=col>Sex</th><th scope=col>ChestPainType</th><th scope=col>RestingBP</th><th scope=col>Cholesterol</th><th scope=col>FastingBS</th><th scope=col>RestingECG</th><th scope=col>MaxHR</th><th scope=col>ExerciseAngina</th><th scope=col>Oldpeak</th><th scope=col>ST_Slope</th><th scope=col>dist</th><th scope=col>pred</th></tr></thead>\n",
       "<tbody>\n",
       "\t<tr><td>57        </td><td>M         </td><td>ATA       </td><td>140       </td><td>265       </td><td>0         </td><td>ST        </td><td>145       </td><td>Y         </td><td>1.0       </td><td>Flat      </td><td>0.00000000</td><td>0.8841126 </td></tr>\n",
       "\t<tr><td>58        </td><td>M         </td><td>ATA       </td><td>136       </td><td>164       </td><td>0         </td><td>ST        </td><td> 99       </td><td>Y         </td><td>2.0       </td><td>Flat      </td><td>0.09340672</td><td>0.9335211 </td></tr>\n",
       "\t<tr><td>58        </td><td>M         </td><td>NAP       </td><td>137       </td><td>232       </td><td>0         </td><td>ST        </td><td>124       </td><td>Y         </td><td>1.4       </td><td>Flat      </td><td>0.13064384</td><td>0.9275228 </td></tr>\n",
       "</tbody>\n",
       "</table>\n"
      ],
      "text/latex": [
       "\\begin{tabular}{r|lllllllllllll}\n",
       " Age & Sex & ChestPainType & RestingBP & Cholesterol & FastingBS & RestingECG & MaxHR & ExerciseAngina & Oldpeak & ST\\_Slope & dist & pred\\\\\n",
       "\\hline\n",
       "\t 57         & M          & ATA        & 140        & 265        & 0          & ST         & 145        & Y          & 1.0        & Flat       & 0.00000000 & 0.8841126 \\\\\n",
       "\t 58         & M          & ATA        & 136        & 164        & 0          & ST         &  99        & Y          & 2.0        & Flat       & 0.09340672 & 0.9335211 \\\\\n",
       "\t 58         & M          & NAP        & 137        & 232        & 0          & ST         & 124        & Y          & 1.4        & Flat       & 0.13064384 & 0.9275228 \\\\\n",
       "\\end{tabular}\n"
      ],
      "text/markdown": [
       "\n",
       "| Age | Sex | ChestPainType | RestingBP | Cholesterol | FastingBS | RestingECG | MaxHR | ExerciseAngina | Oldpeak | ST_Slope | dist | pred |\n",
       "|---|---|---|---|---|---|---|---|---|---|---|---|---|\n",
       "| 57         | M          | ATA        | 140        | 265        | 0          | ST         | 145        | Y          | 1.0        | Flat       | 0.00000000 | 0.8841126  |\n",
       "| 58         | M          | ATA        | 136        | 164        | 0          | ST         |  99        | Y          | 2.0        | Flat       | 0.09340672 | 0.9335211  |\n",
       "| 58         | M          | NAP        | 137        | 232        | 0          | ST         | 124        | Y          | 1.4        | Flat       | 0.13064384 | 0.9275228  |\n",
       "\n"
      ],
      "text/plain": [
       "  Age Sex ChestPainType RestingBP Cholesterol FastingBS RestingECG MaxHR\n",
       "1 57  M   ATA           140       265         0         ST         145  \n",
       "2 58  M   ATA           136       164         0         ST          99  \n",
       "3 58  M   NAP           137       232         0         ST         124  \n",
       "  ExerciseAngina Oldpeak ST_Slope dist       pred     \n",
       "1 Y              1.0     Flat     0.00000000 0.8841126\n",
       "2 Y              2.0     Flat     0.09340672 0.9335211\n",
       "3 Y              1.4     Flat     0.13064384 0.9275228"
      ]
     },
     "metadata": {},
     "output_type": "display_data"
    }
   ],
   "source": [
    "neighbors_lr\n",
    "neighbors_rf\n",
    "neighbors_svm"
   ]
  },
  {
   "cell_type": "code",
   "execution_count": 31,
   "metadata": {},
   "outputs": [
    {
     "data": {
      "text/html": [
       "2"
      ],
      "text/latex": [
       "2"
      ],
      "text/markdown": [
       "2"
      ],
      "text/plain": [
       "[1] 2"
      ]
     },
     "metadata": {},
     "output_type": "display_data"
    },
    {
     "data": {
      "text/html": [
       "2"
      ],
      "text/latex": [
       "2"
      ],
      "text/markdown": [
       "2"
      ],
      "text/plain": [
       "[1] 2"
      ]
     },
     "metadata": {},
     "output_type": "display_data"
    },
    {
     "data": {
      "text/html": [
       "2"
      ],
      "text/latex": [
       "2"
      ],
      "text/markdown": [
       "2"
      ],
      "text/plain": [
       "[1] 2"
      ]
     },
     "metadata": {},
     "output_type": "display_data"
    }
   ],
   "source": [
    "nrow(neighbors_lr)-1\n",
    "nrow(neighbors_rf)-1\n",
    "nrow(neighbors_svm)-1"
   ]
  },
  {
   "cell_type": "code",
   "execution_count": 33,
   "metadata": {},
   "outputs": [
    {
     "name": "stdout",
     "output_type": "stream",
     "text": [
      "[1] \"Similarity analysis...\"\n"
     ]
    },
    {
     "data": {
      "text/plain": [
       "   user  system elapsed \n",
       "   3.87    0.00    3.92 "
      ]
     },
     "metadata": {},
     "output_type": "display_data"
    },
    {
     "name": "stdout",
     "output_type": "stream",
     "text": [
      "[1] \"Similarity analysis...\"\n"
     ]
    },
    {
     "data": {
      "text/plain": [
       "   user  system elapsed \n",
       "   7.68    0.05    7.93 "
      ]
     },
     "metadata": {},
     "output_type": "display_data"
    },
    {
     "name": "stdout",
     "output_type": "stream",
     "text": [
      "[1] \"Similarity analysis...\"\n"
     ]
    },
    {
     "data": {
      "text/plain": [
       "   user  system elapsed \n",
       "   8.00    0.11    8.45 "
      ]
     },
     "metadata": {},
     "output_type": "display_data"
    }
   ],
   "source": [
    "library(shapper)\n",
    "system.time(shap_sens_lr <- similarity(neighbors_lr, pred_lr, model = lr.heartdisease, data = data_train, class.idx=2))\n",
    "system.time(shap_sens_rf <- similarity(neighbors_rf, pred_rf, model = rf.heartdisease, data = data_train,  class.idx=2))\n",
    "system.time(shap_sens_svm <- similarity(neighbors_svm, pred_svm, model = svm.heartdisease, data = data_train,  class.idx=2))"
   ]
  },
  {
   "cell_type": "code",
   "execution_count": 34,
   "metadata": {},
   "outputs": [
    {
     "data": {
      "text/html": [
       "0.25"
      ],
      "text/latex": [
       "0.25"
      ],
      "text/markdown": [
       "0.25"
      ],
      "text/plain": [
       "[1] 0.25"
      ]
     },
     "metadata": {},
     "output_type": "display_data"
    },
    {
     "data": {
      "text/html": [
       "0.28"
      ],
      "text/latex": [
       "0.28"
      ],
      "text/markdown": [
       "0.28"
      ],
      "text/plain": [
       "[1] 0.28"
      ]
     },
     "metadata": {},
     "output_type": "display_data"
    },
    {
     "data": {
      "text/html": [
       "0.38"
      ],
      "text/latex": [
       "0.38"
      ],
      "text/markdown": [
       "0.38"
      ],
      "text/plain": [
       "[1] 0.38"
      ]
     },
     "metadata": {},
     "output_type": "display_data"
    }
   ],
   "source": [
    "round(sens_result(shap_sens_lr),2)\n",
    "round(sens_result(shap_sens_rf),2)\n",
    "round(sens_result(shap_sens_svm),2)"
   ]
  },
  {
   "cell_type": "code",
   "execution_count": 35,
   "metadata": {},
   "outputs": [
    {
     "name": "stderr",
     "output_type": "stream",
     "text": [
      "Using method as id variables\n",
      "Using method as id variables\n"
     ]
    },
    {
     "data": {
      "image/png": "[encoded data removed]",
      "text/plain": [
       "plot without title"
      ]
     },
     "metadata": {},
     "output_type": "display_data"
    },
    {
     "name": "stderr",
     "output_type": "stream",
     "text": [
      "Using method as id variables\n"
     ]
    },
    {
     "data": {
      "image/png": "[encoded data removed]",
      "text/plain": [
       "plot without title"
      ]
     },
     "metadata": {},
     "output_type": "display_data"
    },
    {
     "data": {
      "image/png": "[encoded data removed]",
      "text/plain": [
       "plot without title"
      ]
     },
     "metadata": {},
     "output_type": "display_data"
    }
   ],
   "source": [
    "shap_sens_lr$method <- \"shap\"\n",
    "sens_plot(shap_sens_lr)\n",
    "shap_sens_rf$method <- \"shap\"\n",
    "sens_plot(shap_sens_rf)\n",
    "shap_sens_svm$method <- \"shap\"\n",
    "sens_plot(shap_sens_svm)"
   ]
  },
  {
   "cell_type": "code",
   "execution_count": 37,
   "metadata": {},
   "outputs": [
    {
     "data": {
      "image/png": "[encoded data removed]",
      "text/plain": [
       "plot without title"
      ]
     },
     "metadata": {},
     "output_type": "display_data"
    },
    {
     "data": {
      "image/png": "[encoded data removed]",
      "text/plain": [
       "plot without title"
      ]
     },
     "metadata": {},
     "output_type": "display_data"
    },
    {
     "data": {
      "image/png": "[encoded data removed]",
      "text/plain": [
       "plot without title"
      ]
     },
     "metadata": {},
     "output_type": "display_data"
    }
   ],
   "source": [
    "#plot explanations for closest neighbors (top 2)\n",
    "ive <- individual_variable_effect(lr.heartdisease, data = data_train, \n",
    "                                  predict_function = pred_lr,new_observation = neighbors_lr[1,1:11], nsamples=100)\n",
    "ive_filtered <- dplyr::filter(ive, `_ylevel_` == \"C1\")\n",
    "shapper:::plot.individual_variable_effect(ive_filtered)\n",
    "ive1 <- individual_variable_effect(lr.heartdisease, data = data_train, \n",
    "                                  predict_function = pred_lr,new_observation = neighbors_lr[2,1:11], nsamples=100)\n",
    "ive_filtered1 <- dplyr::filter(ive1, `_ylevel_` == \"C1\")\n",
    "shapper:::plot.individual_variable_effect(ive_filtered1)\n",
    "ive2 <- individual_variable_effect(lr.heartdisease, data = data_train, \n",
    "                                  predict_function = pred_lr,new_observation = neighbors_lr[3,1:11], nsamples=100)\n",
    "ive_filtered2 <- dplyr::filter(ive2, `_ylevel_` == \"C1\")\n",
    "shapper:::plot.individual_variable_effect(ive_filtered2)"
   ]
  }
 ],
 "metadata": {
  "kernelspec": {
   "display_name": "R",
   "language": "R",
   "name": "ir"
  },
  "language_info": {
   "codemirror_mode": "r",
   "file_extension": ".r",
   "mimetype": "text/x-r-source",
   "name": "R",
   "pygments_lexer": "r",
   "version": "4.2.1"
  }
 },
 "nbformat": 4,
 "nbformat_minor": 4
}
